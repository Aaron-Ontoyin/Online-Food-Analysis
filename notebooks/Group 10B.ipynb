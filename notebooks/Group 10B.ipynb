{
 "cells": [
  {
   "cell_type": "markdown",
   "metadata": {},
   "source": [
    "# AI IN ENGINEERING, EL 367\n",
    "## End of Semester Project: Online Food Data Analysis\n",
    "### Group 10B"
   ]
  },
  {
   "cell_type": "markdown",
   "metadata": {},
   "source": [
    "This project is the windup of the semester's work by Group 10B, EL3, UMaT class of 2024. Our objective was to apply our knowledge of Artificial Intelligence to a practical use case involving online food data.\n",
    "\n",
    "We have developed a comprehensive full-stack web application that enables users to explore the food data in depth. Additionally, our application can predict whether a customer review is positive or negative.\n",
    "\n",
    "The complete source code and documentation for this project are available in our [GitHub repository](https://github.com/Aaron-Ontoyin/Online-Food-Analysis).\n",
    "\n",
    "This project is supervised by Mr. Kobina Abaka Painstail, a lecturer at the University of Mines and Technology, Tarkwa, Ghana.\n",
    "\n",
    "<h4 style=\"color: #ffff00;\">Experience our Project</h4>\n",
    "\n",
    "To fully experience the functionality of our project, please visit our [project's website](https://online-food-analysis.streamlit.app/)."
   ]
  },
  {
   "cell_type": "markdown",
   "metadata": {},
   "source": [
    "### Group Members\n",
    "- FOE.41.006.205.21 WUSAH, Mahama\n",
    "- FOE.41.006.206.21 YAHAYA, Hudu\n",
    "- FOE.41.006.207.21 YALLEY, Emmanuel Kobina\n",
    "- FOE.41.006.208.21 YAMOAH, Emmanuel\n",
    "- FOE.41.006.209.21 YAMOAH-ASANTE, Michael Papa Kwadwo\n",
    "- FOE.41.006.210.21 YIN, Aaron Ontoyin\n",
    "- FOE.41.006.211.21 YIRENKYI, Juliet Mante (Miss)\n",
    "- FOE.41.006.212.21 YOPAAL, Christopher\n",
    "- FOE.41.006.213.21 ZAKARIYYA, Firdaus Nebia (Miss)\n",
    "- FOE.41.006.214.21 ZONG, Bernard Ndeng-Bangme\n",
    "- BS422100920 ADU, Louis Kofi Seyram"
   ]
  },
  {
   "cell_type": "markdown",
   "metadata": {},
   "source": [
    "<h4 style=\"color: aliceblue\">This notebook acts as a codebase for the entire project, highlighting all the important lines and functions as below.</h4>"
   ]
  },
  {
   "cell_type": "markdown",
   "metadata": {},
   "source": [
    "<h2 style=\"color: #bbccff; text-decoration: underline\">Data Exploration</h2>"
   ]
  },
  {
   "cell_type": "markdown",
   "metadata": {},
   "source": [
    "Libraries Importaion"
   ]
  },
  {
   "cell_type": "code",
   "execution_count": 1,
   "metadata": {},
   "outputs": [],
   "source": [
    "import pandas as pd\n",
    "import plotly.express as px\n",
    "from plotly.figure_factory import create_distplot\n",
    "import plotly.graph_objs as go"
   ]
  },
  {
   "cell_type": "markdown",
   "metadata": {},
   "source": [
    "Data Loading"
   ]
  },
  {
   "cell_type": "code",
   "execution_count": 2,
   "metadata": {},
   "outputs": [
    {
     "data": {
      "text/html": [
       "<div>\n",
       "<style scoped>\n",
       "    .dataframe tbody tr th:only-of-type {\n",
       "        vertical-align: middle;\n",
       "    }\n",
       "\n",
       "    .dataframe tbody tr th {\n",
       "        vertical-align: top;\n",
       "    }\n",
       "\n",
       "    .dataframe thead th {\n",
       "        text-align: right;\n",
       "    }\n",
       "</style>\n",
       "<table border=\"1\" class=\"dataframe\">\n",
       "  <thead>\n",
       "    <tr style=\"text-align: right;\">\n",
       "      <th></th>\n",
       "      <th>Age</th>\n",
       "      <th>Gender</th>\n",
       "      <th>Marital Status</th>\n",
       "      <th>Occupation</th>\n",
       "      <th>Monthly Income</th>\n",
       "      <th>Educational Qualifications</th>\n",
       "      <th>Family size</th>\n",
       "      <th>latitude</th>\n",
       "      <th>longitude</th>\n",
       "      <th>Pin code</th>\n",
       "      <th>Output</th>\n",
       "      <th>Feedback</th>\n",
       "      <th>Unnamed: 12</th>\n",
       "    </tr>\n",
       "  </thead>\n",
       "  <tbody>\n",
       "    <tr>\n",
       "      <th>0</th>\n",
       "      <td>20</td>\n",
       "      <td>Female</td>\n",
       "      <td>Single</td>\n",
       "      <td>Student</td>\n",
       "      <td>No Income</td>\n",
       "      <td>Post Graduate</td>\n",
       "      <td>4</td>\n",
       "      <td>12.9766</td>\n",
       "      <td>77.5993</td>\n",
       "      <td>560001</td>\n",
       "      <td>Yes</td>\n",
       "      <td>Positive</td>\n",
       "      <td>Yes</td>\n",
       "    </tr>\n",
       "    <tr>\n",
       "      <th>1</th>\n",
       "      <td>24</td>\n",
       "      <td>Female</td>\n",
       "      <td>Single</td>\n",
       "      <td>Student</td>\n",
       "      <td>Below Rs.10000</td>\n",
       "      <td>Graduate</td>\n",
       "      <td>3</td>\n",
       "      <td>12.9770</td>\n",
       "      <td>77.5773</td>\n",
       "      <td>560009</td>\n",
       "      <td>Yes</td>\n",
       "      <td>Positive</td>\n",
       "      <td>Yes</td>\n",
       "    </tr>\n",
       "    <tr>\n",
       "      <th>2</th>\n",
       "      <td>22</td>\n",
       "      <td>Male</td>\n",
       "      <td>Single</td>\n",
       "      <td>Student</td>\n",
       "      <td>Below Rs.10000</td>\n",
       "      <td>Post Graduate</td>\n",
       "      <td>3</td>\n",
       "      <td>12.9551</td>\n",
       "      <td>77.6593</td>\n",
       "      <td>560017</td>\n",
       "      <td>Yes</td>\n",
       "      <td>Negative</td>\n",
       "      <td>Yes</td>\n",
       "    </tr>\n",
       "    <tr>\n",
       "      <th>3</th>\n",
       "      <td>22</td>\n",
       "      <td>Female</td>\n",
       "      <td>Single</td>\n",
       "      <td>Student</td>\n",
       "      <td>No Income</td>\n",
       "      <td>Graduate</td>\n",
       "      <td>6</td>\n",
       "      <td>12.9473</td>\n",
       "      <td>77.5616</td>\n",
       "      <td>560019</td>\n",
       "      <td>Yes</td>\n",
       "      <td>Positive</td>\n",
       "      <td>Yes</td>\n",
       "    </tr>\n",
       "    <tr>\n",
       "      <th>4</th>\n",
       "      <td>22</td>\n",
       "      <td>Male</td>\n",
       "      <td>Single</td>\n",
       "      <td>Student</td>\n",
       "      <td>Below Rs.10000</td>\n",
       "      <td>Post Graduate</td>\n",
       "      <td>4</td>\n",
       "      <td>12.9850</td>\n",
       "      <td>77.5533</td>\n",
       "      <td>560010</td>\n",
       "      <td>Yes</td>\n",
       "      <td>Positive</td>\n",
       "      <td>Yes</td>\n",
       "    </tr>\n",
       "  </tbody>\n",
       "</table>\n",
       "</div>"
      ],
      "text/plain": [
       "   Age  Gender Marital Status Occupation  Monthly Income  \\\n",
       "0   20  Female         Single    Student       No Income   \n",
       "1   24  Female         Single    Student  Below Rs.10000   \n",
       "2   22    Male         Single    Student  Below Rs.10000   \n",
       "3   22  Female         Single    Student       No Income   \n",
       "4   22    Male         Single    Student  Below Rs.10000   \n",
       "\n",
       "  Educational Qualifications  Family size  latitude  longitude  Pin code  \\\n",
       "0              Post Graduate            4   12.9766    77.5993    560001   \n",
       "1                   Graduate            3   12.9770    77.5773    560009   \n",
       "2              Post Graduate            3   12.9551    77.6593    560017   \n",
       "3                   Graduate            6   12.9473    77.5616    560019   \n",
       "4              Post Graduate            4   12.9850    77.5533    560010   \n",
       "\n",
       "  Output   Feedback Unnamed: 12  \n",
       "0    Yes   Positive         Yes  \n",
       "1    Yes   Positive         Yes  \n",
       "2    Yes  Negative          Yes  \n",
       "3    Yes   Positive         Yes  \n",
       "4    Yes   Positive         Yes  "
      ]
     },
     "execution_count": 2,
     "metadata": {},
     "output_type": "execute_result"
    }
   ],
   "source": [
    "df = pd.read_csv('../dataset/onlinefoods.csv') # Change the path to the data according to the dir structure of your computer\n",
    "df.head()"
   ]
  },
  {
   "cell_type": "markdown",
   "metadata": {},
   "source": [
    "Drop unneccessary columns: `Unamed: 12` and `Pin code`. `Pin code` is just an ID"
   ]
  },
  {
   "cell_type": "code",
   "execution_count": 3,
   "metadata": {},
   "outputs": [
    {
     "data": {
      "text/html": [
       "<div>\n",
       "<style scoped>\n",
       "    .dataframe tbody tr th:only-of-type {\n",
       "        vertical-align: middle;\n",
       "    }\n",
       "\n",
       "    .dataframe tbody tr th {\n",
       "        vertical-align: top;\n",
       "    }\n",
       "\n",
       "    .dataframe thead th {\n",
       "        text-align: right;\n",
       "    }\n",
       "</style>\n",
       "<table border=\"1\" class=\"dataframe\">\n",
       "  <thead>\n",
       "    <tr style=\"text-align: right;\">\n",
       "      <th></th>\n",
       "      <th>Age</th>\n",
       "      <th>Gender</th>\n",
       "      <th>Marital Status</th>\n",
       "      <th>Occupation</th>\n",
       "      <th>Monthly Income</th>\n",
       "      <th>Educational Qualifications</th>\n",
       "      <th>Family size</th>\n",
       "      <th>latitude</th>\n",
       "      <th>longitude</th>\n",
       "      <th>Output</th>\n",
       "      <th>Feedback</th>\n",
       "    </tr>\n",
       "  </thead>\n",
       "  <tbody>\n",
       "    <tr>\n",
       "      <th>383</th>\n",
       "      <td>23</td>\n",
       "      <td>Female</td>\n",
       "      <td>Single</td>\n",
       "      <td>Student</td>\n",
       "      <td>No Income</td>\n",
       "      <td>Post Graduate</td>\n",
       "      <td>2</td>\n",
       "      <td>12.9766</td>\n",
       "      <td>77.5993</td>\n",
       "      <td>Yes</td>\n",
       "      <td>Positive</td>\n",
       "    </tr>\n",
       "    <tr>\n",
       "      <th>384</th>\n",
       "      <td>23</td>\n",
       "      <td>Female</td>\n",
       "      <td>Single</td>\n",
       "      <td>Student</td>\n",
       "      <td>No Income</td>\n",
       "      <td>Post Graduate</td>\n",
       "      <td>4</td>\n",
       "      <td>12.9854</td>\n",
       "      <td>77.7081</td>\n",
       "      <td>Yes</td>\n",
       "      <td>Positive</td>\n",
       "    </tr>\n",
       "    <tr>\n",
       "      <th>385</th>\n",
       "      <td>22</td>\n",
       "      <td>Female</td>\n",
       "      <td>Single</td>\n",
       "      <td>Student</td>\n",
       "      <td>No Income</td>\n",
       "      <td>Post Graduate</td>\n",
       "      <td>5</td>\n",
       "      <td>12.9850</td>\n",
       "      <td>77.5533</td>\n",
       "      <td>Yes</td>\n",
       "      <td>Positive</td>\n",
       "    </tr>\n",
       "    <tr>\n",
       "      <th>386</th>\n",
       "      <td>23</td>\n",
       "      <td>Male</td>\n",
       "      <td>Single</td>\n",
       "      <td>Student</td>\n",
       "      <td>Below Rs.10000</td>\n",
       "      <td>Post Graduate</td>\n",
       "      <td>2</td>\n",
       "      <td>12.9770</td>\n",
       "      <td>77.5773</td>\n",
       "      <td>Yes</td>\n",
       "      <td>Positive</td>\n",
       "    </tr>\n",
       "    <tr>\n",
       "      <th>387</th>\n",
       "      <td>23</td>\n",
       "      <td>Male</td>\n",
       "      <td>Single</td>\n",
       "      <td>Student</td>\n",
       "      <td>No Income</td>\n",
       "      <td>Post Graduate</td>\n",
       "      <td>5</td>\n",
       "      <td>12.8988</td>\n",
       "      <td>77.5764</td>\n",
       "      <td>Yes</td>\n",
       "      <td>Positive</td>\n",
       "    </tr>\n",
       "  </tbody>\n",
       "</table>\n",
       "</div>"
      ],
      "text/plain": [
       "     Age  Gender Marital Status Occupation  Monthly Income  \\\n",
       "383   23  Female         Single    Student       No Income   \n",
       "384   23  Female         Single    Student       No Income   \n",
       "385   22  Female         Single    Student       No Income   \n",
       "386   23    Male         Single    Student  Below Rs.10000   \n",
       "387   23    Male         Single    Student       No Income   \n",
       "\n",
       "    Educational Qualifications  Family size  latitude  longitude Output  \\\n",
       "383              Post Graduate            2   12.9766    77.5993    Yes   \n",
       "384              Post Graduate            4   12.9854    77.7081    Yes   \n",
       "385              Post Graduate            5   12.9850    77.5533    Yes   \n",
       "386              Post Graduate            2   12.9770    77.5773    Yes   \n",
       "387              Post Graduate            5   12.8988    77.5764    Yes   \n",
       "\n",
       "     Feedback  \n",
       "383  Positive  \n",
       "384  Positive  \n",
       "385  Positive  \n",
       "386  Positive  \n",
       "387  Positive  "
      ]
     },
     "execution_count": 3,
     "metadata": {},
     "output_type": "execute_result"
    }
   ],
   "source": [
    "df.drop(columns = ['Pin code','Unnamed: 12'], axis = 1, inplace = True)\n",
    "df.tail() # last 5 rows. Just to see the data"
   ]
  },
  {
   "cell_type": "markdown",
   "metadata": {},
   "source": [
    "Let's see an overview of the data"
   ]
  },
  {
   "cell_type": "code",
   "execution_count": 4,
   "metadata": {},
   "outputs": [
    {
     "data": {
      "text/html": [
       "<div>\n",
       "<style scoped>\n",
       "    .dataframe tbody tr th:only-of-type {\n",
       "        vertical-align: middle;\n",
       "    }\n",
       "\n",
       "    .dataframe tbody tr th {\n",
       "        vertical-align: top;\n",
       "    }\n",
       "\n",
       "    .dataframe thead th {\n",
       "        text-align: right;\n",
       "    }\n",
       "</style>\n",
       "<table border=\"1\" class=\"dataframe\">\n",
       "  <thead>\n",
       "    <tr style=\"text-align: right;\">\n",
       "      <th></th>\n",
       "      <th>Age</th>\n",
       "      <th>Family size</th>\n",
       "      <th>latitude</th>\n",
       "      <th>longitude</th>\n",
       "    </tr>\n",
       "  </thead>\n",
       "  <tbody>\n",
       "    <tr>\n",
       "      <th>count</th>\n",
       "      <td>388.000000</td>\n",
       "      <td>388.000000</td>\n",
       "      <td>388.000000</td>\n",
       "      <td>388.000000</td>\n",
       "    </tr>\n",
       "    <tr>\n",
       "      <th>mean</th>\n",
       "      <td>24.628866</td>\n",
       "      <td>3.280928</td>\n",
       "      <td>12.972058</td>\n",
       "      <td>77.600160</td>\n",
       "    </tr>\n",
       "    <tr>\n",
       "      <th>std</th>\n",
       "      <td>2.975593</td>\n",
       "      <td>1.351025</td>\n",
       "      <td>0.044489</td>\n",
       "      <td>0.051354</td>\n",
       "    </tr>\n",
       "    <tr>\n",
       "      <th>min</th>\n",
       "      <td>18.000000</td>\n",
       "      <td>1.000000</td>\n",
       "      <td>12.865200</td>\n",
       "      <td>77.484200</td>\n",
       "    </tr>\n",
       "    <tr>\n",
       "      <th>25%</th>\n",
       "      <td>23.000000</td>\n",
       "      <td>2.000000</td>\n",
       "      <td>12.936900</td>\n",
       "      <td>77.565275</td>\n",
       "    </tr>\n",
       "    <tr>\n",
       "      <th>50%</th>\n",
       "      <td>24.000000</td>\n",
       "      <td>3.000000</td>\n",
       "      <td>12.977000</td>\n",
       "      <td>77.592100</td>\n",
       "    </tr>\n",
       "    <tr>\n",
       "      <th>75%</th>\n",
       "      <td>26.000000</td>\n",
       "      <td>4.000000</td>\n",
       "      <td>12.997025</td>\n",
       "      <td>77.630900</td>\n",
       "    </tr>\n",
       "    <tr>\n",
       "      <th>max</th>\n",
       "      <td>33.000000</td>\n",
       "      <td>6.000000</td>\n",
       "      <td>13.102000</td>\n",
       "      <td>77.758200</td>\n",
       "    </tr>\n",
       "  </tbody>\n",
       "</table>\n",
       "</div>"
      ],
      "text/plain": [
       "              Age  Family size    latitude   longitude\n",
       "count  388.000000   388.000000  388.000000  388.000000\n",
       "mean    24.628866     3.280928   12.972058   77.600160\n",
       "std      2.975593     1.351025    0.044489    0.051354\n",
       "min     18.000000     1.000000   12.865200   77.484200\n",
       "25%     23.000000     2.000000   12.936900   77.565275\n",
       "50%     24.000000     3.000000   12.977000   77.592100\n",
       "75%     26.000000     4.000000   12.997025   77.630900\n",
       "max     33.000000     6.000000   13.102000   77.758200"
      ]
     },
     "execution_count": 4,
     "metadata": {},
     "output_type": "execute_result"
    }
   ],
   "source": [
    "df.describe() # summary: statistics of numerical columns"
   ]
  },
  {
   "cell_type": "code",
   "execution_count": 5,
   "metadata": {},
   "outputs": [
    {
     "name": "stdout",
     "output_type": "stream",
     "text": [
      "<class 'pandas.core.frame.DataFrame'>\n",
      "RangeIndex: 388 entries, 0 to 387\n",
      "Data columns (total 11 columns):\n",
      " #   Column                      Non-Null Count  Dtype  \n",
      "---  ------                      --------------  -----  \n",
      " 0   Age                         388 non-null    int64  \n",
      " 1   Gender                      388 non-null    object \n",
      " 2   Marital Status              388 non-null    object \n",
      " 3   Occupation                  388 non-null    object \n",
      " 4   Monthly Income              388 non-null    object \n",
      " 5   Educational Qualifications  388 non-null    object \n",
      " 6   Family size                 388 non-null    int64  \n",
      " 7   latitude                    388 non-null    float64\n",
      " 8   longitude                   388 non-null    float64\n",
      " 9   Output                      388 non-null    object \n",
      " 10  Feedback                    388 non-null    object \n",
      "dtypes: float64(2), int64(2), object(7)\n",
      "memory usage: 33.5+ KB\n"
     ]
    }
   ],
   "source": [
    "df.info()"
   ]
  },
  {
   "cell_type": "markdown",
   "metadata": {},
   "source": [
    "There are no null values!"
   ]
  },
  {
   "cell_type": "markdown",
   "metadata": {},
   "source": [
    "We created 3 custom funtions for exploring the data\n",
    "- `unilabel_dist_plot`: For plotting graphs using a single column of the data. The following graphs apply: \"histogram\", \"bar chart\", \"boxplot\", \"violin chart\", \"kde plot\", \"pie\"\n",
    "- `bilable_dist_plot`: For plotting graphs using two columns of the data: The following graphs apply: \"bar\", \"boxplot\", \"violin chart\"\n",
    "- `multiabel_dist_plot`: For plotting graphs using 3, 4 or 5 columns of the data: Only histogram is allowed here."
   ]
  },
  {
   "cell_type": "code",
   "execution_count": 6,
   "metadata": {},
   "outputs": [],
   "source": [
    "from typing import Literal"
   ]
  },
  {
   "cell_type": "code",
   "execution_count": 39,
   "metadata": {},
   "outputs": [],
   "source": [
    "def unilabel_dist_plot(\n",
    "    label,\n",
    "    type_=Literal[\n",
    "        \"histogram\", \"bar chart\", \"boxplot\", \"violin chart\", \"kde plot\", \"pie chart\"\n",
    "    ],\n",
    ") -> go.Figure:\n",
    "    \"\"\"\n",
    "    Plots a distribution of the dataset.\n",
    "\n",
    "    Args\n",
    "        label: str\n",
    "            The column name to be plotted.\n",
    "        type_ (Literal[\"histogram\", \"bar chart\", \"boxplot\", \"violin chart\", \"kde plot\", \"pie\"]):\n",
    "            The type of plot to generate. Options are:\n",
    "            - \"histogram\": Generate a histogram plot.\n",
    "            - \"bar chart\": Generate a bar chart plot.\n",
    "            - \"boxplot\": Generate a boxplot plot.\n",
    "            - \"violin chart\": Generate a violin chart plot.\n",
    "            - \"kde plot\": Generate a kernel density estimation plot.\n",
    "            - \"pie\": Generate a pie chart plot.\n",
    "\n",
    "\n",
    "    Returns\n",
    "        fig: plotly.graph_objs.Figure\n",
    "            A plotly plot figure.\n",
    "    \"\"\"\n",
    "    fig = go.Figure()\n",
    "    yaxis_title = \"Count\"\n",
    "    xaxis_title = label\n",
    "\n",
    "    if type_ == \"histogram\":\n",
    "        fig.add_trace(go.Histogram(x=df[label]))\n",
    "    elif type_ == \"bar chart\":\n",
    "        fig.add_trace(\n",
    "            go.Bar(x=df[label].value_counts().index, y=df[label].value_counts().values)\n",
    "        )\n",
    "    elif type_ == \"boxplot\":\n",
    "        fig.add_trace(go.Box(y=df[label], boxmean=True))\n",
    "    elif type_ == \"violin chart\":\n",
    "        fig.add_trace(go.Violin(y=df[label], box_visible=True, meanline_visible=True))\n",
    "        yaxis_title = label\n",
    "        xaxis_title = \"\"\n",
    "    elif type_ == \"kde plot\":\n",
    "        if type(df[label].iloc[0]) == str:\n",
    "            return \"Cannot plot a KDE plot for a non-numeric column.\"\n",
    "        fig = create_distplot(\n",
    "            [df[label].dropna().values], group_labels=[label], show_hist=False\n",
    "        )\n",
    "        yaxis_title = \"Density\"\n",
    "    elif type_ == \"pie chart\":\n",
    "        fig.add_trace(\n",
    "            go.Pie(\n",
    "                labels=df[label].value_counts().index,\n",
    "                values=df[label].value_counts().values,\n",
    "            )\n",
    "        )\n",
    "        yaxis_title = \"\"\n",
    "        xaxis_title = \"\"\n",
    "    else:\n",
    "        raise ValueError(\n",
    "            \"Invalid type. It must be either 'histogram', 'bar chart', 'boxplot', 'violin chart', 'kde plot', or 'pie chart.\"\n",
    "        )\n",
    "\n",
    "    fig.update_layout(\n",
    "        title=f\"{type_.title()} of {label.title()} Distribution\",\n",
    "        xaxis_title=xaxis_title,\n",
    "        yaxis_title=yaxis_title,\n",
    "    )\n",
    "    return fig"
   ]
  },
  {
   "cell_type": "code",
   "execution_count": 19,
   "metadata": {},
   "outputs": [],
   "source": [
    "def bilable_dist_plot(\n",
    "    label1, label2, type_=Literal[\"bar\", \"boxplot\", \"violin chart\"]\n",
    ") -> go.Figure:\n",
    "    \"\"\"\n",
    "    Plots 2 labels againts each other from the dataset.\n",
    "\n",
    "    Args\n",
    "        label1: str\n",
    "            The first column name to be plotted.\n",
    "        label2: str\n",
    "            The second column name to be plotted.\n",
    "        type_: (Literal[\"boxplot\", \"violin chart\"])\n",
    "            The type of plot to generate.\n",
    "\n",
    "    Returns\n",
    "        fig: plotly.graph_objs.Figure\n",
    "            A plotly plot figure.\n",
    "    \"\"\"\n",
    "    fig = go.Figure()\n",
    "    xaxis_title = label1\n",
    "\n",
    "    if type_ == \"bar\":\n",
    "        fig = px.bar(df, x=label1, color=label2, barmode=\"group\")\n",
    "        yaxis_title = \"Count\"\n",
    "    elif type_ == \"boxplot\":\n",
    "        fig.add_trace(go.Box(x=df[label1], y=df[label2], boxmean=True))\n",
    "        yaxis_title = label2\n",
    "        xaxis_title = label1\n",
    "    elif type_ == \"violin chart\":\n",
    "        fig.add_trace(\n",
    "            go.Violin(\n",
    "                x=df[label1], y=df[label2], box_visible=True, meanline_visible=True\n",
    "            )\n",
    "        )\n",
    "        yaxis_title = label2\n",
    "        xaxis_title = label1\n",
    "    else:\n",
    "        raise ValueError(\n",
    "            \"Invalid type. It must be either 'bar', 'boxplot', or 'violin chart.\"\n",
    "        )\n",
    "    fig.update_layout(\n",
    "        title=f\"{type_.title()} of {label1.title()} vs {label2.title()}\",\n",
    "        xaxis_title=xaxis_title,\n",
    "        yaxis_title=yaxis_title,\n",
    "    )\n",
    "    return fig"
   ]
  },
  {
   "cell_type": "code",
   "execution_count": 28,
   "metadata": {},
   "outputs": [],
   "source": [
    "def multiabel_dist_plot(label1, label2, label3, label4=None, label5=None) -> go.Figure:\n",
    "    \"\"\"\n",
    "    Plots 3, 4 or 5 labels againts each other from the dataset.\n",
    "\n",
    "    Args\n",
    "        label1: str\n",
    "            The first column name to be plotted.\n",
    "        label2: str\n",
    "            The second column name to be plotted.\n",
    "        label3: str\n",
    "            The third column name to be plotted.\n",
    "        label4: str\n",
    "            The fourth column name to be plotted.\n",
    "        label5: str\n",
    "            The fifth column name to be plotted.\n",
    "\n",
    "    Returns\n",
    "        fig: plotly.graph_objs.Figure\n",
    "            A plotly plot figure.\n",
    "    \"\"\"\n",
    "\n",
    "    title = f\"{label1.title()} vs {label2.title()} vs {label3.title()}\"\n",
    "    if label4:\n",
    "        title = f\"{title} vs {label4.title()}\"\n",
    "    if label5:\n",
    "        title = f\"{title} vs {label5.title()}\"\n",
    "    fig = px.histogram(\n",
    "        df,\n",
    "        x=label1,\n",
    "        facet_row=label2,\n",
    "        facet_col=label3,\n",
    "        animation_frame=label4,\n",
    "        color=label5,\n",
    "        title=title,\n",
    "    )\n",
    "\n",
    "    return fig"
   ]
  },
  {
   "cell_type": "markdown",
   "metadata": {},
   "source": [
    "You can use the functions above to plot the distribution of the dataset and get more insigts.\n",
    "Multicolinarity is a situation where two or more features in a dataset are highly correlated. This can lead to overfitting in a machine learning model. You can use the functions to check for multicollinearity. This cannot affect our model that much since the data is small and our boosting algorithms can withstand it. So we won't be doing more exploration but these functions are available for easy explaration by anyone.\n",
    "See examples below:"
   ]
  },
  {
   "cell_type": "code",
   "execution_count": 129,
   "metadata": {},
   "outputs": [
    {
     "data": {
      "application/vnd.plotly.v1+json": {
       "config": {
        "plotlyServerURL": "https://plot.ly"
       },
       "data": [
        {
         "box": {
          "visible": true
         },
         "meanline": {
          "visible": true
         },
         "type": "violin",
         "y": [
          "Student",
          "Student",
          "Student",
          "Student",
          "Student",
          "Employee",
          "Student",
          "Student",
          "Student",
          "Student",
          "Student",
          "Student",
          "Student",
          "Student",
          "Self Employeed",
          "Student",
          "Employee",
          "Student",
          "Student",
          "Student",
          "Student",
          "Student",
          "Student",
          "Student",
          "Student",
          "Student",
          "Student",
          "Student",
          "Employee",
          "Student",
          "Employee",
          "Student",
          "Employee",
          "Student",
          "Student",
          "Student",
          "Student",
          "House wife",
          "Student",
          "Student",
          "Self Employeed",
          "Student",
          "Student",
          "Student",
          "Student",
          "Self Employeed",
          "Student",
          "Student",
          "Student",
          "Student",
          "Student",
          "Student",
          "Student",
          "Student",
          "Student",
          "Student",
          "Student",
          "Student",
          "Employee",
          "Student",
          "Student",
          "Student",
          "Student",
          "Student",
          "Student",
          "Student",
          "Employee",
          "Student",
          "Student",
          "Employee",
          "Student",
          "Student",
          "Student",
          "Student",
          "Student",
          "Student",
          "Student",
          "Student",
          "Student",
          "Student",
          "Student",
          "Student",
          "Student",
          "Student",
          "Student",
          "Student",
          "Student",
          "Student",
          "Student",
          "Self Employeed",
          "Employee",
          "Self Employeed",
          "Student",
          "Student",
          "Student",
          "Student",
          "Student",
          "Student",
          "Employee",
          "House wife",
          "Student",
          "Student",
          "Employee",
          "Student",
          "Employee",
          "Employee",
          "Employee",
          "Student",
          "Employee",
          "Student",
          "Student",
          "Student",
          "Student",
          "Student",
          "Employee",
          "Employee",
          "House wife",
          "Self Employeed",
          "Employee",
          "Employee",
          "Self Employeed",
          "Self Employeed",
          "Self Employeed",
          "Employee",
          "Self Employeed",
          "Self Employeed",
          "Student",
          "Student",
          "Student",
          "Student",
          "Employee",
          "Employee",
          "Student",
          "Student",
          "Student",
          "Employee",
          "Self Employeed",
          "Employee",
          "Employee",
          "Student",
          "Student",
          "Student",
          "Employee",
          "House wife",
          "Student",
          "Employee",
          "Student",
          "Student",
          "Employee",
          "Student",
          "Student",
          "Student",
          "Student",
          "Student",
          "Self Employeed",
          "Student",
          "Employee",
          "House wife",
          "Employee",
          "Student",
          "Student",
          "Employee",
          "Employee",
          "Employee",
          "Employee",
          "Employee",
          "Student",
          "Student",
          "Self Employeed",
          "Student",
          "Student",
          "Student",
          "Employee",
          "Student",
          "Employee",
          "Employee",
          "Student",
          "Self Employeed",
          "Employee",
          "Self Employeed",
          "Employee",
          "Student",
          "Employee",
          "Student",
          "House wife",
          "Employee",
          "Student",
          "Employee",
          "Employee",
          "Self Employeed",
          "Student",
          "Employee",
          "Employee",
          "Employee",
          "Self Employeed",
          "Student",
          "Student",
          "Employee",
          "House wife",
          "Student",
          "Student",
          "Student",
          "Employee",
          "Employee",
          "Student",
          "Student",
          "Employee",
          "Student",
          "Self Employeed",
          "Employee",
          "Self Employeed",
          "Self Employeed",
          "Student",
          "Student",
          "Employee",
          "Self Employeed",
          "Employee",
          "Employee",
          "House wife",
          "Self Employeed",
          "Student",
          "Student",
          "Employee",
          "Employee",
          "Student",
          "Self Employeed",
          "Student",
          "Student",
          "Self Employeed",
          "Employee",
          "Self Employeed",
          "Student",
          "Self Employeed",
          "Self Employeed",
          "Employee",
          "Employee",
          "Student",
          "Student",
          "Employee",
          "Student",
          "Employee",
          "Student",
          "Employee",
          "Student",
          "Self Employeed",
          "Student",
          "Employee",
          "Self Employeed",
          "Employee",
          "Employee",
          "Employee",
          "Student",
          "Student",
          "Employee",
          "House wife",
          "Self Employeed",
          "Student",
          "Self Employeed",
          "Student",
          "Employee",
          "Self Employeed",
          "Employee",
          "Student",
          "Employee",
          "Self Employeed",
          "Employee",
          "Employee",
          "Employee",
          "Student",
          "Employee",
          "Employee",
          "Employee",
          "Self Employeed",
          "Employee",
          "Student",
          "Student",
          "Employee",
          "Student",
          "Employee",
          "Employee",
          "Student",
          "Student",
          "Student",
          "Employee",
          "Employee",
          "Student",
          "Student",
          "Employee",
          "Student",
          "Student",
          "Self Employeed",
          "Employee",
          "Student",
          "Employee",
          "Employee",
          "Student",
          "Student",
          "Employee",
          "Employee",
          "Employee",
          "Student",
          "Student",
          "Student",
          "Employee",
          "Student",
          "Student",
          "Student",
          "Student",
          "Student",
          "Student",
          "Employee",
          "Student",
          "Self Employeed",
          "Student",
          "Student",
          "Self Employeed",
          "Employee",
          "Self Employeed",
          "Student",
          "Self Employeed",
          "Self Employeed",
          "Employee",
          "Employee",
          "Student",
          "Student",
          "Employee",
          "Student",
          "Employee",
          "Student",
          "Employee",
          "Employee",
          "Student",
          "Student",
          "Employee",
          "Student",
          "Self Employeed",
          "Employee",
          "Self Employeed",
          "Self Employeed",
          "Student",
          "Student",
          "Employee",
          "Self Employeed",
          "Employee",
          "Employee",
          "Employee",
          "Employee",
          "Student",
          "Student",
          "Employee",
          "Student",
          "Self Employeed",
          "Employee",
          "Self Employeed",
          "Self Employeed",
          "Student",
          "Student",
          "Self Employeed",
          "Employee",
          "Self Employeed",
          "Student",
          "Self Employeed",
          "Self Employeed",
          "Employee",
          "Employee",
          "Student",
          "Student",
          "Employee",
          "Student",
          "Employee",
          "Student",
          "Employee",
          "Student",
          "Self Employeed",
          "Student",
          "Employee",
          "Self Employeed",
          "Employee",
          "Employee",
          "Student",
          "Employee",
          "Student",
          "Student",
          "Student",
          "Student",
          "Student",
          "Student",
          "Student"
         ]
        }
       ],
       "layout": {
        "template": {
         "data": {
          "bar": [
           {
            "error_x": {
             "color": "#2a3f5f"
            },
            "error_y": {
             "color": "#2a3f5f"
            },
            "marker": {
             "line": {
              "color": "#E5ECF6",
              "width": 0.5
             },
             "pattern": {
              "fillmode": "overlay",
              "size": 10,
              "solidity": 0.2
             }
            },
            "type": "bar"
           }
          ],
          "barpolar": [
           {
            "marker": {
             "line": {
              "color": "#E5ECF6",
              "width": 0.5
             },
             "pattern": {
              "fillmode": "overlay",
              "size": 10,
              "solidity": 0.2
             }
            },
            "type": "barpolar"
           }
          ],
          "carpet": [
           {
            "aaxis": {
             "endlinecolor": "#2a3f5f",
             "gridcolor": "white",
             "linecolor": "white",
             "minorgridcolor": "white",
             "startlinecolor": "#2a3f5f"
            },
            "baxis": {
             "endlinecolor": "#2a3f5f",
             "gridcolor": "white",
             "linecolor": "white",
             "minorgridcolor": "white",
             "startlinecolor": "#2a3f5f"
            },
            "type": "carpet"
           }
          ],
          "choropleth": [
           {
            "colorbar": {
             "outlinewidth": 0,
             "ticks": ""
            },
            "type": "choropleth"
           }
          ],
          "contour": [
           {
            "colorbar": {
             "outlinewidth": 0,
             "ticks": ""
            },
            "colorscale": [
             [
              0,
              "#0d0887"
             ],
             [
              0.1111111111111111,
              "#46039f"
             ],
             [
              0.2222222222222222,
              "#7201a8"
             ],
             [
              0.3333333333333333,
              "#9c179e"
             ],
             [
              0.4444444444444444,
              "#bd3786"
             ],
             [
              0.5555555555555556,
              "#d8576b"
             ],
             [
              0.6666666666666666,
              "#ed7953"
             ],
             [
              0.7777777777777778,
              "#fb9f3a"
             ],
             [
              0.8888888888888888,
              "#fdca26"
             ],
             [
              1,
              "#f0f921"
             ]
            ],
            "type": "contour"
           }
          ],
          "contourcarpet": [
           {
            "colorbar": {
             "outlinewidth": 0,
             "ticks": ""
            },
            "type": "contourcarpet"
           }
          ],
          "heatmap": [
           {
            "colorbar": {
             "outlinewidth": 0,
             "ticks": ""
            },
            "colorscale": [
             [
              0,
              "#0d0887"
             ],
             [
              0.1111111111111111,
              "#46039f"
             ],
             [
              0.2222222222222222,
              "#7201a8"
             ],
             [
              0.3333333333333333,
              "#9c179e"
             ],
             [
              0.4444444444444444,
              "#bd3786"
             ],
             [
              0.5555555555555556,
              "#d8576b"
             ],
             [
              0.6666666666666666,
              "#ed7953"
             ],
             [
              0.7777777777777778,
              "#fb9f3a"
             ],
             [
              0.8888888888888888,
              "#fdca26"
             ],
             [
              1,
              "#f0f921"
             ]
            ],
            "type": "heatmap"
           }
          ],
          "heatmapgl": [
           {
            "colorbar": {
             "outlinewidth": 0,
             "ticks": ""
            },
            "colorscale": [
             [
              0,
              "#0d0887"
             ],
             [
              0.1111111111111111,
              "#46039f"
             ],
             [
              0.2222222222222222,
              "#7201a8"
             ],
             [
              0.3333333333333333,
              "#9c179e"
             ],
             [
              0.4444444444444444,
              "#bd3786"
             ],
             [
              0.5555555555555556,
              "#d8576b"
             ],
             [
              0.6666666666666666,
              "#ed7953"
             ],
             [
              0.7777777777777778,
              "#fb9f3a"
             ],
             [
              0.8888888888888888,
              "#fdca26"
             ],
             [
              1,
              "#f0f921"
             ]
            ],
            "type": "heatmapgl"
           }
          ],
          "histogram": [
           {
            "marker": {
             "pattern": {
              "fillmode": "overlay",
              "size": 10,
              "solidity": 0.2
             }
            },
            "type": "histogram"
           }
          ],
          "histogram2d": [
           {
            "colorbar": {
             "outlinewidth": 0,
             "ticks": ""
            },
            "colorscale": [
             [
              0,
              "#0d0887"
             ],
             [
              0.1111111111111111,
              "#46039f"
             ],
             [
              0.2222222222222222,
              "#7201a8"
             ],
             [
              0.3333333333333333,
              "#9c179e"
             ],
             [
              0.4444444444444444,
              "#bd3786"
             ],
             [
              0.5555555555555556,
              "#d8576b"
             ],
             [
              0.6666666666666666,
              "#ed7953"
             ],
             [
              0.7777777777777778,
              "#fb9f3a"
             ],
             [
              0.8888888888888888,
              "#fdca26"
             ],
             [
              1,
              "#f0f921"
             ]
            ],
            "type": "histogram2d"
           }
          ],
          "histogram2dcontour": [
           {
            "colorbar": {
             "outlinewidth": 0,
             "ticks": ""
            },
            "colorscale": [
             [
              0,
              "#0d0887"
             ],
             [
              0.1111111111111111,
              "#46039f"
             ],
             [
              0.2222222222222222,
              "#7201a8"
             ],
             [
              0.3333333333333333,
              "#9c179e"
             ],
             [
              0.4444444444444444,
              "#bd3786"
             ],
             [
              0.5555555555555556,
              "#d8576b"
             ],
             [
              0.6666666666666666,
              "#ed7953"
             ],
             [
              0.7777777777777778,
              "#fb9f3a"
             ],
             [
              0.8888888888888888,
              "#fdca26"
             ],
             [
              1,
              "#f0f921"
             ]
            ],
            "type": "histogram2dcontour"
           }
          ],
          "mesh3d": [
           {
            "colorbar": {
             "outlinewidth": 0,
             "ticks": ""
            },
            "type": "mesh3d"
           }
          ],
          "parcoords": [
           {
            "line": {
             "colorbar": {
              "outlinewidth": 0,
              "ticks": ""
             }
            },
            "type": "parcoords"
           }
          ],
          "pie": [
           {
            "automargin": true,
            "type": "pie"
           }
          ],
          "scatter": [
           {
            "fillpattern": {
             "fillmode": "overlay",
             "size": 10,
             "solidity": 0.2
            },
            "type": "scatter"
           }
          ],
          "scatter3d": [
           {
            "line": {
             "colorbar": {
              "outlinewidth": 0,
              "ticks": ""
             }
            },
            "marker": {
             "colorbar": {
              "outlinewidth": 0,
              "ticks": ""
             }
            },
            "type": "scatter3d"
           }
          ],
          "scattercarpet": [
           {
            "marker": {
             "colorbar": {
              "outlinewidth": 0,
              "ticks": ""
             }
            },
            "type": "scattercarpet"
           }
          ],
          "scattergeo": [
           {
            "marker": {
             "colorbar": {
              "outlinewidth": 0,
              "ticks": ""
             }
            },
            "type": "scattergeo"
           }
          ],
          "scattergl": [
           {
            "marker": {
             "colorbar": {
              "outlinewidth": 0,
              "ticks": ""
             }
            },
            "type": "scattergl"
           }
          ],
          "scattermapbox": [
           {
            "marker": {
             "colorbar": {
              "outlinewidth": 0,
              "ticks": ""
             }
            },
            "type": "scattermapbox"
           }
          ],
          "scatterpolar": [
           {
            "marker": {
             "colorbar": {
              "outlinewidth": 0,
              "ticks": ""
             }
            },
            "type": "scatterpolar"
           }
          ],
          "scatterpolargl": [
           {
            "marker": {
             "colorbar": {
              "outlinewidth": 0,
              "ticks": ""
             }
            },
            "type": "scatterpolargl"
           }
          ],
          "scatterternary": [
           {
            "marker": {
             "colorbar": {
              "outlinewidth": 0,
              "ticks": ""
             }
            },
            "type": "scatterternary"
           }
          ],
          "surface": [
           {
            "colorbar": {
             "outlinewidth": 0,
             "ticks": ""
            },
            "colorscale": [
             [
              0,
              "#0d0887"
             ],
             [
              0.1111111111111111,
              "#46039f"
             ],
             [
              0.2222222222222222,
              "#7201a8"
             ],
             [
              0.3333333333333333,
              "#9c179e"
             ],
             [
              0.4444444444444444,
              "#bd3786"
             ],
             [
              0.5555555555555556,
              "#d8576b"
             ],
             [
              0.6666666666666666,
              "#ed7953"
             ],
             [
              0.7777777777777778,
              "#fb9f3a"
             ],
             [
              0.8888888888888888,
              "#fdca26"
             ],
             [
              1,
              "#f0f921"
             ]
            ],
            "type": "surface"
           }
          ],
          "table": [
           {
            "cells": {
             "fill": {
              "color": "#EBF0F8"
             },
             "line": {
              "color": "white"
             }
            },
            "header": {
             "fill": {
              "color": "#C8D4E3"
             },
             "line": {
              "color": "white"
             }
            },
            "type": "table"
           }
          ]
         },
         "layout": {
          "annotationdefaults": {
           "arrowcolor": "#2a3f5f",
           "arrowhead": 0,
           "arrowwidth": 1
          },
          "autotypenumbers": "strict",
          "coloraxis": {
           "colorbar": {
            "outlinewidth": 0,
            "ticks": ""
           }
          },
          "colorscale": {
           "diverging": [
            [
             0,
             "#8e0152"
            ],
            [
             0.1,
             "#c51b7d"
            ],
            [
             0.2,
             "#de77ae"
            ],
            [
             0.3,
             "#f1b6da"
            ],
            [
             0.4,
             "#fde0ef"
            ],
            [
             0.5,
             "#f7f7f7"
            ],
            [
             0.6,
             "#e6f5d0"
            ],
            [
             0.7,
             "#b8e186"
            ],
            [
             0.8,
             "#7fbc41"
            ],
            [
             0.9,
             "#4d9221"
            ],
            [
             1,
             "#276419"
            ]
           ],
           "sequential": [
            [
             0,
             "#0d0887"
            ],
            [
             0.1111111111111111,
             "#46039f"
            ],
            [
             0.2222222222222222,
             "#7201a8"
            ],
            [
             0.3333333333333333,
             "#9c179e"
            ],
            [
             0.4444444444444444,
             "#bd3786"
            ],
            [
             0.5555555555555556,
             "#d8576b"
            ],
            [
             0.6666666666666666,
             "#ed7953"
            ],
            [
             0.7777777777777778,
             "#fb9f3a"
            ],
            [
             0.8888888888888888,
             "#fdca26"
            ],
            [
             1,
             "#f0f921"
            ]
           ],
           "sequentialminus": [
            [
             0,
             "#0d0887"
            ],
            [
             0.1111111111111111,
             "#46039f"
            ],
            [
             0.2222222222222222,
             "#7201a8"
            ],
            [
             0.3333333333333333,
             "#9c179e"
            ],
            [
             0.4444444444444444,
             "#bd3786"
            ],
            [
             0.5555555555555556,
             "#d8576b"
            ],
            [
             0.6666666666666666,
             "#ed7953"
            ],
            [
             0.7777777777777778,
             "#fb9f3a"
            ],
            [
             0.8888888888888888,
             "#fdca26"
            ],
            [
             1,
             "#f0f921"
            ]
           ]
          },
          "colorway": [
           "#636efa",
           "#EF553B",
           "#00cc96",
           "#ab63fa",
           "#FFA15A",
           "#19d3f3",
           "#FF6692",
           "#B6E880",
           "#FF97FF",
           "#FECB52"
          ],
          "font": {
           "color": "#2a3f5f"
          },
          "geo": {
           "bgcolor": "white",
           "lakecolor": "white",
           "landcolor": "#E5ECF6",
           "showlakes": true,
           "showland": true,
           "subunitcolor": "white"
          },
          "hoverlabel": {
           "align": "left"
          },
          "hovermode": "closest",
          "mapbox": {
           "style": "light"
          },
          "paper_bgcolor": "white",
          "plot_bgcolor": "#E5ECF6",
          "polar": {
           "angularaxis": {
            "gridcolor": "white",
            "linecolor": "white",
            "ticks": ""
           },
           "bgcolor": "#E5ECF6",
           "radialaxis": {
            "gridcolor": "white",
            "linecolor": "white",
            "ticks": ""
           }
          },
          "scene": {
           "xaxis": {
            "backgroundcolor": "#E5ECF6",
            "gridcolor": "white",
            "gridwidth": 2,
            "linecolor": "white",
            "showbackground": true,
            "ticks": "",
            "zerolinecolor": "white"
           },
           "yaxis": {
            "backgroundcolor": "#E5ECF6",
            "gridcolor": "white",
            "gridwidth": 2,
            "linecolor": "white",
            "showbackground": true,
            "ticks": "",
            "zerolinecolor": "white"
           },
           "zaxis": {
            "backgroundcolor": "#E5ECF6",
            "gridcolor": "white",
            "gridwidth": 2,
            "linecolor": "white",
            "showbackground": true,
            "ticks": "",
            "zerolinecolor": "white"
           }
          },
          "shapedefaults": {
           "line": {
            "color": "#2a3f5f"
           }
          },
          "ternary": {
           "aaxis": {
            "gridcolor": "white",
            "linecolor": "white",
            "ticks": ""
           },
           "baxis": {
            "gridcolor": "white",
            "linecolor": "white",
            "ticks": ""
           },
           "bgcolor": "#E5ECF6",
           "caxis": {
            "gridcolor": "white",
            "linecolor": "white",
            "ticks": ""
           }
          },
          "title": {
           "x": 0.05
          },
          "xaxis": {
           "automargin": true,
           "gridcolor": "white",
           "linecolor": "white",
           "ticks": "",
           "title": {
            "standoff": 15
           },
           "zerolinecolor": "white",
           "zerolinewidth": 2
          },
          "yaxis": {
           "automargin": true,
           "gridcolor": "white",
           "linecolor": "white",
           "ticks": "",
           "title": {
            "standoff": 15
           },
           "zerolinecolor": "white",
           "zerolinewidth": 2
          }
         }
        },
        "title": {
         "text": "Violin Chart of Occupation Distribution"
        },
        "xaxis": {
         "title": {
          "text": ""
         }
        },
        "yaxis": {
         "title": {
          "text": "Occupation"
         }
        }
       }
      }
     },
     "metadata": {},
     "output_type": "display_data"
    }
   ],
   "source": [
    "unilabel_dist_plot(\"Occupation\", \"violin chart\") # Distribution of Occupation using a violin chart"
   ]
  },
  {
   "cell_type": "code",
   "execution_count": 14,
   "metadata": {},
   "outputs": [
    {
     "data": {
      "application/vnd.plotly.v1+json": {
       "config": {
        "plotlyServerURL": "https://plot.ly"
       },
       "data": [
        {
         "labels": [
          "Student",
          "Employee",
          "Self Employeed",
          "House wife"
         ],
         "type": "pie",
         "values": [
          207,
          118,
          54,
          9
         ]
        }
       ],
       "layout": {
        "template": {
         "data": {
          "bar": [
           {
            "error_x": {
             "color": "#2a3f5f"
            },
            "error_y": {
             "color": "#2a3f5f"
            },
            "marker": {
             "line": {
              "color": "#E5ECF6",
              "width": 0.5
             },
             "pattern": {
              "fillmode": "overlay",
              "size": 10,
              "solidity": 0.2
             }
            },
            "type": "bar"
           }
          ],
          "barpolar": [
           {
            "marker": {
             "line": {
              "color": "#E5ECF6",
              "width": 0.5
             },
             "pattern": {
              "fillmode": "overlay",
              "size": 10,
              "solidity": 0.2
             }
            },
            "type": "barpolar"
           }
          ],
          "carpet": [
           {
            "aaxis": {
             "endlinecolor": "#2a3f5f",
             "gridcolor": "white",
             "linecolor": "white",
             "minorgridcolor": "white",
             "startlinecolor": "#2a3f5f"
            },
            "baxis": {
             "endlinecolor": "#2a3f5f",
             "gridcolor": "white",
             "linecolor": "white",
             "minorgridcolor": "white",
             "startlinecolor": "#2a3f5f"
            },
            "type": "carpet"
           }
          ],
          "choropleth": [
           {
            "colorbar": {
             "outlinewidth": 0,
             "ticks": ""
            },
            "type": "choropleth"
           }
          ],
          "contour": [
           {
            "colorbar": {
             "outlinewidth": 0,
             "ticks": ""
            },
            "colorscale": [
             [
              0,
              "#0d0887"
             ],
             [
              0.1111111111111111,
              "#46039f"
             ],
             [
              0.2222222222222222,
              "#7201a8"
             ],
             [
              0.3333333333333333,
              "#9c179e"
             ],
             [
              0.4444444444444444,
              "#bd3786"
             ],
             [
              0.5555555555555556,
              "#d8576b"
             ],
             [
              0.6666666666666666,
              "#ed7953"
             ],
             [
              0.7777777777777778,
              "#fb9f3a"
             ],
             [
              0.8888888888888888,
              "#fdca26"
             ],
             [
              1,
              "#f0f921"
             ]
            ],
            "type": "contour"
           }
          ],
          "contourcarpet": [
           {
            "colorbar": {
             "outlinewidth": 0,
             "ticks": ""
            },
            "type": "contourcarpet"
           }
          ],
          "heatmap": [
           {
            "colorbar": {
             "outlinewidth": 0,
             "ticks": ""
            },
            "colorscale": [
             [
              0,
              "#0d0887"
             ],
             [
              0.1111111111111111,
              "#46039f"
             ],
             [
              0.2222222222222222,
              "#7201a8"
             ],
             [
              0.3333333333333333,
              "#9c179e"
             ],
             [
              0.4444444444444444,
              "#bd3786"
             ],
             [
              0.5555555555555556,
              "#d8576b"
             ],
             [
              0.6666666666666666,
              "#ed7953"
             ],
             [
              0.7777777777777778,
              "#fb9f3a"
             ],
             [
              0.8888888888888888,
              "#fdca26"
             ],
             [
              1,
              "#f0f921"
             ]
            ],
            "type": "heatmap"
           }
          ],
          "heatmapgl": [
           {
            "colorbar": {
             "outlinewidth": 0,
             "ticks": ""
            },
            "colorscale": [
             [
              0,
              "#0d0887"
             ],
             [
              0.1111111111111111,
              "#46039f"
             ],
             [
              0.2222222222222222,
              "#7201a8"
             ],
             [
              0.3333333333333333,
              "#9c179e"
             ],
             [
              0.4444444444444444,
              "#bd3786"
             ],
             [
              0.5555555555555556,
              "#d8576b"
             ],
             [
              0.6666666666666666,
              "#ed7953"
             ],
             [
              0.7777777777777778,
              "#fb9f3a"
             ],
             [
              0.8888888888888888,
              "#fdca26"
             ],
             [
              1,
              "#f0f921"
             ]
            ],
            "type": "heatmapgl"
           }
          ],
          "histogram": [
           {
            "marker": {
             "pattern": {
              "fillmode": "overlay",
              "size": 10,
              "solidity": 0.2
             }
            },
            "type": "histogram"
           }
          ],
          "histogram2d": [
           {
            "colorbar": {
             "outlinewidth": 0,
             "ticks": ""
            },
            "colorscale": [
             [
              0,
              "#0d0887"
             ],
             [
              0.1111111111111111,
              "#46039f"
             ],
             [
              0.2222222222222222,
              "#7201a8"
             ],
             [
              0.3333333333333333,
              "#9c179e"
             ],
             [
              0.4444444444444444,
              "#bd3786"
             ],
             [
              0.5555555555555556,
              "#d8576b"
             ],
             [
              0.6666666666666666,
              "#ed7953"
             ],
             [
              0.7777777777777778,
              "#fb9f3a"
             ],
             [
              0.8888888888888888,
              "#fdca26"
             ],
             [
              1,
              "#f0f921"
             ]
            ],
            "type": "histogram2d"
           }
          ],
          "histogram2dcontour": [
           {
            "colorbar": {
             "outlinewidth": 0,
             "ticks": ""
            },
            "colorscale": [
             [
              0,
              "#0d0887"
             ],
             [
              0.1111111111111111,
              "#46039f"
             ],
             [
              0.2222222222222222,
              "#7201a8"
             ],
             [
              0.3333333333333333,
              "#9c179e"
             ],
             [
              0.4444444444444444,
              "#bd3786"
             ],
             [
              0.5555555555555556,
              "#d8576b"
             ],
             [
              0.6666666666666666,
              "#ed7953"
             ],
             [
              0.7777777777777778,
              "#fb9f3a"
             ],
             [
              0.8888888888888888,
              "#fdca26"
             ],
             [
              1,
              "#f0f921"
             ]
            ],
            "type": "histogram2dcontour"
           }
          ],
          "mesh3d": [
           {
            "colorbar": {
             "outlinewidth": 0,
             "ticks": ""
            },
            "type": "mesh3d"
           }
          ],
          "parcoords": [
           {
            "line": {
             "colorbar": {
              "outlinewidth": 0,
              "ticks": ""
             }
            },
            "type": "parcoords"
           }
          ],
          "pie": [
           {
            "automargin": true,
            "type": "pie"
           }
          ],
          "scatter": [
           {
            "fillpattern": {
             "fillmode": "overlay",
             "size": 10,
             "solidity": 0.2
            },
            "type": "scatter"
           }
          ],
          "scatter3d": [
           {
            "line": {
             "colorbar": {
              "outlinewidth": 0,
              "ticks": ""
             }
            },
            "marker": {
             "colorbar": {
              "outlinewidth": 0,
              "ticks": ""
             }
            },
            "type": "scatter3d"
           }
          ],
          "scattercarpet": [
           {
            "marker": {
             "colorbar": {
              "outlinewidth": 0,
              "ticks": ""
             }
            },
            "type": "scattercarpet"
           }
          ],
          "scattergeo": [
           {
            "marker": {
             "colorbar": {
              "outlinewidth": 0,
              "ticks": ""
             }
            },
            "type": "scattergeo"
           }
          ],
          "scattergl": [
           {
            "marker": {
             "colorbar": {
              "outlinewidth": 0,
              "ticks": ""
             }
            },
            "type": "scattergl"
           }
          ],
          "scattermapbox": [
           {
            "marker": {
             "colorbar": {
              "outlinewidth": 0,
              "ticks": ""
             }
            },
            "type": "scattermapbox"
           }
          ],
          "scatterpolar": [
           {
            "marker": {
             "colorbar": {
              "outlinewidth": 0,
              "ticks": ""
             }
            },
            "type": "scatterpolar"
           }
          ],
          "scatterpolargl": [
           {
            "marker": {
             "colorbar": {
              "outlinewidth": 0,
              "ticks": ""
             }
            },
            "type": "scatterpolargl"
           }
          ],
          "scatterternary": [
           {
            "marker": {
             "colorbar": {
              "outlinewidth": 0,
              "ticks": ""
             }
            },
            "type": "scatterternary"
           }
          ],
          "surface": [
           {
            "colorbar": {
             "outlinewidth": 0,
             "ticks": ""
            },
            "colorscale": [
             [
              0,
              "#0d0887"
             ],
             [
              0.1111111111111111,
              "#46039f"
             ],
             [
              0.2222222222222222,
              "#7201a8"
             ],
             [
              0.3333333333333333,
              "#9c179e"
             ],
             [
              0.4444444444444444,
              "#bd3786"
             ],
             [
              0.5555555555555556,
              "#d8576b"
             ],
             [
              0.6666666666666666,
              "#ed7953"
             ],
             [
              0.7777777777777778,
              "#fb9f3a"
             ],
             [
              0.8888888888888888,
              "#fdca26"
             ],
             [
              1,
              "#f0f921"
             ]
            ],
            "type": "surface"
           }
          ],
          "table": [
           {
            "cells": {
             "fill": {
              "color": "#EBF0F8"
             },
             "line": {
              "color": "white"
             }
            },
            "header": {
             "fill": {
              "color": "#C8D4E3"
             },
             "line": {
              "color": "white"
             }
            },
            "type": "table"
           }
          ]
         },
         "layout": {
          "annotationdefaults": {
           "arrowcolor": "#2a3f5f",
           "arrowhead": 0,
           "arrowwidth": 1
          },
          "autotypenumbers": "strict",
          "coloraxis": {
           "colorbar": {
            "outlinewidth": 0,
            "ticks": ""
           }
          },
          "colorscale": {
           "diverging": [
            [
             0,
             "#8e0152"
            ],
            [
             0.1,
             "#c51b7d"
            ],
            [
             0.2,
             "#de77ae"
            ],
            [
             0.3,
             "#f1b6da"
            ],
            [
             0.4,
             "#fde0ef"
            ],
            [
             0.5,
             "#f7f7f7"
            ],
            [
             0.6,
             "#e6f5d0"
            ],
            [
             0.7,
             "#b8e186"
            ],
            [
             0.8,
             "#7fbc41"
            ],
            [
             0.9,
             "#4d9221"
            ],
            [
             1,
             "#276419"
            ]
           ],
           "sequential": [
            [
             0,
             "#0d0887"
            ],
            [
             0.1111111111111111,
             "#46039f"
            ],
            [
             0.2222222222222222,
             "#7201a8"
            ],
            [
             0.3333333333333333,
             "#9c179e"
            ],
            [
             0.4444444444444444,
             "#bd3786"
            ],
            [
             0.5555555555555556,
             "#d8576b"
            ],
            [
             0.6666666666666666,
             "#ed7953"
            ],
            [
             0.7777777777777778,
             "#fb9f3a"
            ],
            [
             0.8888888888888888,
             "#fdca26"
            ],
            [
             1,
             "#f0f921"
            ]
           ],
           "sequentialminus": [
            [
             0,
             "#0d0887"
            ],
            [
             0.1111111111111111,
             "#46039f"
            ],
            [
             0.2222222222222222,
             "#7201a8"
            ],
            [
             0.3333333333333333,
             "#9c179e"
            ],
            [
             0.4444444444444444,
             "#bd3786"
            ],
            [
             0.5555555555555556,
             "#d8576b"
            ],
            [
             0.6666666666666666,
             "#ed7953"
            ],
            [
             0.7777777777777778,
             "#fb9f3a"
            ],
            [
             0.8888888888888888,
             "#fdca26"
            ],
            [
             1,
             "#f0f921"
            ]
           ]
          },
          "colorway": [
           "#636efa",
           "#EF553B",
           "#00cc96",
           "#ab63fa",
           "#FFA15A",
           "#19d3f3",
           "#FF6692",
           "#B6E880",
           "#FF97FF",
           "#FECB52"
          ],
          "font": {
           "color": "#2a3f5f"
          },
          "geo": {
           "bgcolor": "white",
           "lakecolor": "white",
           "landcolor": "#E5ECF6",
           "showlakes": true,
           "showland": true,
           "subunitcolor": "white"
          },
          "hoverlabel": {
           "align": "left"
          },
          "hovermode": "closest",
          "mapbox": {
           "style": "light"
          },
          "paper_bgcolor": "white",
          "plot_bgcolor": "#E5ECF6",
          "polar": {
           "angularaxis": {
            "gridcolor": "white",
            "linecolor": "white",
            "ticks": ""
           },
           "bgcolor": "#E5ECF6",
           "radialaxis": {
            "gridcolor": "white",
            "linecolor": "white",
            "ticks": ""
           }
          },
          "scene": {
           "xaxis": {
            "backgroundcolor": "#E5ECF6",
            "gridcolor": "white",
            "gridwidth": 2,
            "linecolor": "white",
            "showbackground": true,
            "ticks": "",
            "zerolinecolor": "white"
           },
           "yaxis": {
            "backgroundcolor": "#E5ECF6",
            "gridcolor": "white",
            "gridwidth": 2,
            "linecolor": "white",
            "showbackground": true,
            "ticks": "",
            "zerolinecolor": "white"
           },
           "zaxis": {
            "backgroundcolor": "#E5ECF6",
            "gridcolor": "white",
            "gridwidth": 2,
            "linecolor": "white",
            "showbackground": true,
            "ticks": "",
            "zerolinecolor": "white"
           }
          },
          "shapedefaults": {
           "line": {
            "color": "#2a3f5f"
           }
          },
          "ternary": {
           "aaxis": {
            "gridcolor": "white",
            "linecolor": "white",
            "ticks": ""
           },
           "baxis": {
            "gridcolor": "white",
            "linecolor": "white",
            "ticks": ""
           },
           "bgcolor": "#E5ECF6",
           "caxis": {
            "gridcolor": "white",
            "linecolor": "white",
            "ticks": ""
           }
          },
          "title": {
           "x": 0.05
          },
          "xaxis": {
           "automargin": true,
           "gridcolor": "white",
           "linecolor": "white",
           "ticks": "",
           "title": {
            "standoff": 15
           },
           "zerolinecolor": "white",
           "zerolinewidth": 2
          },
          "yaxis": {
           "automargin": true,
           "gridcolor": "white",
           "linecolor": "white",
           "ticks": "",
           "title": {
            "standoff": 15
           },
           "zerolinecolor": "white",
           "zerolinewidth": 2
          }
         }
        },
        "title": {
         "text": "Pie Chart of Occupation Distribution"
        },
        "xaxis": {
         "title": {
          "text": ""
         }
        },
        "yaxis": {
         "title": {
          "text": ""
         }
        }
       }
      }
     },
     "metadata": {},
     "output_type": "display_data"
    }
   ],
   "source": [
    "unilabel_dist_plot(\"Occupation\", \"pie chart\") # Distribution of Occupation using a pie chart"
   ]
  },
  {
   "cell_type": "code",
   "execution_count": 16,
   "metadata": {},
   "outputs": [
    {
     "data": {
      "application/vnd.plotly.v1+json": {
       "config": {
        "plotlyServerURL": "https://plot.ly"
       },
       "data": [
        {
         "alignmentgroup": "True",
         "hovertemplate": "Gender=Female<br>Occupation=%{x}<br>count=%{y}<extra></extra>",
         "legendgroup": "Female",
         "marker": {
          "color": "#636efa",
          "pattern": {
           "shape": ""
          }
         },
         "name": "Female",
         "offsetgroup": "Female",
         "orientation": "v",
         "showlegend": true,
         "textposition": "auto",
         "type": "bar",
         "x": [
          "Student",
          "Student",
          "Student",
          "Employee",
          "Student",
          "Student",
          "Student",
          "Student",
          "Self Employeed",
          "Student",
          "Employee",
          "Student",
          "Student",
          "Student",
          "Student",
          "Employee",
          "Employee",
          "Student",
          "Student",
          "House wife",
          "Student",
          "Student",
          "Student",
          "Self Employeed",
          "Student",
          "Student",
          "Student",
          "Student",
          "Student",
          "Student",
          "Student",
          "Student",
          "Student",
          "Student",
          "Student",
          "Employee",
          "Student",
          "Student",
          "Student",
          "Student",
          "Student",
          "Student",
          "Employee",
          "Student",
          "Student",
          "Student",
          "House wife",
          "Student",
          "Employee",
          "Student",
          "Student",
          "Employee",
          "House wife",
          "Employee",
          "Self Employeed",
          "Self Employeed",
          "Self Employeed",
          "Student",
          "Employee",
          "Student",
          "Employee",
          "Employee",
          "Student",
          "Student",
          "House wife",
          "Student",
          "Student",
          "Self Employeed",
          "Student",
          "House wife",
          "Student",
          "Employee",
          "Student",
          "Student",
          "Student",
          "Student",
          "Employee",
          "Self Employeed",
          "Employee",
          "Employee",
          "House wife",
          "Employee",
          "Employee",
          "Self Employeed",
          "Student",
          "House wife",
          "Student",
          "Employee",
          "Student",
          "Student",
          "Employee",
          "Employee",
          "House wife",
          "Self Employeed",
          "Student",
          "Student",
          "Student",
          "Student",
          "Self Employeed",
          "Self Employeed",
          "Student",
          "Student",
          "Student",
          "Employee",
          "Employee",
          "Employee",
          "House wife",
          "Employee",
          "Employee",
          "Employee",
          "Employee",
          "Employee",
          "Employee",
          "Employee",
          "Employee",
          "Student",
          "Student",
          "Employee",
          "Student",
          "Employee",
          "Employee",
          "Student",
          "Student",
          "Employee",
          "Student",
          "Student",
          "Self Employeed",
          "Employee",
          "Student",
          "Employee",
          "Employee",
          "Student",
          "Employee",
          "Student",
          "Employee",
          "Student",
          "Student",
          "Student",
          "Student",
          "Student",
          "Student",
          "Self Employeed",
          "Self Employeed",
          "Student",
          "Student",
          "Employee",
          "Student",
          "Student",
          "Employee",
          "Employee",
          "Employee",
          "Student",
          "Student",
          "Employee",
          "Self Employeed",
          "Self Employeed",
          "Student",
          "Student",
          "Student",
          "Employee",
          "Employee",
          "Employee",
          "Student",
          "Student",
          "Student",
          "Student"
         ],
         "xaxis": "x",
         "y": [
          1,
          1,
          1,
          1,
          1,
          1,
          1,
          1,
          1,
          1,
          1,
          1,
          1,
          1,
          1,
          1,
          1,
          1,
          1,
          1,
          1,
          1,
          1,
          1,
          1,
          1,
          1,
          1,
          1,
          1,
          1,
          1,
          1,
          1,
          1,
          1,
          1,
          1,
          1,
          1,
          1,
          1,
          1,
          1,
          1,
          1,
          1,
          1,
          1,
          1,
          1,
          1,
          1,
          1,
          1,
          1,
          1,
          1,
          1,
          1,
          1,
          1,
          1,
          1,
          1,
          1,
          1,
          1,
          1,
          1,
          1,
          1,
          1,
          1,
          1,
          1,
          1,
          1,
          1,
          1,
          1,
          1,
          1,
          1,
          1,
          1,
          1,
          1,
          1,
          1,
          1,
          1,
          1,
          1,
          1,
          1,
          1,
          1,
          1,
          1,
          1,
          1,
          1,
          1,
          1,
          1,
          1,
          1,
          1,
          1,
          1,
          1,
          1,
          1,
          1,
          1,
          1,
          1,
          1,
          1,
          1,
          1,
          1,
          1,
          1,
          1,
          1,
          1,
          1,
          1,
          1,
          1,
          1,
          1,
          1,
          1,
          1,
          1,
          1,
          1,
          1,
          1,
          1,
          1,
          1,
          1,
          1,
          1,
          1,
          1,
          1,
          1,
          1,
          1,
          1,
          1,
          1,
          1,
          1,
          1,
          1,
          1,
          1,
          1,
          1,
          1
         ],
         "yaxis": "y"
        },
        {
         "alignmentgroup": "True",
         "hovertemplate": "Gender=Male<br>Occupation=%{x}<br>count=%{y}<extra></extra>",
         "legendgroup": "Male",
         "marker": {
          "color": "#EF553B",
          "pattern": {
           "shape": ""
          }
         },
         "name": "Male",
         "offsetgroup": "Male",
         "orientation": "v",
         "showlegend": true,
         "textposition": "auto",
         "type": "bar",
         "x": [
          "Student",
          "Student",
          "Student",
          "Student",
          "Student",
          "Student",
          "Student",
          "Student",
          "Student",
          "Student",
          "Student",
          "Student",
          "Student",
          "Student",
          "Student",
          "Employee",
          "Student",
          "Student",
          "Self Employeed",
          "Student",
          "Student",
          "Student",
          "Student",
          "Student",
          "Student",
          "Student",
          "Employee",
          "Student",
          "Student",
          "Student",
          "Student",
          "Student",
          "Student",
          "Employee",
          "Student",
          "Student",
          "Student",
          "Student",
          "Student",
          "Student",
          "Student",
          "Student",
          "Student",
          "Student",
          "Student",
          "Student",
          "Student",
          "Self Employeed",
          "Self Employeed",
          "Student",
          "Student",
          "Student",
          "Employee",
          "Student",
          "Employee",
          "Employee",
          "Employee",
          "Student",
          "Employee",
          "Student",
          "Student",
          "Student",
          "Student",
          "Employee",
          "Self Employeed",
          "Employee",
          "Self Employeed",
          "Employee",
          "Self Employeed",
          "Student",
          "Student",
          "Student",
          "Employee",
          "Student",
          "Student",
          "Self Employeed",
          "Employee",
          "Student",
          "Employee",
          "Student",
          "Employee",
          "Student",
          "Employee",
          "Student",
          "Student",
          "Student",
          "Student",
          "Employee",
          "Employee",
          "Student",
          "Employee",
          "Employee",
          "Employee",
          "Employee",
          "Self Employeed",
          "Student",
          "Student",
          "Employee",
          "Employee",
          "Student",
          "Self Employeed",
          "Employee",
          "Student",
          "Student",
          "Employee",
          "Student",
          "Employee",
          "Self Employeed",
          "Student",
          "Employee",
          "Employee",
          "Student",
          "Employee",
          "Student",
          "Student",
          "Employee",
          "Student",
          "Employee",
          "Self Employeed",
          "Self Employeed",
          "Self Employeed",
          "Student",
          "Student",
          "Self Employeed",
          "Employee",
          "Employee",
          "Employee",
          "Employee",
          "Self Employeed",
          "Student",
          "Employee",
          "Self Employeed",
          "Student",
          "Self Employeed",
          "Employee",
          "Employee",
          "Student",
          "Student",
          "Employee",
          "Employee",
          "Employee",
          "Self Employeed",
          "Student",
          "Self Employeed",
          "Employee",
          "Student",
          "Student",
          "Employee",
          "Self Employeed",
          "Student",
          "Self Employeed",
          "Student",
          "Self Employeed",
          "Student",
          "Self Employeed",
          "Employee",
          "Student",
          "Employee",
          "Self Employeed",
          "Student",
          "Employee",
          "Employee",
          "Student",
          "Student",
          "Student",
          "Employee",
          "Employee",
          "Student",
          "Student",
          "Student",
          "Student",
          "Employee",
          "Self Employeed",
          "Student",
          "Employee",
          "Self Employeed",
          "Student",
          "Self Employeed",
          "Employee",
          "Employee",
          "Student",
          "Student",
          "Employee",
          "Employee",
          "Employee",
          "Student",
          "Employee",
          "Self Employeed",
          "Self Employeed",
          "Self Employeed",
          "Student",
          "Student",
          "Self Employeed",
          "Employee",
          "Employee",
          "Employee",
          "Student",
          "Employee",
          "Self Employeed",
          "Self Employeed",
          "Self Employeed",
          "Student",
          "Student",
          "Employee",
          "Self Employeed",
          "Student",
          "Self Employeed",
          "Employee",
          "Employee",
          "Student",
          "Student",
          "Employee",
          "Employee",
          "Employee",
          "Self Employeed",
          "Student",
          "Self Employeed",
          "Employee",
          "Student",
          "Student",
          "Student",
          "Student"
         ],
         "xaxis": "x",
         "y": [
          1,
          1,
          1,
          1,
          1,
          1,
          1,
          1,
          1,
          1,
          1,
          1,
          1,
          1,
          1,
          1,
          1,
          1,
          1,
          1,
          1,
          1,
          1,
          1,
          1,
          1,
          1,
          1,
          1,
          1,
          1,
          1,
          1,
          1,
          1,
          1,
          1,
          1,
          1,
          1,
          1,
          1,
          1,
          1,
          1,
          1,
          1,
          1,
          1,
          1,
          1,
          1,
          1,
          1,
          1,
          1,
          1,
          1,
          1,
          1,
          1,
          1,
          1,
          1,
          1,
          1,
          1,
          1,
          1,
          1,
          1,
          1,
          1,
          1,
          1,
          1,
          1,
          1,
          1,
          1,
          1,
          1,
          1,
          1,
          1,
          1,
          1,
          1,
          1,
          1,
          1,
          1,
          1,
          1,
          1,
          1,
          1,
          1,
          1,
          1,
          1,
          1,
          1,
          1,
          1,
          1,
          1,
          1,
          1,
          1,
          1,
          1,
          1,
          1,
          1,
          1,
          1,
          1,
          1,
          1,
          1,
          1,
          1,
          1,
          1,
          1,
          1,
          1,
          1,
          1,
          1,
          1,
          1,
          1,
          1,
          1,
          1,
          1,
          1,
          1,
          1,
          1,
          1,
          1,
          1,
          1,
          1,
          1,
          1,
          1,
          1,
          1,
          1,
          1,
          1,
          1,
          1,
          1,
          1,
          1,
          1,
          1,
          1,
          1,
          1,
          1,
          1,
          1,
          1,
          1,
          1,
          1,
          1,
          1,
          1,
          1,
          1,
          1,
          1,
          1,
          1,
          1,
          1,
          1,
          1,
          1,
          1,
          1,
          1,
          1,
          1,
          1,
          1,
          1,
          1,
          1,
          1,
          1,
          1,
          1,
          1,
          1,
          1,
          1,
          1,
          1,
          1,
          1,
          1,
          1,
          1,
          1,
          1,
          1,
          1,
          1,
          1,
          1,
          1,
          1,
          1,
          1
         ],
         "yaxis": "y"
        }
       ],
       "layout": {
        "barmode": "group",
        "legend": {
         "title": {
          "text": "Gender"
         },
         "tracegroupgap": 0
        },
        "margin": {
         "t": 60
        },
        "template": {
         "data": {
          "bar": [
           {
            "error_x": {
             "color": "#2a3f5f"
            },
            "error_y": {
             "color": "#2a3f5f"
            },
            "marker": {
             "line": {
              "color": "#E5ECF6",
              "width": 0.5
             },
             "pattern": {
              "fillmode": "overlay",
              "size": 10,
              "solidity": 0.2
             }
            },
            "type": "bar"
           }
          ],
          "barpolar": [
           {
            "marker": {
             "line": {
              "color": "#E5ECF6",
              "width": 0.5
             },
             "pattern": {
              "fillmode": "overlay",
              "size": 10,
              "solidity": 0.2
             }
            },
            "type": "barpolar"
           }
          ],
          "carpet": [
           {
            "aaxis": {
             "endlinecolor": "#2a3f5f",
             "gridcolor": "white",
             "linecolor": "white",
             "minorgridcolor": "white",
             "startlinecolor": "#2a3f5f"
            },
            "baxis": {
             "endlinecolor": "#2a3f5f",
             "gridcolor": "white",
             "linecolor": "white",
             "minorgridcolor": "white",
             "startlinecolor": "#2a3f5f"
            },
            "type": "carpet"
           }
          ],
          "choropleth": [
           {
            "colorbar": {
             "outlinewidth": 0,
             "ticks": ""
            },
            "type": "choropleth"
           }
          ],
          "contour": [
           {
            "colorbar": {
             "outlinewidth": 0,
             "ticks": ""
            },
            "colorscale": [
             [
              0,
              "#0d0887"
             ],
             [
              0.1111111111111111,
              "#46039f"
             ],
             [
              0.2222222222222222,
              "#7201a8"
             ],
             [
              0.3333333333333333,
              "#9c179e"
             ],
             [
              0.4444444444444444,
              "#bd3786"
             ],
             [
              0.5555555555555556,
              "#d8576b"
             ],
             [
              0.6666666666666666,
              "#ed7953"
             ],
             [
              0.7777777777777778,
              "#fb9f3a"
             ],
             [
              0.8888888888888888,
              "#fdca26"
             ],
             [
              1,
              "#f0f921"
             ]
            ],
            "type": "contour"
           }
          ],
          "contourcarpet": [
           {
            "colorbar": {
             "outlinewidth": 0,
             "ticks": ""
            },
            "type": "contourcarpet"
           }
          ],
          "heatmap": [
           {
            "colorbar": {
             "outlinewidth": 0,
             "ticks": ""
            },
            "colorscale": [
             [
              0,
              "#0d0887"
             ],
             [
              0.1111111111111111,
              "#46039f"
             ],
             [
              0.2222222222222222,
              "#7201a8"
             ],
             [
              0.3333333333333333,
              "#9c179e"
             ],
             [
              0.4444444444444444,
              "#bd3786"
             ],
             [
              0.5555555555555556,
              "#d8576b"
             ],
             [
              0.6666666666666666,
              "#ed7953"
             ],
             [
              0.7777777777777778,
              "#fb9f3a"
             ],
             [
              0.8888888888888888,
              "#fdca26"
             ],
             [
              1,
              "#f0f921"
             ]
            ],
            "type": "heatmap"
           }
          ],
          "heatmapgl": [
           {
            "colorbar": {
             "outlinewidth": 0,
             "ticks": ""
            },
            "colorscale": [
             [
              0,
              "#0d0887"
             ],
             [
              0.1111111111111111,
              "#46039f"
             ],
             [
              0.2222222222222222,
              "#7201a8"
             ],
             [
              0.3333333333333333,
              "#9c179e"
             ],
             [
              0.4444444444444444,
              "#bd3786"
             ],
             [
              0.5555555555555556,
              "#d8576b"
             ],
             [
              0.6666666666666666,
              "#ed7953"
             ],
             [
              0.7777777777777778,
              "#fb9f3a"
             ],
             [
              0.8888888888888888,
              "#fdca26"
             ],
             [
              1,
              "#f0f921"
             ]
            ],
            "type": "heatmapgl"
           }
          ],
          "histogram": [
           {
            "marker": {
             "pattern": {
              "fillmode": "overlay",
              "size": 10,
              "solidity": 0.2
             }
            },
            "type": "histogram"
           }
          ],
          "histogram2d": [
           {
            "colorbar": {
             "outlinewidth": 0,
             "ticks": ""
            },
            "colorscale": [
             [
              0,
              "#0d0887"
             ],
             [
              0.1111111111111111,
              "#46039f"
             ],
             [
              0.2222222222222222,
              "#7201a8"
             ],
             [
              0.3333333333333333,
              "#9c179e"
             ],
             [
              0.4444444444444444,
              "#bd3786"
             ],
             [
              0.5555555555555556,
              "#d8576b"
             ],
             [
              0.6666666666666666,
              "#ed7953"
             ],
             [
              0.7777777777777778,
              "#fb9f3a"
             ],
             [
              0.8888888888888888,
              "#fdca26"
             ],
             [
              1,
              "#f0f921"
             ]
            ],
            "type": "histogram2d"
           }
          ],
          "histogram2dcontour": [
           {
            "colorbar": {
             "outlinewidth": 0,
             "ticks": ""
            },
            "colorscale": [
             [
              0,
              "#0d0887"
             ],
             [
              0.1111111111111111,
              "#46039f"
             ],
             [
              0.2222222222222222,
              "#7201a8"
             ],
             [
              0.3333333333333333,
              "#9c179e"
             ],
             [
              0.4444444444444444,
              "#bd3786"
             ],
             [
              0.5555555555555556,
              "#d8576b"
             ],
             [
              0.6666666666666666,
              "#ed7953"
             ],
             [
              0.7777777777777778,
              "#fb9f3a"
             ],
             [
              0.8888888888888888,
              "#fdca26"
             ],
             [
              1,
              "#f0f921"
             ]
            ],
            "type": "histogram2dcontour"
           }
          ],
          "mesh3d": [
           {
            "colorbar": {
             "outlinewidth": 0,
             "ticks": ""
            },
            "type": "mesh3d"
           }
          ],
          "parcoords": [
           {
            "line": {
             "colorbar": {
              "outlinewidth": 0,
              "ticks": ""
             }
            },
            "type": "parcoords"
           }
          ],
          "pie": [
           {
            "automargin": true,
            "type": "pie"
           }
          ],
          "scatter": [
           {
            "fillpattern": {
             "fillmode": "overlay",
             "size": 10,
             "solidity": 0.2
            },
            "type": "scatter"
           }
          ],
          "scatter3d": [
           {
            "line": {
             "colorbar": {
              "outlinewidth": 0,
              "ticks": ""
             }
            },
            "marker": {
             "colorbar": {
              "outlinewidth": 0,
              "ticks": ""
             }
            },
            "type": "scatter3d"
           }
          ],
          "scattercarpet": [
           {
            "marker": {
             "colorbar": {
              "outlinewidth": 0,
              "ticks": ""
             }
            },
            "type": "scattercarpet"
           }
          ],
          "scattergeo": [
           {
            "marker": {
             "colorbar": {
              "outlinewidth": 0,
              "ticks": ""
             }
            },
            "type": "scattergeo"
           }
          ],
          "scattergl": [
           {
            "marker": {
             "colorbar": {
              "outlinewidth": 0,
              "ticks": ""
             }
            },
            "type": "scattergl"
           }
          ],
          "scattermapbox": [
           {
            "marker": {
             "colorbar": {
              "outlinewidth": 0,
              "ticks": ""
             }
            },
            "type": "scattermapbox"
           }
          ],
          "scatterpolar": [
           {
            "marker": {
             "colorbar": {
              "outlinewidth": 0,
              "ticks": ""
             }
            },
            "type": "scatterpolar"
           }
          ],
          "scatterpolargl": [
           {
            "marker": {
             "colorbar": {
              "outlinewidth": 0,
              "ticks": ""
             }
            },
            "type": "scatterpolargl"
           }
          ],
          "scatterternary": [
           {
            "marker": {
             "colorbar": {
              "outlinewidth": 0,
              "ticks": ""
             }
            },
            "type": "scatterternary"
           }
          ],
          "surface": [
           {
            "colorbar": {
             "outlinewidth": 0,
             "ticks": ""
            },
            "colorscale": [
             [
              0,
              "#0d0887"
             ],
             [
              0.1111111111111111,
              "#46039f"
             ],
             [
              0.2222222222222222,
              "#7201a8"
             ],
             [
              0.3333333333333333,
              "#9c179e"
             ],
             [
              0.4444444444444444,
              "#bd3786"
             ],
             [
              0.5555555555555556,
              "#d8576b"
             ],
             [
              0.6666666666666666,
              "#ed7953"
             ],
             [
              0.7777777777777778,
              "#fb9f3a"
             ],
             [
              0.8888888888888888,
              "#fdca26"
             ],
             [
              1,
              "#f0f921"
             ]
            ],
            "type": "surface"
           }
          ],
          "table": [
           {
            "cells": {
             "fill": {
              "color": "#EBF0F8"
             },
             "line": {
              "color": "white"
             }
            },
            "header": {
             "fill": {
              "color": "#C8D4E3"
             },
             "line": {
              "color": "white"
             }
            },
            "type": "table"
           }
          ]
         },
         "layout": {
          "annotationdefaults": {
           "arrowcolor": "#2a3f5f",
           "arrowhead": 0,
           "arrowwidth": 1
          },
          "autotypenumbers": "strict",
          "coloraxis": {
           "colorbar": {
            "outlinewidth": 0,
            "ticks": ""
           }
          },
          "colorscale": {
           "diverging": [
            [
             0,
             "#8e0152"
            ],
            [
             0.1,
             "#c51b7d"
            ],
            [
             0.2,
             "#de77ae"
            ],
            [
             0.3,
             "#f1b6da"
            ],
            [
             0.4,
             "#fde0ef"
            ],
            [
             0.5,
             "#f7f7f7"
            ],
            [
             0.6,
             "#e6f5d0"
            ],
            [
             0.7,
             "#b8e186"
            ],
            [
             0.8,
             "#7fbc41"
            ],
            [
             0.9,
             "#4d9221"
            ],
            [
             1,
             "#276419"
            ]
           ],
           "sequential": [
            [
             0,
             "#0d0887"
            ],
            [
             0.1111111111111111,
             "#46039f"
            ],
            [
             0.2222222222222222,
             "#7201a8"
            ],
            [
             0.3333333333333333,
             "#9c179e"
            ],
            [
             0.4444444444444444,
             "#bd3786"
            ],
            [
             0.5555555555555556,
             "#d8576b"
            ],
            [
             0.6666666666666666,
             "#ed7953"
            ],
            [
             0.7777777777777778,
             "#fb9f3a"
            ],
            [
             0.8888888888888888,
             "#fdca26"
            ],
            [
             1,
             "#f0f921"
            ]
           ],
           "sequentialminus": [
            [
             0,
             "#0d0887"
            ],
            [
             0.1111111111111111,
             "#46039f"
            ],
            [
             0.2222222222222222,
             "#7201a8"
            ],
            [
             0.3333333333333333,
             "#9c179e"
            ],
            [
             0.4444444444444444,
             "#bd3786"
            ],
            [
             0.5555555555555556,
             "#d8576b"
            ],
            [
             0.6666666666666666,
             "#ed7953"
            ],
            [
             0.7777777777777778,
             "#fb9f3a"
            ],
            [
             0.8888888888888888,
             "#fdca26"
            ],
            [
             1,
             "#f0f921"
            ]
           ]
          },
          "colorway": [
           "#636efa",
           "#EF553B",
           "#00cc96",
           "#ab63fa",
           "#FFA15A",
           "#19d3f3",
           "#FF6692",
           "#B6E880",
           "#FF97FF",
           "#FECB52"
          ],
          "font": {
           "color": "#2a3f5f"
          },
          "geo": {
           "bgcolor": "white",
           "lakecolor": "white",
           "landcolor": "#E5ECF6",
           "showlakes": true,
           "showland": true,
           "subunitcolor": "white"
          },
          "hoverlabel": {
           "align": "left"
          },
          "hovermode": "closest",
          "mapbox": {
           "style": "light"
          },
          "paper_bgcolor": "white",
          "plot_bgcolor": "#E5ECF6",
          "polar": {
           "angularaxis": {
            "gridcolor": "white",
            "linecolor": "white",
            "ticks": ""
           },
           "bgcolor": "#E5ECF6",
           "radialaxis": {
            "gridcolor": "white",
            "linecolor": "white",
            "ticks": ""
           }
          },
          "scene": {
           "xaxis": {
            "backgroundcolor": "#E5ECF6",
            "gridcolor": "white",
            "gridwidth": 2,
            "linecolor": "white",
            "showbackground": true,
            "ticks": "",
            "zerolinecolor": "white"
           },
           "yaxis": {
            "backgroundcolor": "#E5ECF6",
            "gridcolor": "white",
            "gridwidth": 2,
            "linecolor": "white",
            "showbackground": true,
            "ticks": "",
            "zerolinecolor": "white"
           },
           "zaxis": {
            "backgroundcolor": "#E5ECF6",
            "gridcolor": "white",
            "gridwidth": 2,
            "linecolor": "white",
            "showbackground": true,
            "ticks": "",
            "zerolinecolor": "white"
           }
          },
          "shapedefaults": {
           "line": {
            "color": "#2a3f5f"
           }
          },
          "ternary": {
           "aaxis": {
            "gridcolor": "white",
            "linecolor": "white",
            "ticks": ""
           },
           "baxis": {
            "gridcolor": "white",
            "linecolor": "white",
            "ticks": ""
           },
           "bgcolor": "#E5ECF6",
           "caxis": {
            "gridcolor": "white",
            "linecolor": "white",
            "ticks": ""
           }
          },
          "title": {
           "x": 0.05
          },
          "xaxis": {
           "automargin": true,
           "gridcolor": "white",
           "linecolor": "white",
           "ticks": "",
           "title": {
            "standoff": 15
           },
           "zerolinecolor": "white",
           "zerolinewidth": 2
          },
          "yaxis": {
           "automargin": true,
           "gridcolor": "white",
           "linecolor": "white",
           "ticks": "",
           "title": {
            "standoff": 15
           },
           "zerolinecolor": "white",
           "zerolinewidth": 2
          }
         }
        },
        "title": {
         "text": "Bar of Occupation vs Gender"
        },
        "xaxis": {
         "anchor": "y",
         "domain": [
          0,
          1
         ],
         "title": {
          "text": "Occupation"
         }
        },
        "yaxis": {
         "anchor": "x",
         "domain": [
          0,
          1
         ],
         "title": {
          "text": "Count"
         }
        }
       }
      }
     },
     "metadata": {},
     "output_type": "display_data"
    }
   ],
   "source": [
    "bilable_dist_plot(\"Occupation\", \"Gender\", \"bar\") # Distribution of Occupation vs Gender using a bar chart"
   ]
  },
  {
   "cell_type": "code",
   "execution_count": 18,
   "metadata": {},
   "outputs": [
    {
     "data": {
      "application/vnd.plotly.v1+json": {
       "config": {
        "plotlyServerURL": "https://plot.ly"
       },
       "data": [
        {
         "boxmean": true,
         "type": "box",
         "x": [
          "Student",
          "Student",
          "Student",
          "Student",
          "Student",
          "Employee",
          "Student",
          "Student",
          "Student",
          "Student",
          "Student",
          "Student",
          "Student",
          "Student",
          "Self Employeed",
          "Student",
          "Employee",
          "Student",
          "Student",
          "Student",
          "Student",
          "Student",
          "Student",
          "Student",
          "Student",
          "Student",
          "Student",
          "Student",
          "Employee",
          "Student",
          "Employee",
          "Student",
          "Employee",
          "Student",
          "Student",
          "Student",
          "Student",
          "House wife",
          "Student",
          "Student",
          "Self Employeed",
          "Student",
          "Student",
          "Student",
          "Student",
          "Self Employeed",
          "Student",
          "Student",
          "Student",
          "Student",
          "Student",
          "Student",
          "Student",
          "Student",
          "Student",
          "Student",
          "Student",
          "Student",
          "Employee",
          "Student",
          "Student",
          "Student",
          "Student",
          "Student",
          "Student",
          "Student",
          "Employee",
          "Student",
          "Student",
          "Employee",
          "Student",
          "Student",
          "Student",
          "Student",
          "Student",
          "Student",
          "Student",
          "Student",
          "Student",
          "Student",
          "Student",
          "Student",
          "Student",
          "Student",
          "Student",
          "Student",
          "Student",
          "Student",
          "Student",
          "Self Employeed",
          "Employee",
          "Self Employeed",
          "Student",
          "Student",
          "Student",
          "Student",
          "Student",
          "Student",
          "Employee",
          "House wife",
          "Student",
          "Student",
          "Employee",
          "Student",
          "Employee",
          "Employee",
          "Employee",
          "Student",
          "Employee",
          "Student",
          "Student",
          "Student",
          "Student",
          "Student",
          "Employee",
          "Employee",
          "House wife",
          "Self Employeed",
          "Employee",
          "Employee",
          "Self Employeed",
          "Self Employeed",
          "Self Employeed",
          "Employee",
          "Self Employeed",
          "Self Employeed",
          "Student",
          "Student",
          "Student",
          "Student",
          "Employee",
          "Employee",
          "Student",
          "Student",
          "Student",
          "Employee",
          "Self Employeed",
          "Employee",
          "Employee",
          "Student",
          "Student",
          "Student",
          "Employee",
          "House wife",
          "Student",
          "Employee",
          "Student",
          "Student",
          "Employee",
          "Student",
          "Student",
          "Student",
          "Student",
          "Student",
          "Self Employeed",
          "Student",
          "Employee",
          "House wife",
          "Employee",
          "Student",
          "Student",
          "Employee",
          "Employee",
          "Employee",
          "Employee",
          "Employee",
          "Student",
          "Student",
          "Self Employeed",
          "Student",
          "Student",
          "Student",
          "Employee",
          "Student",
          "Employee",
          "Employee",
          "Student",
          "Self Employeed",
          "Employee",
          "Self Employeed",
          "Employee",
          "Student",
          "Employee",
          "Student",
          "House wife",
          "Employee",
          "Student",
          "Employee",
          "Employee",
          "Self Employeed",
          "Student",
          "Employee",
          "Employee",
          "Employee",
          "Self Employeed",
          "Student",
          "Student",
          "Employee",
          "House wife",
          "Student",
          "Student",
          "Student",
          "Employee",
          "Employee",
          "Student",
          "Student",
          "Employee",
          "Student",
          "Self Employeed",
          "Employee",
          "Self Employeed",
          "Self Employeed",
          "Student",
          "Student",
          "Employee",
          "Self Employeed",
          "Employee",
          "Employee",
          "House wife",
          "Self Employeed",
          "Student",
          "Student",
          "Employee",
          "Employee",
          "Student",
          "Self Employeed",
          "Student",
          "Student",
          "Self Employeed",
          "Employee",
          "Self Employeed",
          "Student",
          "Self Employeed",
          "Self Employeed",
          "Employee",
          "Employee",
          "Student",
          "Student",
          "Employee",
          "Student",
          "Employee",
          "Student",
          "Employee",
          "Student",
          "Self Employeed",
          "Student",
          "Employee",
          "Self Employeed",
          "Employee",
          "Employee",
          "Employee",
          "Student",
          "Student",
          "Employee",
          "House wife",
          "Self Employeed",
          "Student",
          "Self Employeed",
          "Student",
          "Employee",
          "Self Employeed",
          "Employee",
          "Student",
          "Employee",
          "Self Employeed",
          "Employee",
          "Employee",
          "Employee",
          "Student",
          "Employee",
          "Employee",
          "Employee",
          "Self Employeed",
          "Employee",
          "Student",
          "Student",
          "Employee",
          "Student",
          "Employee",
          "Employee",
          "Student",
          "Student",
          "Student",
          "Employee",
          "Employee",
          "Student",
          "Student",
          "Employee",
          "Student",
          "Student",
          "Self Employeed",
          "Employee",
          "Student",
          "Employee",
          "Employee",
          "Student",
          "Student",
          "Employee",
          "Employee",
          "Employee",
          "Student",
          "Student",
          "Student",
          "Employee",
          "Student",
          "Student",
          "Student",
          "Student",
          "Student",
          "Student",
          "Employee",
          "Student",
          "Self Employeed",
          "Student",
          "Student",
          "Self Employeed",
          "Employee",
          "Self Employeed",
          "Student",
          "Self Employeed",
          "Self Employeed",
          "Employee",
          "Employee",
          "Student",
          "Student",
          "Employee",
          "Student",
          "Employee",
          "Student",
          "Employee",
          "Employee",
          "Student",
          "Student",
          "Employee",
          "Student",
          "Self Employeed",
          "Employee",
          "Self Employeed",
          "Self Employeed",
          "Student",
          "Student",
          "Employee",
          "Self Employeed",
          "Employee",
          "Employee",
          "Employee",
          "Employee",
          "Student",
          "Student",
          "Employee",
          "Student",
          "Self Employeed",
          "Employee",
          "Self Employeed",
          "Self Employeed",
          "Student",
          "Student",
          "Self Employeed",
          "Employee",
          "Self Employeed",
          "Student",
          "Self Employeed",
          "Self Employeed",
          "Employee",
          "Employee",
          "Student",
          "Student",
          "Employee",
          "Student",
          "Employee",
          "Student",
          "Employee",
          "Student",
          "Self Employeed",
          "Student",
          "Employee",
          "Self Employeed",
          "Employee",
          "Employee",
          "Student",
          "Employee",
          "Student",
          "Student",
          "Student",
          "Student",
          "Student",
          "Student",
          "Student"
         ],
         "y": [
          20,
          24,
          22,
          22,
          22,
          27,
          22,
          24,
          23,
          23,
          22,
          23,
          23,
          21,
          23,
          24,
          28,
          23,
          25,
          21,
          24,
          22,
          22,
          23,
          21,
          25,
          22,
          22,
          23,
          22,
          22,
          22,
          25,
          22,
          22,
          25,
          25,
          32,
          23,
          23,
          30,
          23,
          23,
          22,
          22,
          27,
          24,
          23,
          23,
          22,
          23,
          23,
          24,
          25,
          22,
          28,
          22,
          24,
          31,
          25,
          23,
          22,
          23,
          23,
          23,
          25,
          24,
          23,
          23,
          24,
          22,
          24,
          25,
          23,
          26,
          24,
          26,
          21,
          22,
          24,
          24,
          23,
          23,
          22,
          23,
          24,
          24,
          25,
          25,
          28,
          27,
          26,
          22,
          24,
          23,
          25,
          23,
          23,
          26,
          32,
          24,
          23,
          22,
          24,
          26,
          28,
          26,
          25,
          25,
          18,
          21,
          25,
          25,
          23,
          23,
          25,
          31,
          24,
          32,
          25,
          27,
          26,
          26,
          32,
          24,
          27,
          23,
          25,
          23,
          23,
          28,
          32,
          23,
          19,
          19,
          27,
          25,
          33,
          26,
          22,
          23,
          22,
          25,
          30,
          24,
          25,
          23,
          24,
          32,
          22,
          23,
          23,
          20,
          21,
          24,
          23,
          25,
          32,
          27,
          20,
          21,
          26,
          25,
          26,
          26,
          27,
          27,
          24,
          25,
          20,
          22,
          26,
          27,
          25,
          24,
          23,
          22,
          26,
          26,
          25,
          29,
          23,
          22,
          22,
          32,
          28,
          22,
          25,
          26,
          31,
          24,
          24,
          31,
          26,
          24,
          22,
          19,
          25,
          23,
          23,
          23,
          24,
          22,
          26,
          25,
          20,
          29,
          23,
          25,
          29,
          27,
          25,
          21,
          23,
          24,
          32,
          28,
          26,
          31,
          27,
          21,
          23,
          26,
          32,
          25,
          28,
          21,
          24,
          26,
          32,
          29,
          21,
          24,
          26,
          25,
          29,
          22,
          24,
          27,
          23,
          32,
          22,
          28,
          23,
          30,
          21,
          26,
          25,
          31,
          23,
          29,
          21,
          20,
          22,
          30,
          27,
          23,
          30,
          23,
          28,
          30,
          24,
          21,
          23,
          25,
          24,
          26,
          25,
          22,
          26,
          23,
          21,
          25,
          24,
          22,
          23,
          24,
          22,
          30,
          23,
          19,
          21,
          23,
          24,
          26,
          26,
          25,
          28,
          25,
          20,
          27,
          25,
          24,
          25,
          25,
          24,
          24,
          22,
          28,
          25,
          22,
          22,
          22,
          27,
          22,
          24,
          23,
          23,
          22,
          23,
          32,
          25,
          28,
          21,
          24,
          26,
          32,
          29,
          21,
          24,
          26,
          21,
          29,
          22,
          24,
          27,
          23,
          32,
          22,
          22,
          26,
          25,
          20,
          29,
          23,
          25,
          29,
          27,
          25,
          21,
          23,
          24,
          22,
          28,
          26,
          22,
          26,
          25,
          20,
          29,
          23,
          25,
          29,
          27,
          25,
          21,
          24,
          26,
          32,
          29,
          21,
          24,
          26,
          31,
          29,
          22,
          24,
          27,
          23,
          30,
          22,
          28,
          23,
          30,
          21,
          26,
          25,
          31,
          23,
          22,
          27,
          22,
          24,
          23,
          23,
          22,
          23,
          23
         ]
        }
       ],
       "layout": {
        "template": {
         "data": {
          "bar": [
           {
            "error_x": {
             "color": "#2a3f5f"
            },
            "error_y": {
             "color": "#2a3f5f"
            },
            "marker": {
             "line": {
              "color": "#E5ECF6",
              "width": 0.5
             },
             "pattern": {
              "fillmode": "overlay",
              "size": 10,
              "solidity": 0.2
             }
            },
            "type": "bar"
           }
          ],
          "barpolar": [
           {
            "marker": {
             "line": {
              "color": "#E5ECF6",
              "width": 0.5
             },
             "pattern": {
              "fillmode": "overlay",
              "size": 10,
              "solidity": 0.2
             }
            },
            "type": "barpolar"
           }
          ],
          "carpet": [
           {
            "aaxis": {
             "endlinecolor": "#2a3f5f",
             "gridcolor": "white",
             "linecolor": "white",
             "minorgridcolor": "white",
             "startlinecolor": "#2a3f5f"
            },
            "baxis": {
             "endlinecolor": "#2a3f5f",
             "gridcolor": "white",
             "linecolor": "white",
             "minorgridcolor": "white",
             "startlinecolor": "#2a3f5f"
            },
            "type": "carpet"
           }
          ],
          "choropleth": [
           {
            "colorbar": {
             "outlinewidth": 0,
             "ticks": ""
            },
            "type": "choropleth"
           }
          ],
          "contour": [
           {
            "colorbar": {
             "outlinewidth": 0,
             "ticks": ""
            },
            "colorscale": [
             [
              0,
              "#0d0887"
             ],
             [
              0.1111111111111111,
              "#46039f"
             ],
             [
              0.2222222222222222,
              "#7201a8"
             ],
             [
              0.3333333333333333,
              "#9c179e"
             ],
             [
              0.4444444444444444,
              "#bd3786"
             ],
             [
              0.5555555555555556,
              "#d8576b"
             ],
             [
              0.6666666666666666,
              "#ed7953"
             ],
             [
              0.7777777777777778,
              "#fb9f3a"
             ],
             [
              0.8888888888888888,
              "#fdca26"
             ],
             [
              1,
              "#f0f921"
             ]
            ],
            "type": "contour"
           }
          ],
          "contourcarpet": [
           {
            "colorbar": {
             "outlinewidth": 0,
             "ticks": ""
            },
            "type": "contourcarpet"
           }
          ],
          "heatmap": [
           {
            "colorbar": {
             "outlinewidth": 0,
             "ticks": ""
            },
            "colorscale": [
             [
              0,
              "#0d0887"
             ],
             [
              0.1111111111111111,
              "#46039f"
             ],
             [
              0.2222222222222222,
              "#7201a8"
             ],
             [
              0.3333333333333333,
              "#9c179e"
             ],
             [
              0.4444444444444444,
              "#bd3786"
             ],
             [
              0.5555555555555556,
              "#d8576b"
             ],
             [
              0.6666666666666666,
              "#ed7953"
             ],
             [
              0.7777777777777778,
              "#fb9f3a"
             ],
             [
              0.8888888888888888,
              "#fdca26"
             ],
             [
              1,
              "#f0f921"
             ]
            ],
            "type": "heatmap"
           }
          ],
          "heatmapgl": [
           {
            "colorbar": {
             "outlinewidth": 0,
             "ticks": ""
            },
            "colorscale": [
             [
              0,
              "#0d0887"
             ],
             [
              0.1111111111111111,
              "#46039f"
             ],
             [
              0.2222222222222222,
              "#7201a8"
             ],
             [
              0.3333333333333333,
              "#9c179e"
             ],
             [
              0.4444444444444444,
              "#bd3786"
             ],
             [
              0.5555555555555556,
              "#d8576b"
             ],
             [
              0.6666666666666666,
              "#ed7953"
             ],
             [
              0.7777777777777778,
              "#fb9f3a"
             ],
             [
              0.8888888888888888,
              "#fdca26"
             ],
             [
              1,
              "#f0f921"
             ]
            ],
            "type": "heatmapgl"
           }
          ],
          "histogram": [
           {
            "marker": {
             "pattern": {
              "fillmode": "overlay",
              "size": 10,
              "solidity": 0.2
             }
            },
            "type": "histogram"
           }
          ],
          "histogram2d": [
           {
            "colorbar": {
             "outlinewidth": 0,
             "ticks": ""
            },
            "colorscale": [
             [
              0,
              "#0d0887"
             ],
             [
              0.1111111111111111,
              "#46039f"
             ],
             [
              0.2222222222222222,
              "#7201a8"
             ],
             [
              0.3333333333333333,
              "#9c179e"
             ],
             [
              0.4444444444444444,
              "#bd3786"
             ],
             [
              0.5555555555555556,
              "#d8576b"
             ],
             [
              0.6666666666666666,
              "#ed7953"
             ],
             [
              0.7777777777777778,
              "#fb9f3a"
             ],
             [
              0.8888888888888888,
              "#fdca26"
             ],
             [
              1,
              "#f0f921"
             ]
            ],
            "type": "histogram2d"
           }
          ],
          "histogram2dcontour": [
           {
            "colorbar": {
             "outlinewidth": 0,
             "ticks": ""
            },
            "colorscale": [
             [
              0,
              "#0d0887"
             ],
             [
              0.1111111111111111,
              "#46039f"
             ],
             [
              0.2222222222222222,
              "#7201a8"
             ],
             [
              0.3333333333333333,
              "#9c179e"
             ],
             [
              0.4444444444444444,
              "#bd3786"
             ],
             [
              0.5555555555555556,
              "#d8576b"
             ],
             [
              0.6666666666666666,
              "#ed7953"
             ],
             [
              0.7777777777777778,
              "#fb9f3a"
             ],
             [
              0.8888888888888888,
              "#fdca26"
             ],
             [
              1,
              "#f0f921"
             ]
            ],
            "type": "histogram2dcontour"
           }
          ],
          "mesh3d": [
           {
            "colorbar": {
             "outlinewidth": 0,
             "ticks": ""
            },
            "type": "mesh3d"
           }
          ],
          "parcoords": [
           {
            "line": {
             "colorbar": {
              "outlinewidth": 0,
              "ticks": ""
             }
            },
            "type": "parcoords"
           }
          ],
          "pie": [
           {
            "automargin": true,
            "type": "pie"
           }
          ],
          "scatter": [
           {
            "fillpattern": {
             "fillmode": "overlay",
             "size": 10,
             "solidity": 0.2
            },
            "type": "scatter"
           }
          ],
          "scatter3d": [
           {
            "line": {
             "colorbar": {
              "outlinewidth": 0,
              "ticks": ""
             }
            },
            "marker": {
             "colorbar": {
              "outlinewidth": 0,
              "ticks": ""
             }
            },
            "type": "scatter3d"
           }
          ],
          "scattercarpet": [
           {
            "marker": {
             "colorbar": {
              "outlinewidth": 0,
              "ticks": ""
             }
            },
            "type": "scattercarpet"
           }
          ],
          "scattergeo": [
           {
            "marker": {
             "colorbar": {
              "outlinewidth": 0,
              "ticks": ""
             }
            },
            "type": "scattergeo"
           }
          ],
          "scattergl": [
           {
            "marker": {
             "colorbar": {
              "outlinewidth": 0,
              "ticks": ""
             }
            },
            "type": "scattergl"
           }
          ],
          "scattermapbox": [
           {
            "marker": {
             "colorbar": {
              "outlinewidth": 0,
              "ticks": ""
             }
            },
            "type": "scattermapbox"
           }
          ],
          "scatterpolar": [
           {
            "marker": {
             "colorbar": {
              "outlinewidth": 0,
              "ticks": ""
             }
            },
            "type": "scatterpolar"
           }
          ],
          "scatterpolargl": [
           {
            "marker": {
             "colorbar": {
              "outlinewidth": 0,
              "ticks": ""
             }
            },
            "type": "scatterpolargl"
           }
          ],
          "scatterternary": [
           {
            "marker": {
             "colorbar": {
              "outlinewidth": 0,
              "ticks": ""
             }
            },
            "type": "scatterternary"
           }
          ],
          "surface": [
           {
            "colorbar": {
             "outlinewidth": 0,
             "ticks": ""
            },
            "colorscale": [
             [
              0,
              "#0d0887"
             ],
             [
              0.1111111111111111,
              "#46039f"
             ],
             [
              0.2222222222222222,
              "#7201a8"
             ],
             [
              0.3333333333333333,
              "#9c179e"
             ],
             [
              0.4444444444444444,
              "#bd3786"
             ],
             [
              0.5555555555555556,
              "#d8576b"
             ],
             [
              0.6666666666666666,
              "#ed7953"
             ],
             [
              0.7777777777777778,
              "#fb9f3a"
             ],
             [
              0.8888888888888888,
              "#fdca26"
             ],
             [
              1,
              "#f0f921"
             ]
            ],
            "type": "surface"
           }
          ],
          "table": [
           {
            "cells": {
             "fill": {
              "color": "#EBF0F8"
             },
             "line": {
              "color": "white"
             }
            },
            "header": {
             "fill": {
              "color": "#C8D4E3"
             },
             "line": {
              "color": "white"
             }
            },
            "type": "table"
           }
          ]
         },
         "layout": {
          "annotationdefaults": {
           "arrowcolor": "#2a3f5f",
           "arrowhead": 0,
           "arrowwidth": 1
          },
          "autotypenumbers": "strict",
          "coloraxis": {
           "colorbar": {
            "outlinewidth": 0,
            "ticks": ""
           }
          },
          "colorscale": {
           "diverging": [
            [
             0,
             "#8e0152"
            ],
            [
             0.1,
             "#c51b7d"
            ],
            [
             0.2,
             "#de77ae"
            ],
            [
             0.3,
             "#f1b6da"
            ],
            [
             0.4,
             "#fde0ef"
            ],
            [
             0.5,
             "#f7f7f7"
            ],
            [
             0.6,
             "#e6f5d0"
            ],
            [
             0.7,
             "#b8e186"
            ],
            [
             0.8,
             "#7fbc41"
            ],
            [
             0.9,
             "#4d9221"
            ],
            [
             1,
             "#276419"
            ]
           ],
           "sequential": [
            [
             0,
             "#0d0887"
            ],
            [
             0.1111111111111111,
             "#46039f"
            ],
            [
             0.2222222222222222,
             "#7201a8"
            ],
            [
             0.3333333333333333,
             "#9c179e"
            ],
            [
             0.4444444444444444,
             "#bd3786"
            ],
            [
             0.5555555555555556,
             "#d8576b"
            ],
            [
             0.6666666666666666,
             "#ed7953"
            ],
            [
             0.7777777777777778,
             "#fb9f3a"
            ],
            [
             0.8888888888888888,
             "#fdca26"
            ],
            [
             1,
             "#f0f921"
            ]
           ],
           "sequentialminus": [
            [
             0,
             "#0d0887"
            ],
            [
             0.1111111111111111,
             "#46039f"
            ],
            [
             0.2222222222222222,
             "#7201a8"
            ],
            [
             0.3333333333333333,
             "#9c179e"
            ],
            [
             0.4444444444444444,
             "#bd3786"
            ],
            [
             0.5555555555555556,
             "#d8576b"
            ],
            [
             0.6666666666666666,
             "#ed7953"
            ],
            [
             0.7777777777777778,
             "#fb9f3a"
            ],
            [
             0.8888888888888888,
             "#fdca26"
            ],
            [
             1,
             "#f0f921"
            ]
           ]
          },
          "colorway": [
           "#636efa",
           "#EF553B",
           "#00cc96",
           "#ab63fa",
           "#FFA15A",
           "#19d3f3",
           "#FF6692",
           "#B6E880",
           "#FF97FF",
           "#FECB52"
          ],
          "font": {
           "color": "#2a3f5f"
          },
          "geo": {
           "bgcolor": "white",
           "lakecolor": "white",
           "landcolor": "#E5ECF6",
           "showlakes": true,
           "showland": true,
           "subunitcolor": "white"
          },
          "hoverlabel": {
           "align": "left"
          },
          "hovermode": "closest",
          "mapbox": {
           "style": "light"
          },
          "paper_bgcolor": "white",
          "plot_bgcolor": "#E5ECF6",
          "polar": {
           "angularaxis": {
            "gridcolor": "white",
            "linecolor": "white",
            "ticks": ""
           },
           "bgcolor": "#E5ECF6",
           "radialaxis": {
            "gridcolor": "white",
            "linecolor": "white",
            "ticks": ""
           }
          },
          "scene": {
           "xaxis": {
            "backgroundcolor": "#E5ECF6",
            "gridcolor": "white",
            "gridwidth": 2,
            "linecolor": "white",
            "showbackground": true,
            "ticks": "",
            "zerolinecolor": "white"
           },
           "yaxis": {
            "backgroundcolor": "#E5ECF6",
            "gridcolor": "white",
            "gridwidth": 2,
            "linecolor": "white",
            "showbackground": true,
            "ticks": "",
            "zerolinecolor": "white"
           },
           "zaxis": {
            "backgroundcolor": "#E5ECF6",
            "gridcolor": "white",
            "gridwidth": 2,
            "linecolor": "white",
            "showbackground": true,
            "ticks": "",
            "zerolinecolor": "white"
           }
          },
          "shapedefaults": {
           "line": {
            "color": "#2a3f5f"
           }
          },
          "ternary": {
           "aaxis": {
            "gridcolor": "white",
            "linecolor": "white",
            "ticks": ""
           },
           "baxis": {
            "gridcolor": "white",
            "linecolor": "white",
            "ticks": ""
           },
           "bgcolor": "#E5ECF6",
           "caxis": {
            "gridcolor": "white",
            "linecolor": "white",
            "ticks": ""
           }
          },
          "title": {
           "x": 0.05
          },
          "xaxis": {
           "automargin": true,
           "gridcolor": "white",
           "linecolor": "white",
           "ticks": "",
           "title": {
            "standoff": 15
           },
           "zerolinecolor": "white",
           "zerolinewidth": 2
          },
          "yaxis": {
           "automargin": true,
           "gridcolor": "white",
           "linecolor": "white",
           "ticks": "",
           "title": {
            "standoff": 15
           },
           "zerolinecolor": "white",
           "zerolinewidth": 2
          }
         }
        },
        "title": {
         "text": "Boxplot of Occupation vs Age"
        },
        "xaxis": {
         "title": {
          "text": "Occupation"
         }
        },
        "yaxis": {
         "title": {
          "text": "Age"
         }
        }
       }
      }
     },
     "metadata": {},
     "output_type": "display_data"
    }
   ],
   "source": [
    "bilable_dist_plot(\"Occupation\", \"Age\", \"boxplot\") # Distribution of Occupation vs Gender using a boxplot"
   ]
  },
  {
   "cell_type": "code",
   "execution_count": 31,
   "metadata": {},
   "outputs": [
    {
     "data": {
      "application/vnd.plotly.v1+json": {
       "config": {
        "plotlyServerURL": "https://plot.ly"
       },
       "data": [
        {
         "alignmentgroup": "True",
         "bingroup": "x",
         "hovertemplate": "Feedback=Positive<br>Occupation=Student<br>Gender=Female<br>Marital Status=Single<br>Educational Qualifications=%{x}<br>count=%{y}<extra></extra>",
         "legendgroup": "Positive",
         "marker": {
          "color": "#636efa",
          "pattern": {
           "shape": ""
          }
         },
         "name": "Positive",
         "offsetgroup": "Positive",
         "orientation": "v",
         "showlegend": true,
         "type": "histogram",
         "x": [
          "Post Graduate",
          "Graduate",
          "Graduate",
          "Post Graduate",
          "Post Graduate",
          "Post Graduate",
          "Post Graduate",
          "Post Graduate",
          "Post Graduate",
          "Graduate",
          "Post Graduate",
          "Post Graduate",
          "Post Graduate",
          "Post Graduate",
          "Post Graduate",
          "Post Graduate",
          "Post Graduate",
          "Post Graduate",
          "Graduate",
          "Post Graduate",
          "Post Graduate",
          "Graduate",
          "Post Graduate",
          "Post Graduate",
          "Post Graduate",
          "Post Graduate",
          "Post Graduate",
          "Post Graduate",
          "Post Graduate",
          "Post Graduate",
          "Post Graduate",
          "Post Graduate",
          "Graduate",
          "Graduate",
          "Post Graduate",
          "Ph.D",
          "Graduate",
          "Post Graduate",
          "Graduate",
          "Post Graduate",
          "Post Graduate",
          "Post Graduate",
          "Post Graduate",
          "Graduate",
          "Post Graduate",
          "Post Graduate",
          "Graduate",
          "Ph.D",
          "Graduate",
          "Post Graduate",
          "Graduate",
          "Post Graduate",
          "Post Graduate",
          "Graduate",
          "Post Graduate",
          "Post Graduate",
          "Graduate",
          "Graduate",
          "Ph.D",
          "Graduate",
          "Post Graduate",
          "Graduate",
          "Graduate",
          "Post Graduate",
          "Post Graduate",
          "Post Graduate",
          "Post Graduate",
          "Post Graduate",
          "Post Graduate",
          "Graduate",
          "Ph.D",
          "Graduate",
          "Ph.D",
          "Graduate",
          "Post Graduate",
          "Graduate",
          "Post Graduate",
          "Post Graduate",
          "Post Graduate",
          "Post Graduate",
          "Post Graduate"
         ],
         "xaxis": "x4",
         "yaxis": "y4"
        },
        {
         "alignmentgroup": "True",
         "bingroup": "x",
         "hovertemplate": "Feedback=Positive<br>Occupation=Student<br>Gender=Female<br>Marital Status=Married<br>Educational Qualifications=%{x}<br>count=%{y}<extra></extra>",
         "legendgroup": "Positive",
         "marker": {
          "color": "#636efa",
          "pattern": {
           "shape": ""
          }
         },
         "name": "Positive",
         "offsetgroup": "Positive",
         "orientation": "v",
         "showlegend": false,
         "type": "histogram",
         "x": [
          "Graduate",
          "Ph.D",
          "Post Graduate",
          "Ph.D",
          "Post Graduate"
         ],
         "xaxis": "x5",
         "yaxis": "y5"
        },
        {
         "alignmentgroup": "True",
         "bingroup": "x",
         "hovertemplate": "Feedback=Positive<br>Occupation=Student<br>Gender=Male<br>Marital Status=Single<br>Educational Qualifications=%{x}<br>count=%{y}<extra></extra>",
         "legendgroup": "Positive",
         "marker": {
          "color": "#636efa",
          "pattern": {
           "shape": ""
          }
         },
         "name": "Positive",
         "offsetgroup": "Positive",
         "orientation": "v",
         "showlegend": false,
         "type": "histogram",
         "x": [
          "Post Graduate",
          "Graduate",
          "Post Graduate",
          "Graduate",
          "Post Graduate",
          "Post Graduate",
          "Graduate",
          "Post Graduate",
          "Post Graduate",
          "Post Graduate",
          "Post Graduate",
          "Post Graduate",
          "Post Graduate",
          "Post Graduate",
          "Graduate",
          "Post Graduate",
          "Graduate",
          "Post Graduate",
          "Post Graduate",
          "Post Graduate",
          "Post Graduate",
          "Post Graduate",
          "Post Graduate",
          "Post Graduate",
          "Post Graduate",
          "Graduate",
          "Post Graduate",
          "Graduate",
          "Post Graduate",
          "Post Graduate",
          "Post Graduate",
          "Graduate",
          "Post Graduate",
          "Post Graduate",
          "Post Graduate",
          "Post Graduate",
          "Post Graduate",
          "Post Graduate",
          "Graduate",
          "Post Graduate",
          "Post Graduate",
          "Post Graduate",
          "Graduate",
          "Post Graduate",
          "Post Graduate",
          "Graduate",
          "Post Graduate",
          "Post Graduate",
          "Post Graduate",
          "Post Graduate",
          "Post Graduate",
          "Post Graduate",
          "Post Graduate",
          "Post Graduate",
          "Post Graduate",
          "Post Graduate",
          "Post Graduate",
          "Graduate",
          "Graduate",
          "Graduate",
          "Post Graduate",
          "Graduate",
          "Graduate",
          "Post Graduate",
          "Graduate",
          "Post Graduate",
          "Post Graduate",
          "Graduate",
          "Graduate",
          "Post Graduate",
          "Graduate",
          "Graduate",
          "Graduate",
          "Graduate",
          "Graduate",
          "Graduate",
          "Post Graduate",
          "Graduate",
          "Graduate",
          "Graduate",
          "Post Graduate",
          "Post Graduate",
          "Graduate",
          "Post Graduate",
          "Graduate",
          "Graduate",
          "Graduate",
          "Graduate",
          "Graduate",
          "Graduate",
          "Graduate",
          "Post Graduate",
          "Graduate",
          "Graduate",
          "Graduate",
          "Post Graduate",
          "Graduate",
          "Post Graduate",
          "Post Graduate"
         ],
         "xaxis": "x",
         "yaxis": "y"
        },
        {
         "alignmentgroup": "True",
         "bingroup": "x",
         "hovertemplate": "Feedback=Positive<br>Occupation=Student<br>Gender=Male<br>Marital Status=Married<br>Educational Qualifications=%{x}<br>count=%{y}<extra></extra>",
         "legendgroup": "Positive",
         "marker": {
          "color": "#636efa",
          "pattern": {
           "shape": ""
          }
         },
         "name": "Positive",
         "offsetgroup": "Positive",
         "orientation": "v",
         "showlegend": false,
         "type": "histogram",
         "x": [
          "Graduate"
         ],
         "xaxis": "x2",
         "yaxis": "y2"
        },
        {
         "alignmentgroup": "True",
         "bingroup": "x",
         "hovertemplate": "Feedback=Negative <br>Occupation=Student<br>Gender=Female<br>Marital Status=Single<br>Educational Qualifications=%{x}<br>count=%{y}<extra></extra>",
         "legendgroup": "Negative ",
         "marker": {
          "color": "#EF553B",
          "pattern": {
           "shape": ""
          }
         },
         "name": "Negative ",
         "offsetgroup": "Negative ",
         "orientation": "v",
         "showlegend": true,
         "type": "histogram",
         "x": [
          "Graduate",
          "Graduate",
          "Graduate",
          "Ph.D",
          "Graduate",
          "Post Graduate"
         ],
         "xaxis": "x4",
         "yaxis": "y4"
        },
        {
         "alignmentgroup": "True",
         "bingroup": "x",
         "hovertemplate": "Feedback=Negative <br>Occupation=Student<br>Gender=Male<br>Marital Status=Single<br>Educational Qualifications=%{x}<br>count=%{y}<extra></extra>",
         "legendgroup": "Negative ",
         "marker": {
          "color": "#EF553B",
          "pattern": {
           "shape": ""
          }
         },
         "name": "Negative ",
         "offsetgroup": "Negative ",
         "orientation": "v",
         "showlegend": false,
         "type": "histogram",
         "x": [
          "Post Graduate",
          "Post Graduate",
          "Graduate",
          "Graduate",
          "Post Graduate",
          "Graduate",
          "Graduate",
          "Post Graduate",
          "Graduate",
          "Post Graduate",
          "Graduate",
          "Post Graduate",
          "Post Graduate",
          "Graduate",
          "Graduate"
         ],
         "xaxis": "x",
         "yaxis": "y"
        }
       ],
       "frames": [
        {
         "data": [
          {
           "alignmentgroup": "True",
           "bingroup": "x",
           "hovertemplate": "Feedback=Positive<br>Occupation=Student<br>Gender=Female<br>Marital Status=Single<br>Educational Qualifications=%{x}<br>count=%{y}<extra></extra>",
           "legendgroup": "Positive",
           "marker": {
            "color": "#636efa",
            "pattern": {
             "shape": ""
            }
           },
           "name": "Positive",
           "offsetgroup": "Positive",
           "orientation": "v",
           "showlegend": true,
           "type": "histogram",
           "x": [
            "Post Graduate",
            "Graduate",
            "Graduate",
            "Post Graduate",
            "Post Graduate",
            "Post Graduate",
            "Post Graduate",
            "Post Graduate",
            "Post Graduate",
            "Graduate",
            "Post Graduate",
            "Post Graduate",
            "Post Graduate",
            "Post Graduate",
            "Post Graduate",
            "Post Graduate",
            "Post Graduate",
            "Post Graduate",
            "Graduate",
            "Post Graduate",
            "Post Graduate",
            "Graduate",
            "Post Graduate",
            "Post Graduate",
            "Post Graduate",
            "Post Graduate",
            "Post Graduate",
            "Post Graduate",
            "Post Graduate",
            "Post Graduate",
            "Post Graduate",
            "Post Graduate",
            "Graduate",
            "Graduate",
            "Post Graduate",
            "Ph.D",
            "Graduate",
            "Post Graduate",
            "Graduate",
            "Post Graduate",
            "Post Graduate",
            "Post Graduate",
            "Post Graduate",
            "Graduate",
            "Post Graduate",
            "Post Graduate",
            "Graduate",
            "Ph.D",
            "Graduate",
            "Post Graduate",
            "Graduate",
            "Post Graduate",
            "Post Graduate",
            "Graduate",
            "Post Graduate",
            "Post Graduate",
            "Graduate",
            "Graduate",
            "Ph.D",
            "Graduate",
            "Post Graduate",
            "Graduate",
            "Graduate",
            "Post Graduate",
            "Post Graduate",
            "Post Graduate",
            "Post Graduate",
            "Post Graduate",
            "Post Graduate",
            "Graduate",
            "Ph.D",
            "Graduate",
            "Ph.D",
            "Graduate",
            "Post Graduate",
            "Graduate",
            "Post Graduate",
            "Post Graduate",
            "Post Graduate",
            "Post Graduate",
            "Post Graduate"
           ],
           "xaxis": "x4",
           "yaxis": "y4"
          },
          {
           "alignmentgroup": "True",
           "bingroup": "x",
           "hovertemplate": "Feedback=Positive<br>Occupation=Student<br>Gender=Female<br>Marital Status=Married<br>Educational Qualifications=%{x}<br>count=%{y}<extra></extra>",
           "legendgroup": "Positive",
           "marker": {
            "color": "#636efa",
            "pattern": {
             "shape": ""
            }
           },
           "name": "Positive",
           "offsetgroup": "Positive",
           "orientation": "v",
           "showlegend": false,
           "type": "histogram",
           "x": [
            "Graduate",
            "Ph.D",
            "Post Graduate",
            "Ph.D",
            "Post Graduate"
           ],
           "xaxis": "x5",
           "yaxis": "y5"
          },
          {
           "alignmentgroup": "True",
           "bingroup": "x",
           "hovertemplate": "Feedback=Positive<br>Occupation=Student<br>Gender=Male<br>Marital Status=Single<br>Educational Qualifications=%{x}<br>count=%{y}<extra></extra>",
           "legendgroup": "Positive",
           "marker": {
            "color": "#636efa",
            "pattern": {
             "shape": ""
            }
           },
           "name": "Positive",
           "offsetgroup": "Positive",
           "orientation": "v",
           "showlegend": false,
           "type": "histogram",
           "x": [
            "Post Graduate",
            "Graduate",
            "Post Graduate",
            "Graduate",
            "Post Graduate",
            "Post Graduate",
            "Graduate",
            "Post Graduate",
            "Post Graduate",
            "Post Graduate",
            "Post Graduate",
            "Post Graduate",
            "Post Graduate",
            "Post Graduate",
            "Graduate",
            "Post Graduate",
            "Graduate",
            "Post Graduate",
            "Post Graduate",
            "Post Graduate",
            "Post Graduate",
            "Post Graduate",
            "Post Graduate",
            "Post Graduate",
            "Post Graduate",
            "Graduate",
            "Post Graduate",
            "Graduate",
            "Post Graduate",
            "Post Graduate",
            "Post Graduate",
            "Graduate",
            "Post Graduate",
            "Post Graduate",
            "Post Graduate",
            "Post Graduate",
            "Post Graduate",
            "Post Graduate",
            "Graduate",
            "Post Graduate",
            "Post Graduate",
            "Post Graduate",
            "Graduate",
            "Post Graduate",
            "Post Graduate",
            "Graduate",
            "Post Graduate",
            "Post Graduate",
            "Post Graduate",
            "Post Graduate",
            "Post Graduate",
            "Post Graduate",
            "Post Graduate",
            "Post Graduate",
            "Post Graduate",
            "Post Graduate",
            "Post Graduate",
            "Graduate",
            "Graduate",
            "Graduate",
            "Post Graduate",
            "Graduate",
            "Graduate",
            "Post Graduate",
            "Graduate",
            "Post Graduate",
            "Post Graduate",
            "Graduate",
            "Graduate",
            "Post Graduate",
            "Graduate",
            "Graduate",
            "Graduate",
            "Graduate",
            "Graduate",
            "Graduate",
            "Post Graduate",
            "Graduate",
            "Graduate",
            "Graduate",
            "Post Graduate",
            "Post Graduate",
            "Graduate",
            "Post Graduate",
            "Graduate",
            "Graduate",
            "Graduate",
            "Graduate",
            "Graduate",
            "Graduate",
            "Graduate",
            "Post Graduate",
            "Graduate",
            "Graduate",
            "Graduate",
            "Post Graduate",
            "Graduate",
            "Post Graduate",
            "Post Graduate"
           ],
           "xaxis": "x",
           "yaxis": "y"
          },
          {
           "alignmentgroup": "True",
           "bingroup": "x",
           "hovertemplate": "Feedback=Positive<br>Occupation=Student<br>Gender=Male<br>Marital Status=Married<br>Educational Qualifications=%{x}<br>count=%{y}<extra></extra>",
           "legendgroup": "Positive",
           "marker": {
            "color": "#636efa",
            "pattern": {
             "shape": ""
            }
           },
           "name": "Positive",
           "offsetgroup": "Positive",
           "orientation": "v",
           "showlegend": false,
           "type": "histogram",
           "x": [
            "Graduate"
           ],
           "xaxis": "x2",
           "yaxis": "y2"
          },
          {
           "alignmentgroup": "True",
           "bingroup": "x",
           "hovertemplate": "Feedback=Negative <br>Occupation=Student<br>Gender=Female<br>Marital Status=Single<br>Educational Qualifications=%{x}<br>count=%{y}<extra></extra>",
           "legendgroup": "Negative ",
           "marker": {
            "color": "#EF553B",
            "pattern": {
             "shape": ""
            }
           },
           "name": "Negative ",
           "offsetgroup": "Negative ",
           "orientation": "v",
           "showlegend": true,
           "type": "histogram",
           "x": [
            "Graduate",
            "Graduate",
            "Graduate",
            "Ph.D",
            "Graduate",
            "Post Graduate"
           ],
           "xaxis": "x4",
           "yaxis": "y4"
          },
          {
           "alignmentgroup": "True",
           "bingroup": "x",
           "hovertemplate": "Feedback=Negative <br>Occupation=Student<br>Gender=Male<br>Marital Status=Single<br>Educational Qualifications=%{x}<br>count=%{y}<extra></extra>",
           "legendgroup": "Negative ",
           "marker": {
            "color": "#EF553B",
            "pattern": {
             "shape": ""
            }
           },
           "name": "Negative ",
           "offsetgroup": "Negative ",
           "orientation": "v",
           "showlegend": false,
           "type": "histogram",
           "x": [
            "Post Graduate",
            "Post Graduate",
            "Graduate",
            "Graduate",
            "Post Graduate",
            "Graduate",
            "Graduate",
            "Post Graduate",
            "Graduate",
            "Post Graduate",
            "Graduate",
            "Post Graduate",
            "Post Graduate",
            "Graduate",
            "Graduate"
           ],
           "xaxis": "x",
           "yaxis": "y"
          }
         ],
         "name": "Student"
        },
        {
         "data": [
          {
           "alignmentgroup": "True",
           "bingroup": "x",
           "hovertemplate": "Feedback=Positive<br>Occupation=Employee<br>Gender=Female<br>Marital Status=Single<br>Educational Qualifications=%{x}<br>count=%{y}<extra></extra>",
           "legendgroup": "Positive",
           "marker": {
            "color": "#636efa",
            "pattern": {
             "shape": ""
            }
           },
           "name": "Positive",
           "offsetgroup": "Positive",
           "orientation": "v",
           "showlegend": true,
           "type": "histogram",
           "x": [
            "Post Graduate",
            "Graduate",
            "Graduate",
            "Graduate",
            "Graduate",
            "Graduate",
            "Graduate",
            "Graduate",
            "Post Graduate",
            "Post Graduate",
            "Graduate",
            "Post Graduate",
            "Post Graduate",
            "Graduate",
            "Graduate",
            "Post Graduate",
            "Graduate",
            "Post Graduate"
           ],
           "xaxis": "x4",
           "yaxis": "y4"
          },
          {
           "alignmentgroup": "True",
           "bingroup": "x",
           "hovertemplate": "Feedback=Positive<br>Occupation=Employee<br>Gender=Female<br>Marital Status=Married<br>Educational Qualifications=%{x}<br>count=%{y}<extra></extra>",
           "legendgroup": "Positive",
           "marker": {
            "color": "#636efa",
            "pattern": {
             "shape": ""
            }
           },
           "name": "Positive",
           "offsetgroup": "Positive",
           "orientation": "v",
           "showlegend": false,
           "type": "histogram",
           "x": [
            "Post Graduate",
            "Ph.D",
            "Graduate",
            "Graduate",
            "Post Graduate",
            "Graduate",
            "Graduate",
            "Ph.D",
            "Ph.D",
            "Post Graduate",
            "Post Graduate",
            "Graduate",
            "Post Graduate",
            "Graduate",
            "Post Graduate"
           ],
           "xaxis": "x5",
           "yaxis": "y5"
          },
          {
           "alignmentgroup": "True",
           "bingroup": "x",
           "hovertemplate": "Feedback=Positive<br>Occupation=Employee<br>Gender=Female<br>Marital Status=Prefer not to say<br>Educational Qualifications=%{x}<br>count=%{y}<extra></extra>",
           "legendgroup": "Positive",
           "marker": {
            "color": "#636efa",
            "pattern": {
             "shape": ""
            }
           },
           "name": "Positive",
           "offsetgroup": "Positive",
           "orientation": "v",
           "showlegend": false,
           "type": "histogram",
           "x": [
            "Post Graduate",
            "Graduate"
           ],
           "xaxis": "x6",
           "yaxis": "y6"
          },
          {
           "alignmentgroup": "True",
           "bingroup": "x",
           "hovertemplate": "Feedback=Positive<br>Occupation=Employee<br>Gender=Male<br>Marital Status=Single<br>Educational Qualifications=%{x}<br>count=%{y}<extra></extra>",
           "legendgroup": "Positive",
           "marker": {
            "color": "#636efa",
            "pattern": {
             "shape": ""
            }
           },
           "name": "Positive",
           "offsetgroup": "Positive",
           "orientation": "v",
           "showlegend": false,
           "type": "histogram",
           "x": [
            "Graduate",
            "Post Graduate",
            "Graduate",
            "Post Graduate",
            "Graduate",
            "Post Graduate",
            "Post Graduate",
            "Graduate",
            "Post Graduate",
            "Ph.D",
            "Graduate",
            "Graduate",
            "Post Graduate",
            "Graduate",
            "Graduate",
            "Graduate",
            "Graduate"
           ],
           "xaxis": "x",
           "yaxis": "y"
          },
          {
           "alignmentgroup": "True",
           "bingroup": "x",
           "hovertemplate": "Feedback=Positive<br>Occupation=Employee<br>Gender=Male<br>Marital Status=Married<br>Educational Qualifications=%{x}<br>count=%{y}<extra></extra>",
           "legendgroup": "Positive",
           "marker": {
            "color": "#636efa",
            "pattern": {
             "shape": ""
            }
           },
           "name": "Positive",
           "offsetgroup": "Positive",
           "orientation": "v",
           "showlegend": false,
           "type": "histogram",
           "x": [
            "Ph.D",
            "Ph.D",
            "Graduate",
            "Graduate",
            "Post Graduate",
            "Graduate",
            "Graduate",
            "Post Graduate",
            "Post Graduate",
            "Graduate",
            "Post Graduate",
            "Graduate",
            "Graduate",
            "Graduate",
            "Ph.D",
            "Graduate",
            "Post Graduate",
            "Graduate",
            "Post Graduate",
            "Graduate",
            "Graduate",
            "Ph.D",
            "Graduate",
            "Post Graduate",
            "Graduate",
            "Post Graduate",
            "Graduate",
            "Graduate",
            "Ph.D",
            "Graduate",
            "Post Graduate",
            "Graduate"
           ],
           "xaxis": "x2",
           "yaxis": "y2"
          },
          {
           "alignmentgroup": "True",
           "bingroup": "x",
           "hovertemplate": "Feedback=Positive<br>Occupation=Employee<br>Gender=Male<br>Marital Status=Prefer not to say<br>Educational Qualifications=%{x}<br>count=%{y}<extra></extra>",
           "legendgroup": "Positive",
           "marker": {
            "color": "#636efa",
            "pattern": {
             "shape": ""
            }
           },
           "name": "Positive",
           "offsetgroup": "Positive",
           "orientation": "v",
           "showlegend": false,
           "type": "histogram",
           "x": [
            "Post Graduate"
           ],
           "xaxis": "x3",
           "yaxis": "y3"
          },
          {
           "alignmentgroup": "True",
           "bingroup": "x",
           "hovertemplate": "Feedback=Negative <br>Occupation=Employee<br>Gender=Female<br>Marital Status=Single<br>Educational Qualifications=%{x}<br>count=%{y}<extra></extra>",
           "legendgroup": "Negative ",
           "marker": {
            "color": "#EF553B",
            "pattern": {
             "shape": ""
            }
           },
           "name": "Negative ",
           "offsetgroup": "Negative ",
           "orientation": "v",
           "showlegend": true,
           "type": "histogram",
           "x": [
            "Graduate",
            "Post Graduate"
           ],
           "xaxis": "x4",
           "yaxis": "y4"
          },
          {
           "alignmentgroup": "True",
           "bingroup": "x",
           "hovertemplate": "Feedback=Negative <br>Occupation=Employee<br>Gender=Female<br>Marital Status=Married<br>Educational Qualifications=%{x}<br>count=%{y}<extra></extra>",
           "legendgroup": "Negative ",
           "marker": {
            "color": "#EF553B",
            "pattern": {
             "shape": ""
            }
           },
           "name": "Negative ",
           "offsetgroup": "Negative ",
           "orientation": "v",
           "showlegend": false,
           "type": "histogram",
           "x": [
            "Graduate",
            "Post Graduate",
            "Graduate",
            "Graduate",
            "Post Graduate",
            "Post Graduate",
            "Graduate",
            "Graduate",
            "Graduate",
            "Graduate"
           ],
           "xaxis": "x5",
           "yaxis": "y5"
          },
          {
           "alignmentgroup": "True",
           "bingroup": "x",
           "hovertemplate": "Feedback=Negative <br>Occupation=Employee<br>Gender=Female<br>Marital Status=Prefer not to say<br>Educational Qualifications=%{x}<br>count=%{y}<extra></extra>",
           "legendgroup": "Negative ",
           "marker": {
            "color": "#EF553B",
            "pattern": {
             "shape": ""
            }
           },
           "name": "Negative ",
           "offsetgroup": "Negative ",
           "orientation": "v",
           "showlegend": false,
           "type": "histogram",
           "x": [
            "Graduate",
            "Post Graduate"
           ],
           "xaxis": "x6",
           "yaxis": "y6"
          },
          {
           "alignmentgroup": "True",
           "bingroup": "x",
           "hovertemplate": "Feedback=Negative <br>Occupation=Employee<br>Gender=Male<br>Marital Status=Single<br>Educational Qualifications=%{x}<br>count=%{y}<extra></extra>",
           "legendgroup": "Negative ",
           "marker": {
            "color": "#EF553B",
            "pattern": {
             "shape": ""
            }
           },
           "name": "Negative ",
           "offsetgroup": "Negative ",
           "orientation": "v",
           "showlegend": false,
           "type": "histogram",
           "x": [
            "Graduate",
            "Post Graduate",
            "Post Graduate",
            "Graduate",
            "Graduate",
            "Post Graduate",
            "Graduate",
            "Graduate",
            "Graduate"
           ],
           "xaxis": "x",
           "yaxis": "y"
          },
          {
           "alignmentgroup": "True",
           "bingroup": "x",
           "hovertemplate": "Feedback=Negative <br>Occupation=Employee<br>Gender=Male<br>Marital Status=Married<br>Educational Qualifications=%{x}<br>count=%{y}<extra></extra>",
           "legendgroup": "Negative ",
           "marker": {
            "color": "#EF553B",
            "pattern": {
             "shape": ""
            }
           },
           "name": "Negative ",
           "offsetgroup": "Negative ",
           "orientation": "v",
           "showlegend": false,
           "type": "histogram",
           "x": [
            "Ph.D",
            "Ph.D",
            "Ph.D",
            "Graduate",
            "Graduate",
            "Graduate",
            "Graduate",
            "Graduate"
           ],
           "xaxis": "x2",
           "yaxis": "y2"
          },
          {
           "alignmentgroup": "True",
           "bingroup": "x",
           "hovertemplate": "Feedback=Negative <br>Occupation=Employee<br>Gender=Male<br>Marital Status=Prefer not to say<br>Educational Qualifications=%{x}<br>count=%{y}<extra></extra>",
           "legendgroup": "Negative ",
           "marker": {
            "color": "#EF553B",
            "pattern": {
             "shape": ""
            }
           },
           "name": "Negative ",
           "offsetgroup": "Negative ",
           "orientation": "v",
           "showlegend": false,
           "type": "histogram",
           "x": [
            "Graduate",
            "Graduate"
           ],
           "xaxis": "x3",
           "yaxis": "y3"
          }
         ],
         "name": "Employee"
        },
        {
         "data": [
          {
           "alignmentgroup": "True",
           "bingroup": "x",
           "hovertemplate": "Feedback=Positive<br>Occupation=Self Employeed<br>Gender=Female<br>Marital Status=Single<br>Educational Qualifications=%{x}<br>count=%{y}<extra></extra>",
           "legendgroup": "Positive",
           "marker": {
            "color": "#636efa",
            "pattern": {
             "shape": ""
            }
           },
           "name": "Positive",
           "offsetgroup": "Positive",
           "orientation": "v",
           "showlegend": true,
           "type": "histogram",
           "x": [
            "Post Graduate",
            "Post Graduate"
           ],
           "xaxis": "x4",
           "yaxis": "y4"
          },
          {
           "alignmentgroup": "True",
           "bingroup": "x",
           "hovertemplate": "Feedback=Positive<br>Occupation=Self Employeed<br>Gender=Female<br>Marital Status=Married<br>Educational Qualifications=%{x}<br>count=%{y}<extra></extra>",
           "legendgroup": "Positive",
           "marker": {
            "color": "#636efa",
            "pattern": {
             "shape": ""
            }
           },
           "name": "Positive",
           "offsetgroup": "Positive",
           "orientation": "v",
           "showlegend": false,
           "type": "histogram",
           "x": [
            "Post Graduate",
            "Graduate",
            "Graduate",
            "Graduate",
            "Post Graduate",
            "Graduate",
            "Graduate",
            "Graduate"
           ],
           "xaxis": "x5",
           "yaxis": "y5"
          },
          {
           "alignmentgroup": "True",
           "bingroup": "x",
           "hovertemplate": "Feedback=Positive<br>Occupation=Self Employeed<br>Gender=Male<br>Marital Status=Single<br>Educational Qualifications=%{x}<br>count=%{y}<extra></extra>",
           "legendgroup": "Positive",
           "marker": {
            "color": "#636efa",
            "pattern": {
             "shape": ""
            }
           },
           "name": "Positive",
           "offsetgroup": "Positive",
           "orientation": "v",
           "showlegend": false,
           "type": "histogram",
           "x": [
            "Ph.D",
            "Graduate",
            "Graduate",
            "Graduate",
            "Graduate",
            "Post Graduate",
            "Graduate",
            "School",
            "Post Graduate",
            "Graduate",
            "Graduate",
            "Graduate",
            "Graduate",
            "Graduate",
            "Graduate",
            "School"
           ],
           "xaxis": "x",
           "yaxis": "y"
          },
          {
           "alignmentgroup": "True",
           "bingroup": "x",
           "hovertemplate": "Feedback=Positive<br>Occupation=Self Employeed<br>Gender=Male<br>Marital Status=Married<br>Educational Qualifications=%{x}<br>count=%{y}<extra></extra>",
           "legendgroup": "Positive",
           "marker": {
            "color": "#636efa",
            "pattern": {
             "shape": ""
            }
           },
           "name": "Positive",
           "offsetgroup": "Positive",
           "orientation": "v",
           "showlegend": false,
           "type": "histogram",
           "x": [
            "School",
            "School",
            "Graduate",
            "Graduate",
            "Post Graduate",
            "Graduate",
            "Graduate",
            "Graduate"
           ],
           "xaxis": "x2",
           "yaxis": "y2"
          },
          {
           "alignmentgroup": "True",
           "bingroup": "x",
           "hovertemplate": "Feedback=Positive<br>Occupation=Self Employeed<br>Gender=Male<br>Marital Status=Prefer not to say<br>Educational Qualifications=%{x}<br>count=%{y}<extra></extra>",
           "legendgroup": "Positive",
           "marker": {
            "color": "#636efa",
            "pattern": {
             "shape": ""
            }
           },
           "name": "Positive",
           "offsetgroup": "Positive",
           "orientation": "v",
           "showlegend": false,
           "type": "histogram",
           "x": [
            "Ph.D",
            "Post Graduate",
            "Post Graduate",
            "Post Graduate"
           ],
           "xaxis": "x3",
           "yaxis": "y3"
          },
          {
           "alignmentgroup": "True",
           "bingroup": "x",
           "hovertemplate": "Feedback=Negative <br>Occupation=Self Employeed<br>Gender=Female<br>Marital Status=Single<br>Educational Qualifications=%{x}<br>count=%{y}<extra></extra>",
           "legendgroup": "Negative ",
           "marker": {
            "color": "#EF553B",
            "pattern": {
             "shape": ""
            }
           },
           "name": "Negative ",
           "offsetgroup": "Negative ",
           "orientation": "v",
           "showlegend": true,
           "type": "histogram",
           "x": [
            "Post Graduate",
            "Post Graduate",
            "Post Graduate"
           ],
           "xaxis": "x4",
           "yaxis": "y4"
          },
          {
           "alignmentgroup": "True",
           "bingroup": "x",
           "hovertemplate": "Feedback=Negative <br>Occupation=Self Employeed<br>Gender=Female<br>Marital Status=Married<br>Educational Qualifications=%{x}<br>count=%{y}<extra></extra>",
           "legendgroup": "Negative ",
           "marker": {
            "color": "#EF553B",
            "pattern": {
             "shape": ""
            }
           },
           "name": "Negative ",
           "offsetgroup": "Negative ",
           "orientation": "v",
           "showlegend": false,
           "type": "histogram",
           "x": [
            "Graduate",
            "Graduate",
            "Graduate"
           ],
           "xaxis": "x5",
           "yaxis": "y5"
          },
          {
           "alignmentgroup": "True",
           "bingroup": "x",
           "hovertemplate": "Feedback=Negative <br>Occupation=Self Employeed<br>Gender=Male<br>Marital Status=Married<br>Educational Qualifications=%{x}<br>count=%{y}<extra></extra>",
           "legendgroup": "Negative ",
           "marker": {
            "color": "#EF553B",
            "pattern": {
             "shape": ""
            }
           },
           "name": "Negative ",
           "offsetgroup": "Negative ",
           "orientation": "v",
           "showlegend": false,
           "type": "histogram",
           "x": [
            "Uneducated",
            "Graduate",
            "Ph.D",
            "Post Graduate",
            "Graduate",
            "School",
            "Graduate",
            "School",
            "School",
            "Graduate"
           ],
           "xaxis": "x2",
           "yaxis": "y2"
          }
         ],
         "name": "Self Employeed"
        },
        {
         "data": [
          {
           "alignmentgroup": "True",
           "bingroup": "x",
           "hovertemplate": "Feedback=Positive<br>Occupation=House wife<br>Gender=Female<br>Marital Status=Married<br>Educational Qualifications=%{x}<br>count=%{y}<extra></extra>",
           "legendgroup": "Positive",
           "marker": {
            "color": "#636efa",
            "pattern": {
             "shape": ""
            }
           },
           "name": "Positive",
           "offsetgroup": "Positive",
           "orientation": "v",
           "showlegend": true,
           "type": "histogram",
           "x": [
            "Uneducated",
            "School",
            "School",
            "Graduate",
            "School",
            "School",
            "Graduate",
            "School"
           ],
           "xaxis": "x5",
           "yaxis": "y5"
          },
          {
           "alignmentgroup": "True",
           "bingroup": "x",
           "hovertemplate": "Feedback=Negative <br>Occupation=House wife<br>Gender=Female<br>Marital Status=Prefer not to say<br>Educational Qualifications=%{x}<br>count=%{y}<extra></extra>",
           "legendgroup": "Negative ",
           "marker": {
            "color": "#EF553B",
            "pattern": {
             "shape": ""
            }
           },
           "name": "Negative ",
           "offsetgroup": "Negative ",
           "orientation": "v",
           "showlegend": true,
           "type": "histogram",
           "x": [
            "Graduate"
           ],
           "xaxis": "x6",
           "yaxis": "y6"
          }
         ],
         "name": "House wife"
        }
       ],
       "layout": {
        "annotations": [
         {
          "font": {},
          "showarrow": false,
          "text": "Marital Status=Single",
          "x": 0.15666666666666665,
          "xanchor": "center",
          "xref": "paper",
          "y": 1,
          "yanchor": "bottom",
          "yref": "paper"
         },
         {
          "font": {},
          "showarrow": false,
          "text": "Marital Status=Married",
          "x": 0.49,
          "xanchor": "center",
          "xref": "paper",
          "y": 1,
          "yanchor": "bottom",
          "yref": "paper"
         },
         {
          "font": {},
          "showarrow": false,
          "text": "Marital Status=Prefer not to say",
          "x": 0.8233333333333333,
          "xanchor": "center",
          "xref": "paper",
          "y": 1,
          "yanchor": "bottom",
          "yref": "paper"
         },
         {
          "font": {},
          "showarrow": false,
          "text": "Gender=Male",
          "textangle": 90,
          "x": 0.98,
          "xanchor": "left",
          "xref": "paper",
          "y": 0.2425,
          "yanchor": "middle",
          "yref": "paper"
         },
         {
          "font": {},
          "showarrow": false,
          "text": "Gender=Female",
          "textangle": 90,
          "x": 0.98,
          "xanchor": "left",
          "xref": "paper",
          "y": 0.7575000000000001,
          "yanchor": "middle",
          "yref": "paper"
         }
        ],
        "barmode": "relative",
        "legend": {
         "title": {
          "text": "Feedback"
         },
         "tracegroupgap": 0
        },
        "sliders": [
         {
          "active": 0,
          "currentvalue": {
           "prefix": "Occupation="
          },
          "len": 0.9,
          "pad": {
           "b": 10,
           "t": 60
          },
          "steps": [
           {
            "args": [
             [
              "Student"
             ],
             {
              "frame": {
               "duration": 0,
               "redraw": true
              },
              "fromcurrent": true,
              "mode": "immediate",
              "transition": {
               "duration": 0,
               "easing": "linear"
              }
             }
            ],
            "label": "Student",
            "method": "animate"
           },
           {
            "args": [
             [
              "Employee"
             ],
             {
              "frame": {
               "duration": 0,
               "redraw": true
              },
              "fromcurrent": true,
              "mode": "immediate",
              "transition": {
               "duration": 0,
               "easing": "linear"
              }
             }
            ],
            "label": "Employee",
            "method": "animate"
           },
           {
            "args": [
             [
              "Self Employeed"
             ],
             {
              "frame": {
               "duration": 0,
               "redraw": true
              },
              "fromcurrent": true,
              "mode": "immediate",
              "transition": {
               "duration": 0,
               "easing": "linear"
              }
             }
            ],
            "label": "Self Employeed",
            "method": "animate"
           },
           {
            "args": [
             [
              "House wife"
             ],
             {
              "frame": {
               "duration": 0,
               "redraw": true
              },
              "fromcurrent": true,
              "mode": "immediate",
              "transition": {
               "duration": 0,
               "easing": "linear"
              }
             }
            ],
            "label": "House wife",
            "method": "animate"
           }
          ],
          "x": 0.1,
          "xanchor": "left",
          "y": 0,
          "yanchor": "top"
         }
        ],
        "template": {
         "data": {
          "bar": [
           {
            "error_x": {
             "color": "#2a3f5f"
            },
            "error_y": {
             "color": "#2a3f5f"
            },
            "marker": {
             "line": {
              "color": "#E5ECF6",
              "width": 0.5
             },
             "pattern": {
              "fillmode": "overlay",
              "size": 10,
              "solidity": 0.2
             }
            },
            "type": "bar"
           }
          ],
          "barpolar": [
           {
            "marker": {
             "line": {
              "color": "#E5ECF6",
              "width": 0.5
             },
             "pattern": {
              "fillmode": "overlay",
              "size": 10,
              "solidity": 0.2
             }
            },
            "type": "barpolar"
           }
          ],
          "carpet": [
           {
            "aaxis": {
             "endlinecolor": "#2a3f5f",
             "gridcolor": "white",
             "linecolor": "white",
             "minorgridcolor": "white",
             "startlinecolor": "#2a3f5f"
            },
            "baxis": {
             "endlinecolor": "#2a3f5f",
             "gridcolor": "white",
             "linecolor": "white",
             "minorgridcolor": "white",
             "startlinecolor": "#2a3f5f"
            },
            "type": "carpet"
           }
          ],
          "choropleth": [
           {
            "colorbar": {
             "outlinewidth": 0,
             "ticks": ""
            },
            "type": "choropleth"
           }
          ],
          "contour": [
           {
            "colorbar": {
             "outlinewidth": 0,
             "ticks": ""
            },
            "colorscale": [
             [
              0,
              "#0d0887"
             ],
             [
              0.1111111111111111,
              "#46039f"
             ],
             [
              0.2222222222222222,
              "#7201a8"
             ],
             [
              0.3333333333333333,
              "#9c179e"
             ],
             [
              0.4444444444444444,
              "#bd3786"
             ],
             [
              0.5555555555555556,
              "#d8576b"
             ],
             [
              0.6666666666666666,
              "#ed7953"
             ],
             [
              0.7777777777777778,
              "#fb9f3a"
             ],
             [
              0.8888888888888888,
              "#fdca26"
             ],
             [
              1,
              "#f0f921"
             ]
            ],
            "type": "contour"
           }
          ],
          "contourcarpet": [
           {
            "colorbar": {
             "outlinewidth": 0,
             "ticks": ""
            },
            "type": "contourcarpet"
           }
          ],
          "heatmap": [
           {
            "colorbar": {
             "outlinewidth": 0,
             "ticks": ""
            },
            "colorscale": [
             [
              0,
              "#0d0887"
             ],
             [
              0.1111111111111111,
              "#46039f"
             ],
             [
              0.2222222222222222,
              "#7201a8"
             ],
             [
              0.3333333333333333,
              "#9c179e"
             ],
             [
              0.4444444444444444,
              "#bd3786"
             ],
             [
              0.5555555555555556,
              "#d8576b"
             ],
             [
              0.6666666666666666,
              "#ed7953"
             ],
             [
              0.7777777777777778,
              "#fb9f3a"
             ],
             [
              0.8888888888888888,
              "#fdca26"
             ],
             [
              1,
              "#f0f921"
             ]
            ],
            "type": "heatmap"
           }
          ],
          "heatmapgl": [
           {
            "colorbar": {
             "outlinewidth": 0,
             "ticks": ""
            },
            "colorscale": [
             [
              0,
              "#0d0887"
             ],
             [
              0.1111111111111111,
              "#46039f"
             ],
             [
              0.2222222222222222,
              "#7201a8"
             ],
             [
              0.3333333333333333,
              "#9c179e"
             ],
             [
              0.4444444444444444,
              "#bd3786"
             ],
             [
              0.5555555555555556,
              "#d8576b"
             ],
             [
              0.6666666666666666,
              "#ed7953"
             ],
             [
              0.7777777777777778,
              "#fb9f3a"
             ],
             [
              0.8888888888888888,
              "#fdca26"
             ],
             [
              1,
              "#f0f921"
             ]
            ],
            "type": "heatmapgl"
           }
          ],
          "histogram": [
           {
            "marker": {
             "pattern": {
              "fillmode": "overlay",
              "size": 10,
              "solidity": 0.2
             }
            },
            "type": "histogram"
           }
          ],
          "histogram2d": [
           {
            "colorbar": {
             "outlinewidth": 0,
             "ticks": ""
            },
            "colorscale": [
             [
              0,
              "#0d0887"
             ],
             [
              0.1111111111111111,
              "#46039f"
             ],
             [
              0.2222222222222222,
              "#7201a8"
             ],
             [
              0.3333333333333333,
              "#9c179e"
             ],
             [
              0.4444444444444444,
              "#bd3786"
             ],
             [
              0.5555555555555556,
              "#d8576b"
             ],
             [
              0.6666666666666666,
              "#ed7953"
             ],
             [
              0.7777777777777778,
              "#fb9f3a"
             ],
             [
              0.8888888888888888,
              "#fdca26"
             ],
             [
              1,
              "#f0f921"
             ]
            ],
            "type": "histogram2d"
           }
          ],
          "histogram2dcontour": [
           {
            "colorbar": {
             "outlinewidth": 0,
             "ticks": ""
            },
            "colorscale": [
             [
              0,
              "#0d0887"
             ],
             [
              0.1111111111111111,
              "#46039f"
             ],
             [
              0.2222222222222222,
              "#7201a8"
             ],
             [
              0.3333333333333333,
              "#9c179e"
             ],
             [
              0.4444444444444444,
              "#bd3786"
             ],
             [
              0.5555555555555556,
              "#d8576b"
             ],
             [
              0.6666666666666666,
              "#ed7953"
             ],
             [
              0.7777777777777778,
              "#fb9f3a"
             ],
             [
              0.8888888888888888,
              "#fdca26"
             ],
             [
              1,
              "#f0f921"
             ]
            ],
            "type": "histogram2dcontour"
           }
          ],
          "mesh3d": [
           {
            "colorbar": {
             "outlinewidth": 0,
             "ticks": ""
            },
            "type": "mesh3d"
           }
          ],
          "parcoords": [
           {
            "line": {
             "colorbar": {
              "outlinewidth": 0,
              "ticks": ""
             }
            },
            "type": "parcoords"
           }
          ],
          "pie": [
           {
            "automargin": true,
            "type": "pie"
           }
          ],
          "scatter": [
           {
            "fillpattern": {
             "fillmode": "overlay",
             "size": 10,
             "solidity": 0.2
            },
            "type": "scatter"
           }
          ],
          "scatter3d": [
           {
            "line": {
             "colorbar": {
              "outlinewidth": 0,
              "ticks": ""
             }
            },
            "marker": {
             "colorbar": {
              "outlinewidth": 0,
              "ticks": ""
             }
            },
            "type": "scatter3d"
           }
          ],
          "scattercarpet": [
           {
            "marker": {
             "colorbar": {
              "outlinewidth": 0,
              "ticks": ""
             }
            },
            "type": "scattercarpet"
           }
          ],
          "scattergeo": [
           {
            "marker": {
             "colorbar": {
              "outlinewidth": 0,
              "ticks": ""
             }
            },
            "type": "scattergeo"
           }
          ],
          "scattergl": [
           {
            "marker": {
             "colorbar": {
              "outlinewidth": 0,
              "ticks": ""
             }
            },
            "type": "scattergl"
           }
          ],
          "scattermapbox": [
           {
            "marker": {
             "colorbar": {
              "outlinewidth": 0,
              "ticks": ""
             }
            },
            "type": "scattermapbox"
           }
          ],
          "scatterpolar": [
           {
            "marker": {
             "colorbar": {
              "outlinewidth": 0,
              "ticks": ""
             }
            },
            "type": "scatterpolar"
           }
          ],
          "scatterpolargl": [
           {
            "marker": {
             "colorbar": {
              "outlinewidth": 0,
              "ticks": ""
             }
            },
            "type": "scatterpolargl"
           }
          ],
          "scatterternary": [
           {
            "marker": {
             "colorbar": {
              "outlinewidth": 0,
              "ticks": ""
             }
            },
            "type": "scatterternary"
           }
          ],
          "surface": [
           {
            "colorbar": {
             "outlinewidth": 0,
             "ticks": ""
            },
            "colorscale": [
             [
              0,
              "#0d0887"
             ],
             [
              0.1111111111111111,
              "#46039f"
             ],
             [
              0.2222222222222222,
              "#7201a8"
             ],
             [
              0.3333333333333333,
              "#9c179e"
             ],
             [
              0.4444444444444444,
              "#bd3786"
             ],
             [
              0.5555555555555556,
              "#d8576b"
             ],
             [
              0.6666666666666666,
              "#ed7953"
             ],
             [
              0.7777777777777778,
              "#fb9f3a"
             ],
             [
              0.8888888888888888,
              "#fdca26"
             ],
             [
              1,
              "#f0f921"
             ]
            ],
            "type": "surface"
           }
          ],
          "table": [
           {
            "cells": {
             "fill": {
              "color": "#EBF0F8"
             },
             "line": {
              "color": "white"
             }
            },
            "header": {
             "fill": {
              "color": "#C8D4E3"
             },
             "line": {
              "color": "white"
             }
            },
            "type": "table"
           }
          ]
         },
         "layout": {
          "annotationdefaults": {
           "arrowcolor": "#2a3f5f",
           "arrowhead": 0,
           "arrowwidth": 1
          },
          "autotypenumbers": "strict",
          "coloraxis": {
           "colorbar": {
            "outlinewidth": 0,
            "ticks": ""
           }
          },
          "colorscale": {
           "diverging": [
            [
             0,
             "#8e0152"
            ],
            [
             0.1,
             "#c51b7d"
            ],
            [
             0.2,
             "#de77ae"
            ],
            [
             0.3,
             "#f1b6da"
            ],
            [
             0.4,
             "#fde0ef"
            ],
            [
             0.5,
             "#f7f7f7"
            ],
            [
             0.6,
             "#e6f5d0"
            ],
            [
             0.7,
             "#b8e186"
            ],
            [
             0.8,
             "#7fbc41"
            ],
            [
             0.9,
             "#4d9221"
            ],
            [
             1,
             "#276419"
            ]
           ],
           "sequential": [
            [
             0,
             "#0d0887"
            ],
            [
             0.1111111111111111,
             "#46039f"
            ],
            [
             0.2222222222222222,
             "#7201a8"
            ],
            [
             0.3333333333333333,
             "#9c179e"
            ],
            [
             0.4444444444444444,
             "#bd3786"
            ],
            [
             0.5555555555555556,
             "#d8576b"
            ],
            [
             0.6666666666666666,
             "#ed7953"
            ],
            [
             0.7777777777777778,
             "#fb9f3a"
            ],
            [
             0.8888888888888888,
             "#fdca26"
            ],
            [
             1,
             "#f0f921"
            ]
           ],
           "sequentialminus": [
            [
             0,
             "#0d0887"
            ],
            [
             0.1111111111111111,
             "#46039f"
            ],
            [
             0.2222222222222222,
             "#7201a8"
            ],
            [
             0.3333333333333333,
             "#9c179e"
            ],
            [
             0.4444444444444444,
             "#bd3786"
            ],
            [
             0.5555555555555556,
             "#d8576b"
            ],
            [
             0.6666666666666666,
             "#ed7953"
            ],
            [
             0.7777777777777778,
             "#fb9f3a"
            ],
            [
             0.8888888888888888,
             "#fdca26"
            ],
            [
             1,
             "#f0f921"
            ]
           ]
          },
          "colorway": [
           "#636efa",
           "#EF553B",
           "#00cc96",
           "#ab63fa",
           "#FFA15A",
           "#19d3f3",
           "#FF6692",
           "#B6E880",
           "#FF97FF",
           "#FECB52"
          ],
          "font": {
           "color": "#2a3f5f"
          },
          "geo": {
           "bgcolor": "white",
           "lakecolor": "white",
           "landcolor": "#E5ECF6",
           "showlakes": true,
           "showland": true,
           "subunitcolor": "white"
          },
          "hoverlabel": {
           "align": "left"
          },
          "hovermode": "closest",
          "mapbox": {
           "style": "light"
          },
          "paper_bgcolor": "white",
          "plot_bgcolor": "#E5ECF6",
          "polar": {
           "angularaxis": {
            "gridcolor": "white",
            "linecolor": "white",
            "ticks": ""
           },
           "bgcolor": "#E5ECF6",
           "radialaxis": {
            "gridcolor": "white",
            "linecolor": "white",
            "ticks": ""
           }
          },
          "scene": {
           "xaxis": {
            "backgroundcolor": "#E5ECF6",
            "gridcolor": "white",
            "gridwidth": 2,
            "linecolor": "white",
            "showbackground": true,
            "ticks": "",
            "zerolinecolor": "white"
           },
           "yaxis": {
            "backgroundcolor": "#E5ECF6",
            "gridcolor": "white",
            "gridwidth": 2,
            "linecolor": "white",
            "showbackground": true,
            "ticks": "",
            "zerolinecolor": "white"
           },
           "zaxis": {
            "backgroundcolor": "#E5ECF6",
            "gridcolor": "white",
            "gridwidth": 2,
            "linecolor": "white",
            "showbackground": true,
            "ticks": "",
            "zerolinecolor": "white"
           }
          },
          "shapedefaults": {
           "line": {
            "color": "#2a3f5f"
           }
          },
          "ternary": {
           "aaxis": {
            "gridcolor": "white",
            "linecolor": "white",
            "ticks": ""
           },
           "baxis": {
            "gridcolor": "white",
            "linecolor": "white",
            "ticks": ""
           },
           "bgcolor": "#E5ECF6",
           "caxis": {
            "gridcolor": "white",
            "linecolor": "white",
            "ticks": ""
           }
          },
          "title": {
           "x": 0.05
          },
          "xaxis": {
           "automargin": true,
           "gridcolor": "white",
           "linecolor": "white",
           "ticks": "",
           "title": {
            "standoff": 15
           },
           "zerolinecolor": "white",
           "zerolinewidth": 2
          },
          "yaxis": {
           "automargin": true,
           "gridcolor": "white",
           "linecolor": "white",
           "ticks": "",
           "title": {
            "standoff": 15
           },
           "zerolinecolor": "white",
           "zerolinewidth": 2
          }
         }
        },
        "title": {
         "text": "Educational Qualifications vs Gender vs Marital Status vs Occupation"
        },
        "updatemenus": [
         {
          "buttons": [
           {
            "args": [
             null,
             {
              "frame": {
               "duration": 500,
               "redraw": true
              },
              "fromcurrent": true,
              "mode": "immediate",
              "transition": {
               "duration": 500,
               "easing": "linear"
              }
             }
            ],
            "label": "&#9654;",
            "method": "animate"
           },
           {
            "args": [
             [
              null
             ],
             {
              "frame": {
               "duration": 0,
               "redraw": true
              },
              "fromcurrent": true,
              "mode": "immediate",
              "transition": {
               "duration": 0,
               "easing": "linear"
              }
             }
            ],
            "label": "&#9724;",
            "method": "animate"
           }
          ],
          "direction": "left",
          "pad": {
           "r": 10,
           "t": 70
          },
          "showactive": false,
          "type": "buttons",
          "x": 0.1,
          "xanchor": "right",
          "y": 0,
          "yanchor": "top"
         }
        ],
        "xaxis": {
         "anchor": "y",
         "domain": [
          0,
          0.3133333333333333
         ],
         "title": {
          "text": "Educational Qualifications"
         }
        },
        "xaxis2": {
         "anchor": "y2",
         "domain": [
          0.3333333333333333,
          0.6466666666666666
         ],
         "matches": "x",
         "title": {
          "text": "Educational Qualifications"
         }
        },
        "xaxis3": {
         "anchor": "y3",
         "domain": [
          0.6666666666666666,
          0.98
         ],
         "matches": "x",
         "title": {
          "text": "Educational Qualifications"
         }
        },
        "xaxis4": {
         "anchor": "y4",
         "domain": [
          0,
          0.3133333333333333
         ],
         "matches": "x",
         "showticklabels": false
        },
        "xaxis5": {
         "anchor": "y5",
         "domain": [
          0.3333333333333333,
          0.6466666666666666
         ],
         "matches": "x",
         "showticklabels": false
        },
        "xaxis6": {
         "anchor": "y6",
         "domain": [
          0.6666666666666666,
          0.98
         ],
         "matches": "x",
         "showticklabels": false
        },
        "yaxis": {
         "anchor": "x",
         "domain": [
          0,
          0.485
         ],
         "title": {
          "text": "count"
         }
        },
        "yaxis2": {
         "anchor": "x2",
         "domain": [
          0,
          0.485
         ],
         "matches": "y",
         "showticklabels": false
        },
        "yaxis3": {
         "anchor": "x3",
         "domain": [
          0,
          0.485
         ],
         "matches": "y",
         "showticklabels": false
        },
        "yaxis4": {
         "anchor": "x4",
         "domain": [
          0.515,
          1
         ],
         "matches": "y",
         "title": {
          "text": "count"
         }
        },
        "yaxis5": {
         "anchor": "x5",
         "domain": [
          0.515,
          1
         ],
         "matches": "y",
         "showticklabels": false
        },
        "yaxis6": {
         "anchor": "x6",
         "domain": [
          0.515,
          1
         ],
         "matches": "y",
         "showticklabels": false
        }
       }
      }
     },
     "metadata": {},
     "output_type": "display_data"
    }
   ],
   "source": [
    "multiabel_dist_plot(\"Educational Qualifications\", \"Gender\", \"Marital Status\", \"Occupation\", \"Feedback\") # Distribution of Educational Qualifications vs Gender vs Marital Status vs Occupation"
   ]
  },
  {
   "cell_type": "markdown",
   "metadata": {},
   "source": [
    "Note that the functions would always give a plot but the plot may not be meaningful if the wrong parameters are passed. You should know what you wanna investigate before calling the functions."
   ]
  },
  {
   "cell_type": "markdown",
   "metadata": {},
   "source": [
    "<h2 style=\"color: #bbccff; text-decoration: underline\">ML Model</h2>\n",
    "\n",
    "The data is simple and do not need a lot of exploration for our model.\n",
    "We would be using ada boost and gradient boost. We would use the one that does better for the app"
   ]
  },
  {
   "cell_type": "code",
   "execution_count": 33,
   "metadata": {},
   "outputs": [],
   "source": [
    "import matplotlib.pyplot as plt\n",
    "\n",
    "import seaborn as sns\n",
    "\n",
    "from sklearn.preprocessing import StandardScaler, LabelEncoder\n",
    "from sklearn.model_selection import train_test_split, GridSearchCV\n",
    "from sklearn.metrics import classification_report, confusion_matrix, precision_recall_fscore_support, accuracy_score\n",
    "from sklearn.metrics import roc_curve, auc"
   ]
  },
  {
   "cell_type": "markdown",
   "metadata": {},
   "source": [
    "Let's label encode the categorical columns into numerical format"
   ]
  },
  {
   "cell_type": "code",
   "execution_count": 35,
   "metadata": {},
   "outputs": [
    {
     "name": "stdout",
     "output_type": "stream",
     "text": [
      "<class 'pandas.core.frame.DataFrame'>\n",
      "RangeIndex: 388 entries, 0 to 387\n",
      "Data columns (total 11 columns):\n",
      " #   Column                      Non-Null Count  Dtype  \n",
      "---  ------                      --------------  -----  \n",
      " 0   Age                         388 non-null    int64  \n",
      " 1   Gender                      388 non-null    int32  \n",
      " 2   Marital Status              388 non-null    int32  \n",
      " 3   Occupation                  388 non-null    int32  \n",
      " 4   Monthly Income              388 non-null    int32  \n",
      " 5   Educational Qualifications  388 non-null    int32  \n",
      " 6   Family size                 388 non-null    int64  \n",
      " 7   latitude                    388 non-null    float64\n",
      " 8   longitude                   388 non-null    float64\n",
      " 9   Output                      388 non-null    int32  \n",
      " 10  Feedback                    388 non-null    int32  \n",
      "dtypes: float64(2), int32(7), int64(2)\n",
      "memory usage: 22.9 KB\n"
     ]
    }
   ],
   "source": [
    "le = LabelEncoder()\n",
    "dict_label_encoder = {} # We're storing this in a dict so that, we can use is to later encode the input from the app. \n",
    "for i in [\n",
    "    \"Gender\",\n",
    "    \"Marital Status\",\n",
    "    \"Occupation\",\n",
    "    \"Monthly Income\",\n",
    "    \"Educational Qualifications\",\n",
    "    \"Output\",\n",
    "    \"Feedback\",\n",
    "]:\n",
    "    df[i] = le.fit_transform(df[i])\n",
    "    dict_label_encoder[i] = dict(zip(le.classes_, le.transform(le.classes_)))\n",
    "\n",
    "df.info()"
   ]
  },
  {
   "cell_type": "code",
   "execution_count": 36,
   "metadata": {},
   "outputs": [
    {
     "data": {
      "text/html": [
       "<div>\n",
       "<style scoped>\n",
       "    .dataframe tbody tr th:only-of-type {\n",
       "        vertical-align: middle;\n",
       "    }\n",
       "\n",
       "    .dataframe tbody tr th {\n",
       "        vertical-align: top;\n",
       "    }\n",
       "\n",
       "    .dataframe thead th {\n",
       "        text-align: right;\n",
       "    }\n",
       "</style>\n",
       "<table border=\"1\" class=\"dataframe\">\n",
       "  <thead>\n",
       "    <tr style=\"text-align: right;\">\n",
       "      <th></th>\n",
       "      <th>Age</th>\n",
       "      <th>Gender</th>\n",
       "      <th>Marital Status</th>\n",
       "      <th>Occupation</th>\n",
       "      <th>Monthly Income</th>\n",
       "      <th>Educational Qualifications</th>\n",
       "      <th>Family size</th>\n",
       "      <th>latitude</th>\n",
       "      <th>longitude</th>\n",
       "      <th>Output</th>\n",
       "      <th>Feedback</th>\n",
       "    </tr>\n",
       "  </thead>\n",
       "  <tbody>\n",
       "    <tr>\n",
       "      <th>0</th>\n",
       "      <td>20</td>\n",
       "      <td>0</td>\n",
       "      <td>2</td>\n",
       "      <td>3</td>\n",
       "      <td>4</td>\n",
       "      <td>2</td>\n",
       "      <td>4</td>\n",
       "      <td>12.9766</td>\n",
       "      <td>77.5993</td>\n",
       "      <td>1</td>\n",
       "      <td>1</td>\n",
       "    </tr>\n",
       "    <tr>\n",
       "      <th>1</th>\n",
       "      <td>24</td>\n",
       "      <td>0</td>\n",
       "      <td>2</td>\n",
       "      <td>3</td>\n",
       "      <td>2</td>\n",
       "      <td>0</td>\n",
       "      <td>3</td>\n",
       "      <td>12.9770</td>\n",
       "      <td>77.5773</td>\n",
       "      <td>1</td>\n",
       "      <td>1</td>\n",
       "    </tr>\n",
       "    <tr>\n",
       "      <th>2</th>\n",
       "      <td>22</td>\n",
       "      <td>1</td>\n",
       "      <td>2</td>\n",
       "      <td>3</td>\n",
       "      <td>2</td>\n",
       "      <td>2</td>\n",
       "      <td>3</td>\n",
       "      <td>12.9551</td>\n",
       "      <td>77.6593</td>\n",
       "      <td>1</td>\n",
       "      <td>0</td>\n",
       "    </tr>\n",
       "    <tr>\n",
       "      <th>3</th>\n",
       "      <td>22</td>\n",
       "      <td>0</td>\n",
       "      <td>2</td>\n",
       "      <td>3</td>\n",
       "      <td>4</td>\n",
       "      <td>0</td>\n",
       "      <td>6</td>\n",
       "      <td>12.9473</td>\n",
       "      <td>77.5616</td>\n",
       "      <td>1</td>\n",
       "      <td>1</td>\n",
       "    </tr>\n",
       "    <tr>\n",
       "      <th>4</th>\n",
       "      <td>22</td>\n",
       "      <td>1</td>\n",
       "      <td>2</td>\n",
       "      <td>3</td>\n",
       "      <td>2</td>\n",
       "      <td>2</td>\n",
       "      <td>4</td>\n",
       "      <td>12.9850</td>\n",
       "      <td>77.5533</td>\n",
       "      <td>1</td>\n",
       "      <td>1</td>\n",
       "    </tr>\n",
       "  </tbody>\n",
       "</table>\n",
       "</div>"
      ],
      "text/plain": [
       "   Age  Gender  Marital Status  Occupation  Monthly Income  \\\n",
       "0   20       0               2           3               4   \n",
       "1   24       0               2           3               2   \n",
       "2   22       1               2           3               2   \n",
       "3   22       0               2           3               4   \n",
       "4   22       1               2           3               2   \n",
       "\n",
       "   Educational Qualifications  Family size  latitude  longitude  Output  \\\n",
       "0                           2            4   12.9766    77.5993       1   \n",
       "1                           0            3   12.9770    77.5773       1   \n",
       "2                           2            3   12.9551    77.6593       1   \n",
       "3                           0            6   12.9473    77.5616       1   \n",
       "4                           2            4   12.9850    77.5533       1   \n",
       "\n",
       "   Feedback  \n",
       "0         1  \n",
       "1         1  \n",
       "2         0  \n",
       "3         1  \n",
       "4         1  "
      ]
     },
     "execution_count": 36,
     "metadata": {},
     "output_type": "execute_result"
    }
   ],
   "source": [
    "df.head()"
   ]
  },
  {
   "cell_type": "code",
   "execution_count": 37,
   "metadata": {},
   "outputs": [
    {
     "data": {
      "text/html": [
       "<div>\n",
       "<style scoped>\n",
       "    .dataframe tbody tr th:only-of-type {\n",
       "        vertical-align: middle;\n",
       "    }\n",
       "\n",
       "    .dataframe tbody tr th {\n",
       "        vertical-align: top;\n",
       "    }\n",
       "\n",
       "    .dataframe thead th {\n",
       "        text-align: right;\n",
       "    }\n",
       "</style>\n",
       "<table border=\"1\" class=\"dataframe\">\n",
       "  <thead>\n",
       "    <tr style=\"text-align: right;\">\n",
       "      <th></th>\n",
       "      <th>Age</th>\n",
       "      <th>Gender</th>\n",
       "      <th>Marital Status</th>\n",
       "      <th>Occupation</th>\n",
       "      <th>Monthly Income</th>\n",
       "      <th>Educational Qualifications</th>\n",
       "      <th>Family size</th>\n",
       "      <th>latitude</th>\n",
       "      <th>longitude</th>\n",
       "      <th>Output</th>\n",
       "      <th>Feedback</th>\n",
       "    </tr>\n",
       "  </thead>\n",
       "  <tbody>\n",
       "    <tr>\n",
       "      <th>count</th>\n",
       "      <td>388.000000</td>\n",
       "      <td>388.000000</td>\n",
       "      <td>388.000000</td>\n",
       "      <td>388.000000</td>\n",
       "      <td>388.000000</td>\n",
       "      <td>388.000000</td>\n",
       "      <td>388.000000</td>\n",
       "      <td>388.000000</td>\n",
       "      <td>388.000000</td>\n",
       "      <td>388.000000</td>\n",
       "      <td>388.000000</td>\n",
       "    </tr>\n",
       "    <tr>\n",
       "      <th>mean</th>\n",
       "      <td>24.628866</td>\n",
       "      <td>0.572165</td>\n",
       "      <td>1.412371</td>\n",
       "      <td>1.902062</td>\n",
       "      <td>2.713918</td>\n",
       "      <td>1.069588</td>\n",
       "      <td>3.280928</td>\n",
       "      <td>12.972058</td>\n",
       "      <td>77.600160</td>\n",
       "      <td>0.775773</td>\n",
       "      <td>0.817010</td>\n",
       "    </tr>\n",
       "    <tr>\n",
       "      <th>std</th>\n",
       "      <td>2.975593</td>\n",
       "      <td>0.495404</td>\n",
       "      <td>0.895035</td>\n",
       "      <td>1.329722</td>\n",
       "      <td>1.491790</td>\n",
       "      <td>1.035695</td>\n",
       "      <td>1.351025</td>\n",
       "      <td>0.044489</td>\n",
       "      <td>0.051354</td>\n",
       "      <td>0.417611</td>\n",
       "      <td>0.387157</td>\n",
       "    </tr>\n",
       "    <tr>\n",
       "      <th>min</th>\n",
       "      <td>18.000000</td>\n",
       "      <td>0.000000</td>\n",
       "      <td>0.000000</td>\n",
       "      <td>0.000000</td>\n",
       "      <td>0.000000</td>\n",
       "      <td>0.000000</td>\n",
       "      <td>1.000000</td>\n",
       "      <td>12.865200</td>\n",
       "      <td>77.484200</td>\n",
       "      <td>0.000000</td>\n",
       "      <td>0.000000</td>\n",
       "    </tr>\n",
       "    <tr>\n",
       "      <th>25%</th>\n",
       "      <td>23.000000</td>\n",
       "      <td>0.000000</td>\n",
       "      <td>0.000000</td>\n",
       "      <td>0.000000</td>\n",
       "      <td>1.000000</td>\n",
       "      <td>0.000000</td>\n",
       "      <td>2.000000</td>\n",
       "      <td>12.936900</td>\n",
       "      <td>77.565275</td>\n",
       "      <td>1.000000</td>\n",
       "      <td>1.000000</td>\n",
       "    </tr>\n",
       "    <tr>\n",
       "      <th>50%</th>\n",
       "      <td>24.000000</td>\n",
       "      <td>1.000000</td>\n",
       "      <td>2.000000</td>\n",
       "      <td>3.000000</td>\n",
       "      <td>3.000000</td>\n",
       "      <td>1.000000</td>\n",
       "      <td>3.000000</td>\n",
       "      <td>12.977000</td>\n",
       "      <td>77.592100</td>\n",
       "      <td>1.000000</td>\n",
       "      <td>1.000000</td>\n",
       "    </tr>\n",
       "    <tr>\n",
       "      <th>75%</th>\n",
       "      <td>26.000000</td>\n",
       "      <td>1.000000</td>\n",
       "      <td>2.000000</td>\n",
       "      <td>3.000000</td>\n",
       "      <td>4.000000</td>\n",
       "      <td>2.000000</td>\n",
       "      <td>4.000000</td>\n",
       "      <td>12.997025</td>\n",
       "      <td>77.630900</td>\n",
       "      <td>1.000000</td>\n",
       "      <td>1.000000</td>\n",
       "    </tr>\n",
       "    <tr>\n",
       "      <th>max</th>\n",
       "      <td>33.000000</td>\n",
       "      <td>1.000000</td>\n",
       "      <td>2.000000</td>\n",
       "      <td>3.000000</td>\n",
       "      <td>4.000000</td>\n",
       "      <td>4.000000</td>\n",
       "      <td>6.000000</td>\n",
       "      <td>13.102000</td>\n",
       "      <td>77.758200</td>\n",
       "      <td>1.000000</td>\n",
       "      <td>1.000000</td>\n",
       "    </tr>\n",
       "  </tbody>\n",
       "</table>\n",
       "</div>"
      ],
      "text/plain": [
       "              Age      Gender  Marital Status  Occupation  Monthly Income  \\\n",
       "count  388.000000  388.000000      388.000000  388.000000      388.000000   \n",
       "mean    24.628866    0.572165        1.412371    1.902062        2.713918   \n",
       "std      2.975593    0.495404        0.895035    1.329722        1.491790   \n",
       "min     18.000000    0.000000        0.000000    0.000000        0.000000   \n",
       "25%     23.000000    0.000000        0.000000    0.000000        1.000000   \n",
       "50%     24.000000    1.000000        2.000000    3.000000        3.000000   \n",
       "75%     26.000000    1.000000        2.000000    3.000000        4.000000   \n",
       "max     33.000000    1.000000        2.000000    3.000000        4.000000   \n",
       "\n",
       "       Educational Qualifications  Family size    latitude   longitude  \\\n",
       "count                  388.000000   388.000000  388.000000  388.000000   \n",
       "mean                     1.069588     3.280928   12.972058   77.600160   \n",
       "std                      1.035695     1.351025    0.044489    0.051354   \n",
       "min                      0.000000     1.000000   12.865200   77.484200   \n",
       "25%                      0.000000     2.000000   12.936900   77.565275   \n",
       "50%                      1.000000     3.000000   12.977000   77.592100   \n",
       "75%                      2.000000     4.000000   12.997025   77.630900   \n",
       "max                      4.000000     6.000000   13.102000   77.758200   \n",
       "\n",
       "           Output    Feedback  \n",
       "count  388.000000  388.000000  \n",
       "mean     0.775773    0.817010  \n",
       "std      0.417611    0.387157  \n",
       "min      0.000000    0.000000  \n",
       "25%      1.000000    1.000000  \n",
       "50%      1.000000    1.000000  \n",
       "75%      1.000000    1.000000  \n",
       "max      1.000000    1.000000  "
      ]
     },
     "execution_count": 37,
     "metadata": {},
     "output_type": "execute_result"
    }
   ],
   "source": [
    "df.describe()"
   ]
  },
  {
   "cell_type": "markdown",
   "metadata": {},
   "source": [
    "Let's inspect the data for correlation between the features."
   ]
  },
  {
   "cell_type": "code",
   "execution_count": 38,
   "metadata": {},
   "outputs": [
    {
     "data": {
      "image/png": "[encoded data removed]",
      "text/plain": [
       "<Figure size 2100x1200 with 2 Axes>"
      ]
     },
     "metadata": {},
     "output_type": "display_data"
    }
   ],
   "source": [
    "plt.figure(figsize=(21, 12))\n",
    "sns.heatmap(\n",
    "    df.corr(),\n",
    "    annot=True,\n",
    "    fmt=\"0.2f\",\n",
    "    linecolor=\"black\",\n",
    "    linewidths=\"0.01\",\n",
    "    cmap=\"Blues\",\n",
    "    annot_kws={\"fontsize\": 14},\n",
    ")\n",
    "plt.yticks(fontsize=14, rotation=0)\n",
    "plt.xticks(fontsize=14, rotation=90)\n",
    "plt.show()"
   ]
  },
  {
   "cell_type": "markdown",
   "metadata": {},
   "source": [
    "Highest correlation is 0.62 between Monthly Income and Occupation. Not much of a problemm\n",
    "Let's split the data into train and test"
   ]
  },
  {
   "cell_type": "code",
   "execution_count": 140,
   "metadata": {},
   "outputs": [],
   "source": [
    "X = df.drop(columns=[\"Feedback\"], axis=1)\n",
    "y = df[\"Feedback\"].copy()\n",
    "\n",
    "X_train, X_test, y_train, y_test = train_test_split(\n",
    "    X, y, stratify=y, test_size=0.2, random_state=123\n",
    ")"
   ]
  },
  {
   "cell_type": "markdown",
   "metadata": {},
   "source": [
    "Let's scale the data using StandardScaler."
   ]
  },
  {
   "cell_type": "code",
   "execution_count": 142,
   "metadata": {},
   "outputs": [],
   "source": [
    "std_scaler = StandardScaler()\n",
    "X_train = std_scaler.fit_transform(X_train)\n",
    "X_test = std_scaler.transform(X_test)"
   ]
  },
  {
   "cell_type": "markdown",
   "metadata": {},
   "source": [
    "Let's write functions to evaluate the models since we're using two types of models.\n",
    "This would allow us to reuse the code"
   ]
  },
  {
   "cell_type": "code",
   "execution_count": 143,
   "metadata": {},
   "outputs": [],
   "source": [
    "def model_evaluate(yt, yp):\n",
    "    metrics = {}\n",
    "    metrics[\"accuracy\"] = accuracy_score(yt, yp)\n",
    "    metrics[\"precision\"], metrics[\"recall\"], metrics[\"fscore\"], _ = (\n",
    "        precision_recall_fscore_support(yt, yp, average=\"weighted\")\n",
    "    )\n",
    "\n",
    "    metrics_names = list(metrics.keys())\n",
    "    metrics_values = list(metrics.values())\n",
    "\n",
    "    ax = sns.barplot(x=metrics_names, y=metrics_values, palette=\"viridis\")\n",
    "    plt.title(\"Model Evaluation metrics\")\n",
    "    plt.ylim(0, 1)\n",
    "    plt.ylabel(\"Value\")\n",
    "\n",
    "    for i, v in enumerate(metrics_values):\n",
    "        ax.text(\n",
    "            i, v / 2, f\"{v:.2f}\", ha=\"center\", va=\"center\", color=\"white\", fontsize=12\n",
    "        )\n",
    "    plt.show()\n",
    "\n",
    "\n",
    "def class_report(yt, yp):\n",
    "    cr = pd.DataFrame(classification_report(yt, yp, output_dict=True))\n",
    "    return cr.T.style.background_gradient(axis=0, cmap=\"Blues\")\n",
    "\n",
    "\n",
    "def conf_matrix(yt, yp):\n",
    "    cm = confusion_matrix(yt, yp)\n",
    "    sns.heatmap(\n",
    "        cm, annot=True, fmt=\"0.2f\", linecolor=\"black\", linewidths=\"0.02\", cmap=\"Blues\"\n",
    "    )\n",
    "    plt.title(\"Confusion Matrix\")\n",
    "    plt.ylabel(\"Actual Class\")\n",
    "    plt.xlabel(\"Predicted Class\")\n",
    "    plt.show()\n",
    "\n",
    "\n",
    "def plot_roc(yt, yp):\n",
    "    fpr, tpr, thr = roc_curve(yt, yp)\n",
    "    roc_auc = auc(fpr, tpr)\n",
    "\n",
    "    plt.figure(figsize=(6, 6))\n",
    "    plt.plot(\n",
    "        fpr, tpr, color=\"darkorange\", lw=2, label=f\"roc_curve (area = {roc_auc : 0.3f})\"\n",
    "    )\n",
    "    plt.plot([0.0, 1.0], [0.0, 1.0], color=\"navy\", lw=2, linestyle=\"--\")\n",
    "    plt.xlim([-0.01, 1.05])\n",
    "    plt.ylim([0.0, 1.05])\n",
    "    plt.xlabel(\"False Positive Rate\")\n",
    "    plt.ylabel(\"True Positive Rate\")\n",
    "    plt.title(\"ROC CURVE\")\n",
    "    plt.legend(loc=\"lower right\")\n",
    "    plt.show()"
   ]
  },
  {
   "cell_type": "markdown",
   "metadata": {},
   "source": [
    "### Gradient Boosting Classifier:"
   ]
  },
  {
   "cell_type": "code",
   "execution_count": 145,
   "metadata": {},
   "outputs": [
    {
     "name": "stdout",
     "output_type": "stream",
     "text": [
      "Best Parameters: {'learning_rate': 0.1, 'max_features': 2, 'n_estimators': 260, 'subsample': 0.5}\n",
      "Best Score: 0.8580645161290322\n"
     ]
    }
   ],
   "source": [
    "from sklearn.ensemble import GradientBoostingClassifier\n",
    "\n",
    "\n",
    "gbc = GradientBoostingClassifier()\n",
    "\n",
    "params_grid = {\n",
    "    \"n_estimators\": [20 * n for n in range(1, 21)],\n",
    "    \"learning_rate\": [0.1, 0.01, 0.001, 0.0001],\n",
    "    \"subsample\": [1.0, 0.5],\n",
    "    \"max_features\": [1, 2, 3, 4, 5],\n",
    "}\n",
    "\n",
    "grid_search = GridSearchCV(\n",
    "    estimator=gbc, param_grid=params_grid, cv=5, scoring=\"accuracy\", n_jobs=-1\n",
    ")\n",
    "grid_search.fit(X_train, y_train.values.ravel())\n",
    "\n",
    "print(f\"Best Parameters: {grid_search.best_params_}\")\n",
    "print(f\"Best Score: {grid_search.best_score_}\")"
   ]
  },
  {
   "cell_type": "code",
   "execution_count": null,
   "metadata": {},
   "outputs": [
    {
     "data": {
      "text/html": [
       "<style>#sk-container-id-1 {color: black;background-color: white;}#sk-container-id-1 pre{padding: 0;}#sk-container-id-1 div.sk-toggleable {background-color: white;}#sk-container-id-1 label.sk-toggleable__label {cursor: pointer;display: block;width: 100%;margin-bottom: 0;padding: 0.3em;box-sizing: border-box;text-align: center;}#sk-container-id-1 label.sk-toggleable__label-arrow:before {content: \"▸\";float: left;margin-right: 0.25em;color: #696969;}#sk-container-id-1 label.sk-toggleable__label-arrow:hover:before {color: black;}#sk-container-id-1 div.sk-estimator:hover label.sk-toggleable__label-arrow:before {color: black;}#sk-container-id-1 div.sk-toggleable__content {max-height: 0;max-width: 0;overflow: hidden;text-align: left;background-color: #f0f8ff;}#sk-container-id-1 div.sk-toggleable__content pre {margin: 0.2em;color: black;border-radius: 0.25em;background-color: #f0f8ff;}#sk-container-id-1 input.sk-toggleable__control:checked~div.sk-toggleable__content {max-height: 200px;max-width: 100%;overflow: auto;}#sk-container-id-1 input.sk-toggleable__control:checked~label.sk-toggleable__label-arrow:before {content: \"▾\";}#sk-container-id-1 div.sk-estimator input.sk-toggleable__control:checked~label.sk-toggleable__label {background-color: #d4ebff;}#sk-container-id-1 div.sk-label input.sk-toggleable__control:checked~label.sk-toggleable__label {background-color: #d4ebff;}#sk-container-id-1 input.sk-hidden--visually {border: 0;clip: rect(1px 1px 1px 1px);clip: rect(1px, 1px, 1px, 1px);height: 1px;margin: -1px;overflow: hidden;padding: 0;position: absolute;width: 1px;}#sk-container-id-1 div.sk-estimator {font-family: monospace;background-color: #f0f8ff;border: 1px dotted black;border-radius: 0.25em;box-sizing: border-box;margin-bottom: 0.5em;}#sk-container-id-1 div.sk-estimator:hover {background-color: #d4ebff;}#sk-container-id-1 div.sk-parallel-item::after {content: \"\";width: 100%;border-bottom: 1px solid gray;flex-grow: 1;}#sk-container-id-1 div.sk-label:hover label.sk-toggleable__label {background-color: #d4ebff;}#sk-container-id-1 div.sk-serial::before {content: \"\";position: absolute;border-left: 1px solid gray;box-sizing: border-box;top: 0;bottom: 0;left: 50%;z-index: 0;}#sk-container-id-1 div.sk-serial {display: flex;flex-direction: column;align-items: center;background-color: white;padding-right: 0.2em;padding-left: 0.2em;position: relative;}#sk-container-id-1 div.sk-item {position: relative;z-index: 1;}#sk-container-id-1 div.sk-parallel {display: flex;align-items: stretch;justify-content: center;background-color: white;position: relative;}#sk-container-id-1 div.sk-item::before, #sk-container-id-1 div.sk-parallel-item::before {content: \"\";position: absolute;border-left: 1px solid gray;box-sizing: border-box;top: 0;bottom: 0;left: 50%;z-index: -1;}#sk-container-id-1 div.sk-parallel-item {display: flex;flex-direction: column;z-index: 1;position: relative;background-color: white;}#sk-container-id-1 div.sk-parallel-item:first-child::after {align-self: flex-end;width: 50%;}#sk-container-id-1 div.sk-parallel-item:last-child::after {align-self: flex-start;width: 50%;}#sk-container-id-1 div.sk-parallel-item:only-child::after {width: 0;}#sk-container-id-1 div.sk-dashed-wrapped {border: 1px dashed gray;margin: 0 0.4em 0.5em 0.4em;box-sizing: border-box;padding-bottom: 0.4em;background-color: white;}#sk-container-id-1 div.sk-label label {font-family: monospace;font-weight: bold;display: inline-block;line-height: 1.2em;}#sk-container-id-1 div.sk-label-container {text-align: center;}#sk-container-id-1 div.sk-container {/* jupyter's `normalize.less` sets `[hidden] { display: none; }` but bootstrap.min.css set `[hidden] { display: none !important; }` so we also need the `!important` here to be able to override the default hidden behavior on the sphinx rendered scikit-learn.org. See: https://github.com/scikit-learn/scikit-learn/issues/21755 */display: inline-block !important;position: relative;}#sk-container-id-1 div.sk-text-repr-fallback {display: none;}</style><div id=\"sk-container-id-1\" class=\"sk-top-container\"><div class=\"sk-text-repr-fallback\"><pre>GradientBoostingClassifier(max_features=2, n_estimators=260, subsample=0.5)</pre><b>In a Jupyter environment, please rerun this cell to show the HTML representation or trust the notebook. <br />On GitHub, the HTML representation is unable to render, please try loading this page with nbviewer.org.</b></div><div class=\"sk-container\" hidden><div class=\"sk-item\"><div class=\"sk-estimator sk-toggleable\"><input class=\"sk-toggleable__control sk-hidden--visually\" id=\"sk-estimator-id-1\" type=\"checkbox\" checked><label for=\"sk-estimator-id-1\" class=\"sk-toggleable__label sk-toggleable__label-arrow\">GradientBoostingClassifier</label><div class=\"sk-toggleable__content\"><pre>GradientBoostingClassifier(max_features=2, n_estimators=260, subsample=0.5)</pre></div></div></div></div></div>"
      ],
      "text/plain": [
       "GradientBoostingClassifier(max_features=2, n_estimators=260, subsample=0.5)"
      ]
     },
     "execution_count": 146,
     "metadata": {},
     "output_type": "execute_result"
    }
   ],
   "source": [
    "grid_search.best_estimator_"
   ]
  },
  {
   "cell_type": "code",
   "execution_count": 147,
   "metadata": {},
   "outputs": [
    {
     "data": {
      "text/html": [
       "<style type=\"text/css\">\n",
       "#T_17de5_row0_col0, #T_17de5_row0_col1, #T_17de5_row0_col2, #T_17de5_row2_col3 {\n",
       "  background-color: #f7fbff;\n",
       "  color: #000000;\n",
       "}\n",
       "#T_17de5_row0_col3 {\n",
       "  background-color: #d6e5f4;\n",
       "  color: #000000;\n",
       "}\n",
       "#T_17de5_row1_col0, #T_17de5_row1_col1, #T_17de5_row1_col2, #T_17de5_row3_col3, #T_17de5_row4_col3 {\n",
       "  background-color: #08306b;\n",
       "  color: #f1f1f1;\n",
       "}\n",
       "#T_17de5_row1_col3 {\n",
       "  background-color: #135fa7;\n",
       "  color: #f1f1f1;\n",
       "}\n",
       "#T_17de5_row2_col0 {\n",
       "  background-color: #0b559f;\n",
       "  color: #f1f1f1;\n",
       "}\n",
       "#T_17de5_row2_col1, #T_17de5_row4_col0, #T_17de5_row4_col1, #T_17de5_row4_col2 {\n",
       "  background-color: #125ea6;\n",
       "  color: #f1f1f1;\n",
       "}\n",
       "#T_17de5_row2_col2 {\n",
       "  background-color: #0f5aa3;\n",
       "  color: #f1f1f1;\n",
       "}\n",
       "#T_17de5_row3_col0 {\n",
       "  background-color: #6aaed6;\n",
       "  color: #f1f1f1;\n",
       "}\n",
       "#T_17de5_row3_col1, #T_17de5_row3_col2 {\n",
       "  background-color: #6caed6;\n",
       "  color: #f1f1f1;\n",
       "}\n",
       "</style>\n",
       "<table id=\"T_17de5\">\n",
       "  <thead>\n",
       "    <tr>\n",
       "      <th class=\"blank level0\" >&nbsp;</th>\n",
       "      <th id=\"T_17de5_level0_col0\" class=\"col_heading level0 col0\" >precision</th>\n",
       "      <th id=\"T_17de5_level0_col1\" class=\"col_heading level0 col1\" >recall</th>\n",
       "      <th id=\"T_17de5_level0_col2\" class=\"col_heading level0 col2\" >f1-score</th>\n",
       "      <th id=\"T_17de5_level0_col3\" class=\"col_heading level0 col3\" >support</th>\n",
       "    </tr>\n",
       "  </thead>\n",
       "  <tbody>\n",
       "    <tr>\n",
       "      <th id=\"T_17de5_level0_row0\" class=\"row_heading level0 row0\" >0</th>\n",
       "      <td id=\"T_17de5_row0_col0\" class=\"data row0 col0\" >0.818182</td>\n",
       "      <td id=\"T_17de5_row0_col1\" class=\"data row0 col1\" >0.642857</td>\n",
       "      <td id=\"T_17de5_row0_col2\" class=\"data row0 col2\" >0.720000</td>\n",
       "      <td id=\"T_17de5_row0_col3\" class=\"data row0 col3\" >14.000000</td>\n",
       "    </tr>\n",
       "    <tr>\n",
       "      <th id=\"T_17de5_level0_row1\" class=\"row_heading level0 row1\" >1</th>\n",
       "      <td id=\"T_17de5_row1_col0\" class=\"data row1 col0\" >0.925373</td>\n",
       "      <td id=\"T_17de5_row1_col1\" class=\"data row1 col1\" >0.968750</td>\n",
       "      <td id=\"T_17de5_row1_col2\" class=\"data row1 col2\" >0.946565</td>\n",
       "      <td id=\"T_17de5_row1_col3\" class=\"data row1 col3\" >64.000000</td>\n",
       "    </tr>\n",
       "    <tr>\n",
       "      <th id=\"T_17de5_level0_row2\" class=\"row_heading level0 row2\" >accuracy</th>\n",
       "      <td id=\"T_17de5_row2_col0\" class=\"data row2 col0\" >0.910256</td>\n",
       "      <td id=\"T_17de5_row2_col1\" class=\"data row2 col1\" >0.910256</td>\n",
       "      <td id=\"T_17de5_row2_col2\" class=\"data row2 col2\" >0.910256</td>\n",
       "      <td id=\"T_17de5_row2_col3\" class=\"data row2 col3\" >0.910256</td>\n",
       "    </tr>\n",
       "    <tr>\n",
       "      <th id=\"T_17de5_level0_row3\" class=\"row_heading level0 row3\" >macro avg</th>\n",
       "      <td id=\"T_17de5_row3_col0\" class=\"data row3 col0\" >0.871777</td>\n",
       "      <td id=\"T_17de5_row3_col1\" class=\"data row3 col1\" >0.805804</td>\n",
       "      <td id=\"T_17de5_row3_col2\" class=\"data row3 col2\" >0.833282</td>\n",
       "      <td id=\"T_17de5_row3_col3\" class=\"data row3 col3\" >78.000000</td>\n",
       "    </tr>\n",
       "    <tr>\n",
       "      <th id=\"T_17de5_level0_row4\" class=\"row_heading level0 row4\" >weighted avg</th>\n",
       "      <td id=\"T_17de5_row4_col0\" class=\"data row4 col0\" >0.906134</td>\n",
       "      <td id=\"T_17de5_row4_col1\" class=\"data row4 col1\" >0.910256</td>\n",
       "      <td id=\"T_17de5_row4_col2\" class=\"data row4 col2\" >0.905899</td>\n",
       "      <td id=\"T_17de5_row4_col3\" class=\"data row4 col3\" >78.000000</td>\n",
       "    </tr>\n",
       "  </tbody>\n",
       "</table>\n"
      ],
      "text/plain": [
       "<pandas.io.formats.style.Styler at 0x12c6b866650>"
      ]
     },
     "execution_count": 147,
     "metadata": {},
     "output_type": "execute_result"
    }
   ],
   "source": [
    "y_pred = grid_search.predict(X_test)\n",
    "y_pred_prob = grid_search.predict_proba(X_test)\n",
    "class_report(y_test, y_pred)"
   ]
  },
  {
   "cell_type": "code",
   "execution_count": 148,
   "metadata": {},
   "outputs": [
    {
     "name": "stderr",
     "output_type": "stream",
     "text": [
      "C:\\Users\\HP\\AppData\\Local\\Temp\\ipykernel_19816\\3526893169.py:11: FutureWarning:\n",
      "\n",
      "\n",
      "\n",
      "Passing `palette` without assigning `hue` is deprecated and will be removed in v0.14.0. Assign the `x` variable to `hue` and set `legend=False` for the same effect.\n",
      "\n",
      "\n"
     ]
    },
    {
     "data": {
      "image/png": "[encoded data removed]",
      "text/plain": [
       "<Figure size 640x480 with 1 Axes>"
      ]
     },
     "metadata": {},
     "output_type": "display_data"
    }
   ],
   "source": [
    "model_evaluate(y_test, y_pred)"
   ]
  },
  {
   "cell_type": "code",
   "execution_count": 149,
   "metadata": {},
   "outputs": [
    {
     "data": {
      "image/png": "[encoded data removed]",
      "text/plain": [
       "<Figure size 640x480 with 2 Axes>"
      ]
     },
     "metadata": {},
     "output_type": "display_data"
    }
   ],
   "source": [
    "conf_matrix(y_test, y_pred)"
   ]
  },
  {
   "cell_type": "code",
   "execution_count": 150,
   "metadata": {},
   "outputs": [
    {
     "data": {
      "image/png": "[encoded data removed]",
      "text/plain": [
       "<Figure size 600x600 with 1 Axes>"
      ]
     },
     "metadata": {},
     "output_type": "display_data"
    }
   ],
   "source": [
    "plot_roc(y_test, y_pred_prob[:,1])"
   ]
  },
  {
   "cell_type": "markdown",
   "metadata": {},
   "source": [
    "### Ada Boosting Classifier:"
   ]
  },
  {
   "cell_type": "code",
   "execution_count": 152,
   "metadata": {},
   "outputs": [
    {
     "name": "stdout",
     "output_type": "stream",
     "text": [
      "Best Parameters: {'estimator__criterion': 'entropy', 'learning_rate': 0.001, 'n_estimators': 200}\n",
      "Best Score: 0.8451612903225806\n"
     ]
    }
   ],
   "source": [
    "from sklearn.ensemble import AdaBoostClassifier\n",
    "from sklearn.tree import DecisionTreeClassifier\n",
    "\n",
    "abc = AdaBoostClassifier(DecisionTreeClassifier(random_state=12))\n",
    "\n",
    "params_grid = {\n",
    "    \"n_estimators\": [20 * n for n in range(1, 21)],\n",
    "    \"learning_rate\": [0.1, 0.01, 0.001, 0.0001],\n",
    "    \"estimator__criterion\": [\"gini\", \"entropy\"],\n",
    "}\n",
    "\n",
    "grid_search = GridSearchCV(\n",
    "    estimator=abc, param_grid=params_grid, cv=5, scoring=\"accuracy\", n_jobs=-1\n",
    ")\n",
    "\n",
    "grid_search.fit(X_train, y_train.values.ravel())\n",
    "print(f\"Best Parameters: {grid_search.best_params_}\")\n",
    "print(f\"Best Score: {grid_search.best_score_}\")"
   ]
  },
  {
   "cell_type": "code",
   "execution_count": 153,
   "metadata": {},
   "outputs": [
    {
     "data": {
      "text/html": [
       "<style>#sk-container-id-2 {color: black;background-color: white;}#sk-container-id-2 pre{padding: 0;}#sk-container-id-2 div.sk-toggleable {background-color: white;}#sk-container-id-2 label.sk-toggleable__label {cursor: pointer;display: block;width: 100%;margin-bottom: 0;padding: 0.3em;box-sizing: border-box;text-align: center;}#sk-container-id-2 label.sk-toggleable__label-arrow:before {content: \"▸\";float: left;margin-right: 0.25em;color: #696969;}#sk-container-id-2 label.sk-toggleable__label-arrow:hover:before {color: black;}#sk-container-id-2 div.sk-estimator:hover label.sk-toggleable__label-arrow:before {color: black;}#sk-container-id-2 div.sk-toggleable__content {max-height: 0;max-width: 0;overflow: hidden;text-align: left;background-color: #f0f8ff;}#sk-container-id-2 div.sk-toggleable__content pre {margin: 0.2em;color: black;border-radius: 0.25em;background-color: #f0f8ff;}#sk-container-id-2 input.sk-toggleable__control:checked~div.sk-toggleable__content {max-height: 200px;max-width: 100%;overflow: auto;}#sk-container-id-2 input.sk-toggleable__control:checked~label.sk-toggleable__label-arrow:before {content: \"▾\";}#sk-container-id-2 div.sk-estimator input.sk-toggleable__control:checked~label.sk-toggleable__label {background-color: #d4ebff;}#sk-container-id-2 div.sk-label input.sk-toggleable__control:checked~label.sk-toggleable__label {background-color: #d4ebff;}#sk-container-id-2 input.sk-hidden--visually {border: 0;clip: rect(1px 1px 1px 1px);clip: rect(1px, 1px, 1px, 1px);height: 1px;margin: -1px;overflow: hidden;padding: 0;position: absolute;width: 1px;}#sk-container-id-2 div.sk-estimator {font-family: monospace;background-color: #f0f8ff;border: 1px dotted black;border-radius: 0.25em;box-sizing: border-box;margin-bottom: 0.5em;}#sk-container-id-2 div.sk-estimator:hover {background-color: #d4ebff;}#sk-container-id-2 div.sk-parallel-item::after {content: \"\";width: 100%;border-bottom: 1px solid gray;flex-grow: 1;}#sk-container-id-2 div.sk-label:hover label.sk-toggleable__label {background-color: #d4ebff;}#sk-container-id-2 div.sk-serial::before {content: \"\";position: absolute;border-left: 1px solid gray;box-sizing: border-box;top: 0;bottom: 0;left: 50%;z-index: 0;}#sk-container-id-2 div.sk-serial {display: flex;flex-direction: column;align-items: center;background-color: white;padding-right: 0.2em;padding-left: 0.2em;position: relative;}#sk-container-id-2 div.sk-item {position: relative;z-index: 1;}#sk-container-id-2 div.sk-parallel {display: flex;align-items: stretch;justify-content: center;background-color: white;position: relative;}#sk-container-id-2 div.sk-item::before, #sk-container-id-2 div.sk-parallel-item::before {content: \"\";position: absolute;border-left: 1px solid gray;box-sizing: border-box;top: 0;bottom: 0;left: 50%;z-index: -1;}#sk-container-id-2 div.sk-parallel-item {display: flex;flex-direction: column;z-index: 1;position: relative;background-color: white;}#sk-container-id-2 div.sk-parallel-item:first-child::after {align-self: flex-end;width: 50%;}#sk-container-id-2 div.sk-parallel-item:last-child::after {align-self: flex-start;width: 50%;}#sk-container-id-2 div.sk-parallel-item:only-child::after {width: 0;}#sk-container-id-2 div.sk-dashed-wrapped {border: 1px dashed gray;margin: 0 0.4em 0.5em 0.4em;box-sizing: border-box;padding-bottom: 0.4em;background-color: white;}#sk-container-id-2 div.sk-label label {font-family: monospace;font-weight: bold;display: inline-block;line-height: 1.2em;}#sk-container-id-2 div.sk-label-container {text-align: center;}#sk-container-id-2 div.sk-container {/* jupyter's `normalize.less` sets `[hidden] { display: none; }` but bootstrap.min.css set `[hidden] { display: none !important; }` so we also need the `!important` here to be able to override the default hidden behavior on the sphinx rendered scikit-learn.org. See: https://github.com/scikit-learn/scikit-learn/issues/21755 */display: inline-block !important;position: relative;}#sk-container-id-2 div.sk-text-repr-fallback {display: none;}</style><div id=\"sk-container-id-2\" class=\"sk-top-container\"><div class=\"sk-text-repr-fallback\"><pre>AdaBoostClassifier(estimator=DecisionTreeClassifier(criterion=&#x27;entropy&#x27;,\n",
       "                                                    random_state=12),\n",
       "                   learning_rate=0.001, n_estimators=200)</pre><b>In a Jupyter environment, please rerun this cell to show the HTML representation or trust the notebook. <br />On GitHub, the HTML representation is unable to render, please try loading this page with nbviewer.org.</b></div><div class=\"sk-container\" hidden><div class=\"sk-item sk-dashed-wrapped\"><div class=\"sk-label-container\"><div class=\"sk-label sk-toggleable\"><input class=\"sk-toggleable__control sk-hidden--visually\" id=\"sk-estimator-id-2\" type=\"checkbox\" ><label for=\"sk-estimator-id-2\" class=\"sk-toggleable__label sk-toggleable__label-arrow\">AdaBoostClassifier</label><div class=\"sk-toggleable__content\"><pre>AdaBoostClassifier(estimator=DecisionTreeClassifier(criterion=&#x27;entropy&#x27;,\n",
       "                                                    random_state=12),\n",
       "                   learning_rate=0.001, n_estimators=200)</pre></div></div></div><div class=\"sk-parallel\"><div class=\"sk-parallel-item\"><div class=\"sk-item\"><div class=\"sk-label-container\"><div class=\"sk-label sk-toggleable\"><input class=\"sk-toggleable__control sk-hidden--visually\" id=\"sk-estimator-id-3\" type=\"checkbox\" ><label for=\"sk-estimator-id-3\" class=\"sk-toggleable__label sk-toggleable__label-arrow\">estimator: DecisionTreeClassifier</label><div class=\"sk-toggleable__content\"><pre>DecisionTreeClassifier(criterion=&#x27;entropy&#x27;, random_state=12)</pre></div></div></div><div class=\"sk-serial\"><div class=\"sk-item\"><div class=\"sk-estimator sk-toggleable\"><input class=\"sk-toggleable__control sk-hidden--visually\" id=\"sk-estimator-id-4\" type=\"checkbox\" ><label for=\"sk-estimator-id-4\" class=\"sk-toggleable__label sk-toggleable__label-arrow\">DecisionTreeClassifier</label><div class=\"sk-toggleable__content\"><pre>DecisionTreeClassifier(criterion=&#x27;entropy&#x27;, random_state=12)</pre></div></div></div></div></div></div></div></div></div></div>"
      ],
      "text/plain": [
       "AdaBoostClassifier(estimator=DecisionTreeClassifier(criterion='entropy',\n",
       "                                                    random_state=12),\n",
       "                   learning_rate=0.001, n_estimators=200)"
      ]
     },
     "execution_count": 153,
     "metadata": {},
     "output_type": "execute_result"
    }
   ],
   "source": [
    "grid_search.best_estimator_"
   ]
  },
  {
   "cell_type": "code",
   "execution_count": 154,
   "metadata": {},
   "outputs": [
    {
     "data": {
      "text/html": [
       "<style type=\"text/css\">\n",
       "#T_abb47_row0_col0, #T_abb47_row0_col1, #T_abb47_row0_col2, #T_abb47_row2_col3 {\n",
       "  background-color: #f7fbff;\n",
       "  color: #000000;\n",
       "}\n",
       "#T_abb47_row0_col3 {\n",
       "  background-color: #d6e5f4;\n",
       "  color: #000000;\n",
       "}\n",
       "#T_abb47_row1_col0, #T_abb47_row1_col1, #T_abb47_row1_col2, #T_abb47_row3_col3, #T_abb47_row4_col3 {\n",
       "  background-color: #08306b;\n",
       "  color: #f1f1f1;\n",
       "}\n",
       "#T_abb47_row1_col3 {\n",
       "  background-color: #135fa7;\n",
       "  color: #f1f1f1;\n",
       "}\n",
       "#T_abb47_row2_col0 {\n",
       "  background-color: #0e58a2;\n",
       "  color: #f1f1f1;\n",
       "}\n",
       "#T_abb47_row2_col1, #T_abb47_row4_col0, #T_abb47_row4_col1, #T_abb47_row4_col2 {\n",
       "  background-color: #125ea6;\n",
       "  color: #f1f1f1;\n",
       "}\n",
       "#T_abb47_row2_col2 {\n",
       "  background-color: #105ba4;\n",
       "  color: #f1f1f1;\n",
       "}\n",
       "#T_abb47_row3_col0, #T_abb47_row3_col1, #T_abb47_row3_col2 {\n",
       "  background-color: #6aaed6;\n",
       "  color: #f1f1f1;\n",
       "}\n",
       "</style>\n",
       "<table id=\"T_abb47\">\n",
       "  <thead>\n",
       "    <tr>\n",
       "      <th class=\"blank level0\" >&nbsp;</th>\n",
       "      <th id=\"T_abb47_level0_col0\" class=\"col_heading level0 col0\" >precision</th>\n",
       "      <th id=\"T_abb47_level0_col1\" class=\"col_heading level0 col1\" >recall</th>\n",
       "      <th id=\"T_abb47_level0_col2\" class=\"col_heading level0 col2\" >f1-score</th>\n",
       "      <th id=\"T_abb47_level0_col3\" class=\"col_heading level0 col3\" >support</th>\n",
       "    </tr>\n",
       "  </thead>\n",
       "  <tbody>\n",
       "    <tr>\n",
       "      <th id=\"T_abb47_level0_row0\" class=\"row_heading level0 row0\" >0</th>\n",
       "      <td id=\"T_abb47_row0_col0\" class=\"data row0 col0\" >0.833333</td>\n",
       "      <td id=\"T_abb47_row0_col1\" class=\"data row0 col1\" >0.714286</td>\n",
       "      <td id=\"T_abb47_row0_col2\" class=\"data row0 col2\" >0.769231</td>\n",
       "      <td id=\"T_abb47_row0_col3\" class=\"data row0 col3\" >14.000000</td>\n",
       "    </tr>\n",
       "    <tr>\n",
       "      <th id=\"T_abb47_level0_row1\" class=\"row_heading level0 row1\" >1</th>\n",
       "      <td id=\"T_abb47_row1_col0\" class=\"data row1 col0\" >0.939394</td>\n",
       "      <td id=\"T_abb47_row1_col1\" class=\"data row1 col1\" >0.968750</td>\n",
       "      <td id=\"T_abb47_row1_col2\" class=\"data row1 col2\" >0.953846</td>\n",
       "      <td id=\"T_abb47_row1_col3\" class=\"data row1 col3\" >64.000000</td>\n",
       "    </tr>\n",
       "    <tr>\n",
       "      <th id=\"T_abb47_level0_row2\" class=\"row_heading level0 row2\" >accuracy</th>\n",
       "      <td id=\"T_abb47_row2_col0\" class=\"data row2 col0\" >0.923077</td>\n",
       "      <td id=\"T_abb47_row2_col1\" class=\"data row2 col1\" >0.923077</td>\n",
       "      <td id=\"T_abb47_row2_col2\" class=\"data row2 col2\" >0.923077</td>\n",
       "      <td id=\"T_abb47_row2_col3\" class=\"data row2 col3\" >0.923077</td>\n",
       "    </tr>\n",
       "    <tr>\n",
       "      <th id=\"T_abb47_level0_row3\" class=\"row_heading level0 row3\" >macro avg</th>\n",
       "      <td id=\"T_abb47_row3_col0\" class=\"data row3 col0\" >0.886364</td>\n",
       "      <td id=\"T_abb47_row3_col1\" class=\"data row3 col1\" >0.841518</td>\n",
       "      <td id=\"T_abb47_row3_col2\" class=\"data row3 col2\" >0.861538</td>\n",
       "      <td id=\"T_abb47_row3_col3\" class=\"data row3 col3\" >78.000000</td>\n",
       "    </tr>\n",
       "    <tr>\n",
       "      <th id=\"T_abb47_level0_row4\" class=\"row_heading level0 row4\" >weighted avg</th>\n",
       "      <td id=\"T_abb47_row4_col0\" class=\"data row4 col0\" >0.920357</td>\n",
       "      <td id=\"T_abb47_row4_col1\" class=\"data row4 col1\" >0.923077</td>\n",
       "      <td id=\"T_abb47_row4_col2\" class=\"data row4 col2\" >0.920710</td>\n",
       "      <td id=\"T_abb47_row4_col3\" class=\"data row4 col3\" >78.000000</td>\n",
       "    </tr>\n",
       "  </tbody>\n",
       "</table>\n"
      ],
      "text/plain": [
       "<pandas.io.formats.style.Styler at 0x12c6b9f96d0>"
      ]
     },
     "execution_count": 154,
     "metadata": {},
     "output_type": "execute_result"
    }
   ],
   "source": [
    "y_pred = grid_search.predict(X_test)\n",
    "y_pred_prob = grid_search.predict_proba(X_test)\n",
    "class_report(y_test, y_pred)"
   ]
  },
  {
   "cell_type": "code",
   "execution_count": 155,
   "metadata": {},
   "outputs": [
    {
     "name": "stderr",
     "output_type": "stream",
     "text": [
      "C:\\Users\\HP\\AppData\\Local\\Temp\\ipykernel_19816\\3526893169.py:11: FutureWarning:\n",
      "\n",
      "\n",
      "\n",
      "Passing `palette` without assigning `hue` is deprecated and will be removed in v0.14.0. Assign the `x` variable to `hue` and set `legend=False` for the same effect.\n",
      "\n",
      "\n"
     ]
    },
    {
     "data": {
      "image/png": "[encoded data removed]",
      "text/plain": [
       "<Figure size 640x480 with 1 Axes>"
      ]
     },
     "metadata": {},
     "output_type": "display_data"
    }
   ],
   "source": [
    "model_evaluate(y_test, y_pred)"
   ]
  },
  {
   "cell_type": "code",
   "execution_count": 156,
   "metadata": {},
   "outputs": [
    {
     "data": {
      "image/png": "[encoded data removed]",
      "text/plain": [
       "<Figure size 640x480 with 2 Axes>"
      ]
     },
     "metadata": {},
     "output_type": "display_data"
    }
   ],
   "source": [
    "conf_matrix(y_test, y_pred)"
   ]
  },
  {
   "cell_type": "code",
   "execution_count": 157,
   "metadata": {},
   "outputs": [
    {
     "data": {
      "image/png": "[encoded data removed]",
      "text/plain": [
       "<Figure size 600x600 with 1 Axes>"
      ]
     },
     "metadata": {},
     "output_type": "display_data"
    }
   ],
   "source": [
    "plot_roc(y_test, y_pred_prob[:,1])"
   ]
  },
  {
   "cell_type": "markdown",
   "metadata": {},
   "source": [
    "### Conclusion:\n",
    "Which performs better? Which would we use?"
   ]
  },
  {
   "cell_type": "markdown",
   "metadata": {},
   "source": [
    "Adaboost does better so we'd store it and use for the app."
   ]
  },
  {
   "cell_type": "code",
   "execution_count": null,
   "metadata": {},
   "outputs": [],
   "source": [
    "# Save the best estimator, the scaller and encoder as pickle files so we'd load into the app\n",
    "import pickle\n",
    "\n",
    "# Change the path for the storage according to the dir structure of your computer and where you wanna store\n",
    "with open(\"./model/model.pkl\", \"wb\") as f:\n",
    "    pickle.dump(grid_search.best_estimator_, f)\n",
    "\n",
    "class_report(y_test, y_pred).to_html(\"./model/model_report.html\")\n",
    "\n",
    "with open(\"./model/std_scaler.pkl\", \"wb\") as f:\n",
    "    pickle.dump(std_scaler, f)\n",
    "\n",
    "with open(\"./model/label_encoder_dict.pkl\", \"wb\") as f:\n",
    "    pickle.dump(dict_label_encoder, f)"
   ]
  },
  {
   "cell_type": "code",
   "execution_count": null,
   "metadata": {},
   "outputs": [],
   "source": []
  }
 ],
 "metadata": {
  "kernelspec": {
   "display_name": "venv",
   "language": "python",
   "name": "python3"
  },
  "language_info": {
   "codemirror_mode": {
    "name": "ipython",
    "version": 3
   },
   "file_extension": ".py",
   "mimetype": "text/x-python",
   "name": "python",
   "nbconvert_exporter": "python",
   "pygments_lexer": "ipython3",
   "version": "3.11.2"
  }
 },
 "nbformat": 4,
 "nbformat_minor": 2
}
